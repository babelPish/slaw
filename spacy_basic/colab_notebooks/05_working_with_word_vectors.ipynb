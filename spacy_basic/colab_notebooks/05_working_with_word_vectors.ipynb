{
  "nbformat": 4,
  "nbformat_minor": 0,
  "metadata": {
    "colab": {
      "name": "05_working_with_word_vectors.ipynb",
      "provenance": [],
      "collapsed_sections": [],
      "authorship_tag": "ABX9TyP5fu6I6KWoft48KyJt3SmC",
      "include_colab_link": true
    },
    "kernelspec": {
      "name": "python3",
      "display_name": "Python 3"
    }
  },
  "cells": [
    {
      "cell_type": "markdown",
      "metadata": {
        "id": "view-in-github",
        "colab_type": "text"
      },
      "source": [
        "<a href=\"https://colab.research.google.com/github/babelPish/slaw/blob/master/spacy_basic/colab_notebooks/05_working_with_word_vectors.ipynb\" target=\"_parent\"><img src=\"https://colab.research.google.com/assets/colab-badge.svg\" alt=\"Open In Colab\"/></a>"
      ]
    },
    {
      "cell_type": "markdown",
      "metadata": {
        "id": "pWsJ4JICkNb_",
        "colab_type": "text"
      },
      "source": [
        "#5. Woking with word vectors\n",
        "* 바벨피쉬 : Slaw - Spacy 기초\n",
        "* 김무성"
      ]
    },
    {
      "cell_type": "code",
      "metadata": {
        "id": "tE0kFYFVir_z",
        "colab_type": "code",
        "colab": {
          "base_uri": "https://localhost:8080/",
          "height": 34
        },
        "outputId": "a15d96c6-ccc3-433e-982d-dff76c9102bf"
      },
      "source": [
        "!python -V"
      ],
      "execution_count": 2,
      "outputs": [
        {
          "output_type": "stream",
          "text": [
            "Python 3.6.9\n"
          ],
          "name": "stdout"
        }
      ]
    },
    {
      "cell_type": "code",
      "metadata": {
        "id": "LALDLtnn_Yyu",
        "colab_type": "code",
        "colab": {
          "base_uri": "https://localhost:8080/",
          "height": 37
        },
        "outputId": "8ee9d905-1847-4076-b564-951b7a0c678a"
      },
      "source": [
        "# 버전이 2.2.4 일것. 이 버전에 맞춰서 korean word2vec 실습모델 셋팅함.\n",
        "import spacy\n",
        "spacy.__version__ "
      ],
      "execution_count": 3,
      "outputs": [
        {
          "output_type": "execute_result",
          "data": {
            "application/vnd.google.colaboratory.intrinsic": {
              "type": "string"
            },
            "text/plain": [
              "'2.2.4'"
            ]
          },
          "metadata": {
            "tags": []
          },
          "execution_count": 3
        }
      ]
    },
    {
      "cell_type": "markdown",
      "metadata": {
        "id": "nps_MVGjmXD5",
        "colab_type": "text"
      },
      "source": [
        "-------------"
      ]
    },
    {
      "cell_type": "markdown",
      "metadata": {
        "id": "C91hiLV1klp3",
        "colab_type": "text"
      },
      "source": [
        "# Installation"
      ]
    },
    {
      "cell_type": "markdown",
      "metadata": {
        "id": "kQoTqUM2MNho",
        "colab_type": "text"
      },
      "source": [
        "#### spaCy Lanage Models"
      ]
    },
    {
      "cell_type": "code",
      "metadata": {
        "id": "guky7fxPMSIf",
        "colab_type": "code",
        "colab": {}
      },
      "source": [
        "# 이미 기본 en 모델은 다운로드 되어 있으나, 혹시 없으면\n",
        "# !python -m spacy -m en "
      ],
      "execution_count": 165,
      "outputs": []
    },
    {
      "cell_type": "markdown",
      "metadata": {
        "id": "WI3o0lXCIgiw",
        "colab_type": "text"
      },
      "source": [
        "#### 시각화 도구\n",
        "* 구글 Colab에서 한글 문제 대응하기 - https://pinkwink.kr/1255\n",
        "* https://rasahq.github.io/whatlies/\n",
        "* https://spacy.io/universe/project/whatlies"
      ]
    },
    {
      "cell_type": "code",
      "metadata": {
        "id": "G03F1wddP3DG",
        "colab_type": "code",
        "colab": {
          "base_uri": "https://localhost:8080/",
          "height": 255
        },
        "outputId": "5fa7d6be-f86d-4d8a-87c1-3b99005a6b0c"
      },
      "source": [
        "# -- 한글폰트 지원을 위한 설치\n",
        "%config InlineBackend.figure_format = 'retina'\n",
        " \n",
        "!apt -qq -y install fonts-nanum\n",
        " "
      ],
      "execution_count": 178,
      "outputs": [
        {
          "output_type": "stream",
          "text": [
            "The following package was automatically installed and is no longer required:\n",
            "  libnvidia-common-440\n",
            "Use 'apt autoremove' to remove it.\n",
            "The following NEW packages will be installed:\n",
            "  fonts-nanum\n",
            "0 upgraded, 1 newly installed, 0 to remove and 7 not upgraded.\n",
            "Need to get 9,604 kB of archives.\n",
            "After this operation, 29.5 MB of additional disk space will be used.\n",
            "Selecting previously unselected package fonts-nanum.\n",
            "(Reading database ... 144616 files and directories currently installed.)\n",
            "Preparing to unpack .../fonts-nanum_20170925-1_all.deb ...\n",
            "Unpacking fonts-nanum (20170925-1) ...\n",
            "Setting up fonts-nanum (20170925-1) ...\n",
            "Processing triggers for fontconfig (2.12.6-0ubuntu2) ...\n"
          ],
          "name": "stdout"
        }
      ]
    },
    {
      "cell_type": "code",
      "metadata": {
        "id": "8x1GmMrzRg3l",
        "colab_type": "code",
        "colab": {}
      },
      "source": [
        "import matplotlib as mpl\n",
        "import matplotlib.pyplot as plt\n",
        "\n",
        "import matplotlib.font_manager as fm\n",
        "fontpath = '/usr/share/fonts/truetype/nanum/NanumBarunGothic.ttf'\n",
        "font = fm.FontProperties(fname=fontpath, size=9)\n",
        "plt.rc('font', family='NanumBarunGothic') \n",
        "mpl.font_manager._rebuild()"
      ],
      "execution_count": 33,
      "outputs": []
    },
    {
      "cell_type": "code",
      "metadata": {
        "id": "IyXZgBQgSAd-",
        "colab_type": "code",
        "colab": {
          "base_uri": "https://localhost:8080/",
          "height": 51
        },
        "outputId": "3e6b1c4f-253e-4502-a166-afd41043ff85"
      },
      "source": [
        "# 현재 설정되어 있는 폰트 사이즈와 글꼴을 알아보자\n",
        "!python --version\n",
        "def current_font():\n",
        "  print(f\"설정 폰트 글꼴: {plt.rcParams['font.family']}, 설정 폰트 사이즈: {plt.rcParams['font.size']}\")  # 파이썬 3.6 이상 사용가능하다\n",
        "        \n",
        "current_font()"
      ],
      "execution_count": 34,
      "outputs": [
        {
          "output_type": "stream",
          "text": [
            "Python 3.6.9\n",
            "설정 폰트 글꼴: ['NanumBarunGothic'], 설정 폰트 사이즈: 10.0\n"
          ],
          "name": "stdout"
        }
      ]
    },
    {
      "cell_type": "code",
      "metadata": {
        "id": "8OIU11fUIivC",
        "colab_type": "code",
        "colab": {}
      },
      "source": [
        "# -- whatlies\n",
        "!pip install whatlies"
      ],
      "execution_count": null,
      "outputs": []
    },
    {
      "cell_type": "markdown",
      "metadata": {
        "id": "BDdyWXn1IscF",
        "colab_type": "text"
      },
      "source": [
        "#### 한국어 지원"
      ]
    },
    {
      "cell_type": "code",
      "metadata": {
        "id": "AZBumYjUmI2H",
        "colab_type": "code",
        "colab": {}
      },
      "source": [
        "#spacy는 현재 colab에서는 기본 설치되어 있다. 한국어 지원만 다음 과정을 따르면 된다."
      ],
      "execution_count": null,
      "outputs": []
    },
    {
      "cell_type": "code",
      "metadata": {
        "id": "voy1IJoblAUA",
        "colab_type": "code",
        "colab": {}
      },
      "source": [
        "# 한국어 형태소 분석을 위한 mecab-ko 설치가 필요하다.\n",
        "#remove \" > /dev/null 2>&1\" to see what is going on under the hood\n",
        "!git clone https://github.com/SOMJANG/Mecab-ko-for-Google-Colab.git > /dev/null 2>&1"
      ],
      "execution_count": 7,
      "outputs": []
    },
    {
      "cell_type": "code",
      "metadata": {
        "id": "T8g9V0WJlQTT",
        "colab_type": "code",
        "colab": {
          "base_uri": "https://localhost:8080/",
          "height": 34
        },
        "outputId": "4d29f80b-ab01-434d-a89f-21b97c79c3fc"
      },
      "source": [
        "cd Mecab-ko-for-Google-Colab"
      ],
      "execution_count": 9,
      "outputs": [
        {
          "output_type": "stream",
          "text": [
            "/content/Mecab-ko-for-Google-Colab\n"
          ],
          "name": "stdout"
        }
      ]
    },
    {
      "cell_type": "code",
      "metadata": {
        "id": "JX8T9oYpkkub",
        "colab_type": "code",
        "colab": {}
      },
      "source": [
        "!bash install_mecab-ko_on_colab190912.sh > /dev/null 2>&1"
      ],
      "execution_count": 11,
      "outputs": []
    },
    {
      "cell_type": "code",
      "metadata": {
        "id": "c7WuGokFkpaR",
        "colab_type": "code",
        "colab": {}
      },
      "source": [
        "# natto-py를 설치해야 mecab-ko를 spaCy에 연동가능하다.\n",
        "!pip install natto-py > /dev/null 2>&1"
      ],
      "execution_count": 12,
      "outputs": []
    },
    {
      "cell_type": "code",
      "metadata": {
        "id": "kZlJi4UfkrZm",
        "colab_type": "code",
        "colab": {
          "base_uri": "https://localhost:8080/",
          "height": 102
        },
        "outputId": "63e57d68-6ddc-4587-e086-67cabf615c31"
      },
      "source": [
        "# 한국어 처리 가능여부 테스트. 이 코드가 제대로 실행되면 spaCy 한국어 지원이 제대로 된 것이다.\n",
        "from spacy.lang.ko import Korean\n",
        "\n",
        "nlp_ko = Korean()\n",
        "\n",
        "doc = nlp_ko(u'이것은 문장이다') #Creates a Doc object \n",
        "\n",
        "for token in doc:  \n",
        "    print(token.text, token.pos_, token.tag_) #prints the text and POS"
      ],
      "execution_count": 13,
      "outputs": [
        {
          "output_type": "stream",
          "text": [
            "이것 PRON NP\n",
            "은 ADP JX\n",
            "문장 NOUN NNG\n",
            "이 ADP VCP\n",
            "다 X EC\n"
          ],
          "name": "stdout"
        }
      ]
    },
    {
      "cell_type": "code",
      "metadata": {
        "id": "oLWcGA5orWgU",
        "colab_type": "code",
        "colab": {
          "base_uri": "https://localhost:8080/",
          "height": 34
        },
        "outputId": "b3a6bdb4-35d2-49f9-a647-c60e73d52619"
      },
      "source": [
        "cd /content"
      ],
      "execution_count": 130,
      "outputs": [
        {
          "output_type": "stream",
          "text": [
            "/content\n"
          ],
          "name": "stdout"
        }
      ]
    },
    {
      "cell_type": "markdown",
      "metadata": {
        "id": "I1mxzGZkmUlY",
        "colab_type": "text"
      },
      "source": [
        "---------"
      ]
    },
    {
      "cell_type": "markdown",
      "metadata": {
        "id": "LohtJAyw8B2X",
        "colab_type": "text"
      },
      "source": [
        "-------------"
      ]
    },
    {
      "cell_type": "markdown",
      "metadata": {
        "id": "i3Q73Bna8DhE",
        "colab_type": "text"
      },
      "source": [
        "# Pretrained 한국어 Word2Vec을 spaCy에서 사용하기."
      ]
    },
    {
      "cell_type": "markdown",
      "metadata": {
        "id": "8srFPoigkXxO",
        "colab_type": "text"
      },
      "source": [
        "#### 참고 \n",
        "* spaCy official doc. Word Vectors and Semantic Similarity - https://spacy.io/usage/vectors-similarity\n",
        "* gensim official doc. models.keyedvectors – Store and query word vectors - https://radimrehurek.com/gensim/models/keyedvectors.html\n",
        "* GENSIM WORD2VEC SIMPLE USAGE - https://gorakgarak.tistory.com/1330\n",
        "* 딥 러닝을 이용한 자연어 처리 입문 - 영어/한국어 Word2Vec 실습 WikiDocs\n",
        "3) 영어/한국어 Word2Vec 실습 - https://wikidocs.net/50739\n",
        "* Pre-trained word vectors of 30+ languages - https://github.com/Kyubyong/wordvectors"
      ]
    },
    {
      "cell_type": "markdown",
      "metadata": {
        "id": "-stLqQpIM-k3",
        "colab_type": "text"
      },
      "source": [
        "#### spaCy 모델로 만들기"
      ]
    },
    {
      "cell_type": "code",
      "metadata": {
        "id": "I8LOl7KSrlmM",
        "colab_type": "code",
        "colab": {
          "base_uri": "https://localhost:8080/",
          "height": 85
        },
        "outputId": "eee3b378-aa1a-4ed6-b005-f29848aaed4d"
      },
      "source": [
        "!git clone https://github.com/babelPish/slaw.git"
      ],
      "execution_count": 26,
      "outputs": [
        {
          "output_type": "stream",
          "text": [
            "Cloning into 'slaw'...\n",
            "remote: Enumerating objects: 78, done.\u001b[K\n",
            "remote: Total 78 (delta 0), reused 0 (delta 0), pack-reused 78\u001b[K\n",
            "Unpacking objects: 100% (78/78), done.\n"
          ],
          "name": "stdout"
        }
      ]
    },
    {
      "cell_type": "code",
      "metadata": {
        "id": "xpiy5R54sBVE",
        "colab_type": "code",
        "colab": {
          "base_uri": "https://localhost:8080/",
          "height": 68
        },
        "outputId": "fe69d5ef-1dec-4a2b-a685-970ce1875c41"
      },
      "source": [
        "ls"
      ],
      "execution_count": 4,
      "outputs": [
        {
          "output_type": "stream",
          "text": [
            "\u001b[0m\u001b[01;34mmecab-0.996-ko-0.9.2\u001b[0m/         mecab-ko-dic-2.1.1-20180720.tar.gz  \u001b[01;34mslaw\u001b[0m/\n",
            "mecab-0.996-ko-0.9.2.tar.gz   \u001b[01;34mMecab-ko-for-Google-Colab\u001b[0m/\n",
            "\u001b[01;34mmecab-ko-dic-2.1.1-20180720\u001b[0m/  \u001b[01;34msample_data\u001b[0m/\n"
          ],
          "name": "stdout"
        }
      ]
    },
    {
      "cell_type": "code",
      "metadata": {
        "id": "hSLVMMl0sH8g",
        "colab_type": "code",
        "colab": {
          "base_uri": "https://localhost:8080/",
          "height": 34
        },
        "outputId": "565338f2-7219-4ce2-e2be-9635d308452b"
      },
      "source": [
        "cd slaw/spacy_basic/colab_notebooks/"
      ],
      "execution_count": 28,
      "outputs": [
        {
          "output_type": "stream",
          "text": [
            "/content/slaw/spacy_basic/colab_notebooks\n"
          ],
          "name": "stdout"
        }
      ]
    },
    {
      "cell_type": "code",
      "metadata": {
        "id": "VmPfEcWBsNUC",
        "colab_type": "code",
        "colab": {
          "base_uri": "https://localhost:8080/",
          "height": 34
        },
        "outputId": "de9cc6ee-d066-429f-d23b-332684dd5e96"
      },
      "source": [
        "ls"
      ],
      "execution_count": 29,
      "outputs": [
        {
          "output_type": "stream",
          "text": [
            "05_working_with_word_vectors.ipynb  \u001b[0m\u001b[01;34mmodels\u001b[0m/\n"
          ],
          "name": "stdout"
        }
      ]
    },
    {
      "cell_type": "code",
      "metadata": {
        "id": "viu1g2CXsOG7",
        "colab_type": "code",
        "colab": {
          "base_uri": "https://localhost:8080/",
          "height": 34
        },
        "outputId": "1bb40af4-cb1d-4268-cc9f-d815d4b61900"
      },
      "source": [
        "cd models"
      ],
      "execution_count": 30,
      "outputs": [
        {
          "output_type": "stream",
          "text": [
            "/content/slaw/spacy_basic/colab_notebooks/models\n"
          ],
          "name": "stdout"
        }
      ]
    },
    {
      "cell_type": "code",
      "metadata": {
        "id": "TJrGX4m6sPjK",
        "colab_type": "code",
        "colab": {
          "base_uri": "https://localhost:8080/",
          "height": 34
        },
        "outputId": "21c178fe-09ef-4e17-99fb-e7ed2df5dbbc"
      },
      "source": [
        "ls"
      ],
      "execution_count": 31,
      "outputs": [
        {
          "output_type": "stream",
          "text": [
            "\u001b[0m\u001b[01;34mko_wv\u001b[0m/\n"
          ],
          "name": "stdout"
        }
      ]
    },
    {
      "cell_type": "code",
      "metadata": {
        "id": "AAP_bo8JsQMh",
        "colab_type": "code",
        "colab": {
          "base_uri": "https://localhost:8080/",
          "height": 34
        },
        "outputId": "f73b4b96-875e-4e8a-f9ce-b5dcd635fdf2"
      },
      "source": [
        "cd ko_wv"
      ],
      "execution_count": 33,
      "outputs": [
        {
          "output_type": "stream",
          "text": [
            "/content/slaw/spacy_basic/colab_notebooks/models/ko_wv\n"
          ],
          "name": "stdout"
        }
      ]
    },
    {
      "cell_type": "code",
      "metadata": {
        "id": "Z10Anmh2sSAu",
        "colab_type": "code",
        "colab": {
          "base_uri": "https://localhost:8080/",
          "height": 34
        },
        "outputId": "6ba7f722-0377-420a-a5e1-9aa4085c6fe0"
      },
      "source": [
        "ls"
      ],
      "execution_count": 34,
      "outputs": [
        {
          "output_type": "stream",
          "text": [
            "ko.zip\n"
          ],
          "name": "stdout"
        }
      ]
    },
    {
      "cell_type": "code",
      "metadata": {
        "id": "xcpV9VggsUGa",
        "colab_type": "code",
        "colab": {
          "base_uri": "https://localhost:8080/",
          "height": 68
        },
        "outputId": "1c26c8ac-0500-4324-d57a-00f06a824e1c"
      },
      "source": [
        "!unzip ko.zip"
      ],
      "execution_count": 35,
      "outputs": [
        {
          "output_type": "stream",
          "text": [
            "Archive:  ko.zip\n",
            "  inflating: ko.bin                  \n",
            "  inflating: ko.tsv                  \n"
          ],
          "name": "stdout"
        }
      ]
    },
    {
      "cell_type": "code",
      "metadata": {
        "id": "WDMOPoS1sV_Q",
        "colab_type": "code",
        "colab": {}
      },
      "source": [
        "import gensim"
      ],
      "execution_count": 36,
      "outputs": []
    },
    {
      "cell_type": "code",
      "metadata": {
        "id": "36vlo1YgsrvT",
        "colab_type": "code",
        "colab": {
          "base_uri": "https://localhost:8080/",
          "height": 71
        },
        "outputId": "135c7195-734c-4ea3-8bd5-6efaa5a91824"
      },
      "source": [
        "model = gensim.models.Word2Vec.load('ko.bin')"
      ],
      "execution_count": 37,
      "outputs": [
        {
          "output_type": "stream",
          "text": [
            "/usr/local/lib/python3.6/dist-packages/smart_open/smart_open_lib.py:253: UserWarning: This function is deprecated, use smart_open.open instead. See the migration notes for details: https://github.com/RaRe-Technologies/smart_open/blob/master/README.rst#migrating-to-the-new-open-function\n",
            "  'See the migration notes for details: %s' % _MIGRATION_NOTES_URL\n"
          ],
          "name": "stderr"
        }
      ]
    },
    {
      "cell_type": "code",
      "metadata": {
        "id": "FsosdlUosy7L",
        "colab_type": "code",
        "colab": {}
      },
      "source": [
        "kv = model.wv"
      ],
      "execution_count": 39,
      "outputs": []
    },
    {
      "cell_type": "code",
      "metadata": {
        "id": "x9s2ninks5le",
        "colab_type": "code",
        "colab": {
          "base_uri": "https://localhost:8080/",
          "height": 71
        },
        "outputId": "5e8be121-069e-4b72-c0d2-e148dc4cf9cb"
      },
      "source": [
        "kv.save_word2vec_format('ko_wv.embd', binary=False)"
      ],
      "execution_count": 40,
      "outputs": [
        {
          "output_type": "stream",
          "text": [
            "/usr/local/lib/python3.6/dist-packages/smart_open/smart_open_lib.py:253: UserWarning: This function is deprecated, use smart_open.open instead. See the migration notes for details: https://github.com/RaRe-Technologies/smart_open/blob/master/README.rst#migrating-to-the-new-open-function\n",
            "  'See the migration notes for details: %s' % _MIGRATION_NOTES_URL\n"
          ],
          "name": "stderr"
        }
      ]
    },
    {
      "cell_type": "code",
      "metadata": {
        "id": "yLnAwAdutNSw",
        "colab_type": "code",
        "colab": {
          "base_uri": "https://localhost:8080/",
          "height": 34
        },
        "outputId": "e285018c-4826-4dd8-c001-e02dca14de2d"
      },
      "source": [
        "ls"
      ],
      "execution_count": 41,
      "outputs": [
        {
          "output_type": "stream",
          "text": [
            "ko.bin  ko.tsv  ko_wv.embd  ko.zip\n"
          ],
          "name": "stdout"
        }
      ]
    },
    {
      "cell_type": "code",
      "metadata": {
        "id": "cfU-z_7ItPWo",
        "colab_type": "code",
        "colab": {
          "base_uri": "https://localhost:8080/",
          "height": 102
        },
        "outputId": "88a969fd-354d-434e-abab-4d1af9b878f3"
      },
      "source": [
        "!python -m spacy init-model ko ko_wv.spacy.embd --vectors-loc ko_wv.embd"
      ],
      "execution_count": 42,
      "outputs": [
        {
          "output_type": "stream",
          "text": [
            "\u001b[2K\u001b[38;5;2m✔ Successfully created model\u001b[0m\n",
            "30185it [00:01, 17350.54it/s]\n",
            "\u001b[2K\u001b[38;5;2m✔ Loaded vectors from ko_wv.embd\u001b[0m\n",
            "\u001b[38;5;2m✔ Sucessfully compiled vocab\u001b[0m\n",
            "30185 entries, 30185 vectors\n"
          ],
          "name": "stdout"
        }
      ]
    },
    {
      "cell_type": "code",
      "metadata": {
        "id": "92WXwjE51vcG",
        "colab_type": "code",
        "colab": {
          "base_uri": "https://localhost:8080/",
          "height": 34
        },
        "outputId": "9fd3676a-40d1-4e3e-c4f1-d616a00c3d46"
      },
      "source": [
        "ls"
      ],
      "execution_count": 52,
      "outputs": [
        {
          "output_type": "stream",
          "text": [
            "ko.bin  ko.tsv  ko_wv.embd  \u001b[0m\u001b[01;34mko_wv.spacy.embd\u001b[0m/  ko.zip\n"
          ],
          "name": "stdout"
        }
      ]
    },
    {
      "cell_type": "code",
      "metadata": {
        "id": "yEnMa3-cthLm",
        "colab_type": "code",
        "colab": {
          "base_uri": "https://localhost:8080/",
          "height": 34
        },
        "outputId": "b2610f66-184e-403c-fc5a-205f96167502"
      },
      "source": [
        "ls ko_wv.spacy.embd"
      ],
      "execution_count": 56,
      "outputs": [
        {
          "output_type": "stream",
          "text": [
            "meta.json  \u001b[0m\u001b[01;34mvocab\u001b[0m/\n"
          ],
          "name": "stdout"
        }
      ]
    },
    {
      "cell_type": "markdown",
      "metadata": {
        "id": "qjz8DzXjNIA7",
        "colab_type": "text"
      },
      "source": [
        "#### 만들어진 모델 로드해서 사용하기"
      ]
    },
    {
      "cell_type": "code",
      "metadata": {
        "id": "RKse4yfitmLf",
        "colab_type": "code",
        "colab": {}
      },
      "source": [
        "nlp_ko_wv = spacy.load('ko_wv.spacy.embd')"
      ],
      "execution_count": 17,
      "outputs": []
    },
    {
      "cell_type": "code",
      "metadata": {
        "id": "MDjA4Szrtm-a",
        "colab_type": "code",
        "colab": {}
      },
      "source": [
        "doc1 = nlp_ko_wv('안녕하세요') "
      ],
      "execution_count": 60,
      "outputs": []
    },
    {
      "cell_type": "code",
      "metadata": {
        "id": "sHpu7ngb2hQX",
        "colab_type": "code",
        "colab": {}
      },
      "source": [
        "doc2 = nlp_ko_wv('안녕')"
      ],
      "execution_count": 63,
      "outputs": []
    },
    {
      "cell_type": "code",
      "metadata": {
        "id": "ydHcFEx82lTZ",
        "colab_type": "code",
        "colab": {}
      },
      "source": [
        "doc3 = nlp_ko_wv('반가워')"
      ],
      "execution_count": 73,
      "outputs": []
    },
    {
      "cell_type": "code",
      "metadata": {
        "id": "SM6FCcPG2oQS",
        "colab_type": "code",
        "colab": {}
      },
      "source": [
        "doc4 = nlp_ko_wv('강아지')"
      ],
      "execution_count": 65,
      "outputs": []
    },
    {
      "cell_type": "code",
      "metadata": {
        "id": "BikWo0ff2tfu",
        "colab_type": "code",
        "colab": {
          "base_uri": "https://localhost:8080/",
          "height": 34
        },
        "outputId": "0e0d653a-2c95-4872-c13d-1e617f7d44f8"
      },
      "source": [
        "doc1.similarity(doc1)"
      ],
      "execution_count": 66,
      "outputs": [
        {
          "output_type": "execute_result",
          "data": {
            "text/plain": [
              "1.0"
            ]
          },
          "metadata": {
            "tags": []
          },
          "execution_count": 66
        }
      ]
    },
    {
      "cell_type": "code",
      "metadata": {
        "id": "3UEvjmtL2wkZ",
        "colab_type": "code",
        "colab": {
          "base_uri": "https://localhost:8080/",
          "height": 34
        },
        "outputId": "6e2ae1b0-fdfe-49df-f4d0-cd03332e6b56"
      },
      "source": [
        "doc1.similarity(doc2)"
      ],
      "execution_count": 68,
      "outputs": [
        {
          "output_type": "execute_result",
          "data": {
            "text/plain": [
              "0.3767422436269971"
            ]
          },
          "metadata": {
            "tags": []
          },
          "execution_count": 68
        }
      ]
    },
    {
      "cell_type": "code",
      "metadata": {
        "id": "u91kasMf2ymf",
        "colab_type": "code",
        "colab": {
          "base_uri": "https://localhost:8080/",
          "height": 68
        },
        "outputId": "d9ab5e13-9536-4795-d1ee-08b5ecdcc7c2"
      },
      "source": [
        "doc1.similarity(doc3)"
      ],
      "execution_count": 74,
      "outputs": [
        {
          "output_type": "stream",
          "text": [
            "/usr/lib/python3.6/runpy.py:193: UserWarning: [W008] Evaluating Doc.similarity based on empty vectors.\n",
            "  \"__main__\", mod_spec)\n"
          ],
          "name": "stderr"
        },
        {
          "output_type": "execute_result",
          "data": {
            "text/plain": [
              "0.0"
            ]
          },
          "metadata": {
            "tags": []
          },
          "execution_count": 74
        }
      ]
    },
    {
      "cell_type": "code",
      "metadata": {
        "id": "AwHCQWNG3Fnz",
        "colab_type": "code",
        "colab": {
          "base_uri": "https://localhost:8080/",
          "height": 34
        },
        "outputId": "42c7470e-787a-4ece-ffe1-356f3f15c20b"
      },
      "source": [
        "[(w.text, w.pos_) for w in doc3]"
      ],
      "execution_count": 77,
      "outputs": [
        {
          "output_type": "execute_result",
          "data": {
            "text/plain": [
              "[('반가워', 'ADJ')]"
            ]
          },
          "metadata": {
            "tags": []
          },
          "execution_count": 77
        }
      ]
    },
    {
      "cell_type": "code",
      "metadata": {
        "id": "n82kaz8W23de",
        "colab_type": "code",
        "colab": {
          "base_uri": "https://localhost:8080/",
          "height": 34
        },
        "outputId": "41c1e90d-da46-4306-da8a-7eaaf8de5681"
      },
      "source": [
        "doc1.similarity(doc4)"
      ],
      "execution_count": 78,
      "outputs": [
        {
          "output_type": "execute_result",
          "data": {
            "text/plain": [
              "-0.038436487747098264"
            ]
          },
          "metadata": {
            "tags": []
          },
          "execution_count": 78
        }
      ]
    },
    {
      "cell_type": "markdown",
      "metadata": {
        "id": "484JhtdwFLQF",
        "colab_type": "text"
      },
      "source": [
        "#### 시각화"
      ]
    },
    {
      "cell_type": "markdown",
      "metadata": {
        "id": "-21NoOVtTHxY",
        "colab_type": "text"
      },
      "source": [
        "#### 참고\n",
        "* https://www.kaggle.com/zackakil/"
      ]
    },
    {
      "cell_type": "code",
      "metadata": {
        "id": "ro8AP_RIROd9",
        "colab_type": "code",
        "colab": {
          "base_uri": "https://localhost:8080/",
          "height": 34
        },
        "outputId": "ffed081f-4974-483e-9974-487ae53e84b7"
      },
      "source": [
        "cd /content"
      ],
      "execution_count": 19,
      "outputs": [
        {
          "output_type": "stream",
          "text": [
            "/content\n"
          ],
          "name": "stdout"
        }
      ]
    },
    {
      "cell_type": "code",
      "metadata": {
        "id": "jbWJCPQHNT1x",
        "colab_type": "code",
        "colab": {}
      },
      "source": [
        "# 임베딩 벡터 시각화"
      ],
      "execution_count": null,
      "outputs": []
    },
    {
      "cell_type": "code",
      "metadata": {
        "id": "Fr9nJMdsNu6x",
        "colab_type": "code",
        "colab": {}
      },
      "source": [
        "# import the PCA module from sklearn\n",
        "from sklearn.decomposition import PCA"
      ],
      "execution_count": 20,
      "outputs": []
    },
    {
      "cell_type": "code",
      "metadata": {
        "id": "HFfs0QN1MtQz",
        "colab_type": "code",
        "colab": {}
      },
      "source": [
        "import matplotlib.pyplot as plt"
      ],
      "execution_count": 21,
      "outputs": []
    },
    {
      "cell_type": "code",
      "metadata": {
        "id": "rlW11_ijNZ4h",
        "colab_type": "code",
        "colab": {}
      },
      "source": [
        "def get_word_vectors(words, nlp):\n",
        "    # converts a list of words into their word vectors\n",
        "    return [nlp(word).vector for word in words]"
      ],
      "execution_count": 22,
      "outputs": []
    },
    {
      "cell_type": "code",
      "metadata": {
        "id": "95wV0kwzN3RZ",
        "colab_type": "code",
        "colab": {}
      },
      "source": [
        "# -- pca로 2차원으로 만들어서 비교"
      ],
      "execution_count": 23,
      "outputs": []
    },
    {
      "cell_type": "code",
      "metadata": {
        "id": "9M-u_vbXNn8I",
        "colab_type": "code",
        "colab": {}
      },
      "source": [
        "words = ['개', '고양이', '고냥이', '호랑이', '물고기', '강아지', '소년', '소녀', '남자', '여자', '왕', '여왕']"
      ],
      "execution_count": 24,
      "outputs": []
    },
    {
      "cell_type": "code",
      "metadata": {
        "id": "o6cnrZjKN8BV",
        "colab_type": "code",
        "colab": {}
      },
      "source": [
        "pca = PCA(n_components=2)\n",
        "\n",
        "pca.fit(get_word_vectors(words, nlp_ko_wv))\n",
        "\n",
        "word_vecs_2d = pca.transform(get_word_vectors(words, nlp_ko_wv))"
      ],
      "execution_count": 25,
      "outputs": []
    },
    {
      "cell_type": "code",
      "metadata": {
        "id": "Hp8Fft_HOI4w",
        "colab_type": "code",
        "colab": {
          "base_uri": "https://localhost:8080/",
          "height": 221
        },
        "outputId": "1d6b679a-c528-4aae-85c7-1148f3fe7872"
      },
      "source": [
        "# let's look at our new 2D word vectors\n",
        "word_vecs_2d"
      ],
      "execution_count": 26,
      "outputs": [
        {
          "output_type": "execute_result",
          "data": {
            "text/plain": [
              "array([[-11.08788645,  12.88675012],\n",
              "       [ -3.00570629,  -0.22195565],\n",
              "       [ -1.3937363 ,   1.63517171],\n",
              "       [ -2.29903241,   0.5391626 ],\n",
              "       [ -2.92855103,   1.75707003],\n",
              "       [ -1.07697715,   0.43365335],\n",
              "       [ -0.11787481,  -6.23988172],\n",
              "       [ -1.05752973,  -9.65796592],\n",
              "       [ -1.10162882,  -5.87602272],\n",
              "       [ -1.10889121,  -4.72265974],\n",
              "       [ 15.24227984,   6.52663981],\n",
              "       [  9.93553436,   2.94003814]])"
            ]
          },
          "metadata": {
            "tags": []
          },
          "execution_count": 26
        }
      ]
    },
    {
      "cell_type": "code",
      "metadata": {
        "id": "2dZDaDz4O0Sa",
        "colab_type": "code",
        "colab": {
          "base_uri": "https://localhost:8080/",
          "height": 680
        },
        "outputId": "bda0587e-b604-4d91-9e2c-142c5821aec5"
      },
      "source": [
        "# create a nice big plot \n",
        "plt.figure(figsize=(10,10))\n",
        "\n",
        "# plot the scatter plot of where the words will be\n",
        "plt.scatter(word_vecs_2d[:,0], word_vecs_2d[:,1])\n",
        "\n",
        "# for each word and coordinate pair: draw the text on the plot\n",
        "for word, coord in zip(words, word_vecs_2d):\n",
        "    x, y = coord\n",
        "    plt.text(x, y, word, size= 15)\n",
        "\n",
        "# show the plot\n",
        "plt.show()"
      ],
      "execution_count": 36,
      "outputs": [
        {
          "output_type": "stream",
          "text": [
            "/usr/local/lib/python3.6/dist-packages/matplotlib/backends/backend_agg.py:214: RuntimeWarning: Glyph 8722 missing from current font.\n",
            "  font.set_text(s, 0.0, flags=flags)\n",
            "/usr/local/lib/python3.6/dist-packages/matplotlib/backends/backend_agg.py:183: RuntimeWarning: Glyph 8722 missing from current font.\n",
            "  font.set_text(s, 0, flags=flags)\n"
          ],
          "name": "stderr"
        },
        {
          "output_type": "display_data",
          "data": {
            "image/png": "[encoded data removed]",
            "text/plain": [
              "<Figure size 720x720 with 1 Axes>"
            ]
          },
          "metadata": {
            "tags": [],
            "needs_background": "light"
          }
        }
      ]
    },
    {
      "cell_type": "markdown",
      "metadata": {
        "id": "avBM_s66TO8_",
        "colab_type": "text"
      },
      "source": [
        "#### 참고\n",
        "* https://rasahq.github.io/whatlies/\n",
        "* https://spacy.io/universe/project/whatlies"
      ]
    },
    {
      "cell_type": "code",
      "metadata": {
        "id": "Sf78hcNhMwK-",
        "colab_type": "code",
        "colab": {}
      },
      "source": [
        "# whatlies 사용해보기"
      ],
      "execution_count": null,
      "outputs": []
    },
    {
      "cell_type": "code",
      "metadata": {
        "id": "PmGedZUZFVUZ",
        "colab_type": "code",
        "colab": {}
      },
      "source": [
        "from whatlies import EmbeddingSet\n",
        "from whatlies.language import SpacyLanguage"
      ],
      "execution_count": 132,
      "outputs": []
    },
    {
      "cell_type": "markdown",
      "metadata": {
        "id": "xoLnYqvHTQGv",
        "colab_type": "text"
      },
      "source": [
        ""
      ]
    },
    {
      "cell_type": "code",
      "metadata": {
        "id": "iLXJ-5OmFtMX",
        "colab_type": "code",
        "colab": {
          "base_uri": "https://localhost:8080/",
          "height": 34
        },
        "outputId": "d599bff1-3ddb-4fe4-aa2c-d68fecc6bd11"
      },
      "source": [
        "ls"
      ],
      "execution_count": 141,
      "outputs": [
        {
          "output_type": "stream",
          "text": [
            "ko.bin  ko.tsv  ko_wv.embd  \u001b[0m\u001b[01;34mko_wv.spacy.embd\u001b[0m/  ko.zip\n"
          ],
          "name": "stdout"
        }
      ]
    },
    {
      "cell_type": "code",
      "metadata": {
        "id": "jswlsot-FhCX",
        "colab_type": "code",
        "colab": {}
      },
      "source": [
        "lang = SpacyLanguage('./ko_wv.spacy.embd')"
      ],
      "execution_count": 142,
      "outputs": []
    },
    {
      "cell_type": "code",
      "metadata": {
        "id": "LWIVZrxcFqTy",
        "colab_type": "code",
        "colab": {}
      },
      "source": [
        "words = ['개', '고양이', '고냥이', '호랑이', '물고기', '강아지', '소년', '소녀', '남자', '여자', '왕', '여왕']"
      ],
      "execution_count": 163,
      "outputs": []
    },
    {
      "cell_type": "code",
      "metadata": {
        "id": "m_j4BSXAGNZX",
        "colab_type": "code",
        "colab": {
          "base_uri": "https://localhost:8080/",
          "height": 385
        },
        "outputId": "4d553c8e-0845-45d6-f57b-8e2ea8ae9692"
      },
      "source": [
        "emb = lang[words]\n",
        "emb.plot_interactive(x_axis='남자', y_axis='여자')"
      ],
      "execution_count": 164,
      "outputs": [
        {
          "output_type": "execute_result",
          "data": {
            "text/plain": [
              "alt.LayerChart(...)"
            ],
            "text/html": [
              "\n",
              "<div id=\"altair-viz-9ffb02dff659441d87b503b57c8c487d\"></div>\n",
              "<script type=\"text/javascript\">\n",
              "  (function(spec, embedOpt){\n",
              "    let outputDiv = document.currentScript.previousElementSibling;\n",
              "    if (outputDiv.id !== \"altair-viz-9ffb02dff659441d87b503b57c8c487d\") {\n",
              "      outputDiv = document.getElementById(\"altair-viz-9ffb02dff659441d87b503b57c8c487d\");\n",
              "    }\n",
              "    const paths = {\n",
              "      \"vega\": \"https://cdn.jsdelivr.net/npm//vega@5?noext\",\n",
              "      \"vega-lib\": \"https://cdn.jsdelivr.net/npm//vega-lib?noext\",\n",
              "      \"vega-lite\": \"https://cdn.jsdelivr.net/npm//vega-lite@4.8.1?noext\",\n",
              "      \"vega-embed\": \"https://cdn.jsdelivr.net/npm//vega-embed@6?noext\",\n",
              "    };\n",
              "\n",
              "    function loadScript(lib) {\n",
              "      return new Promise(function(resolve, reject) {\n",
              "        var s = document.createElement('script');\n",
              "        s.src = paths[lib];\n",
              "        s.async = true;\n",
              "        s.onload = () => resolve(paths[lib]);\n",
              "        s.onerror = () => reject(`Error loading script: ${paths[lib]}`);\n",
              "        document.getElementsByTagName(\"head\")[0].appendChild(s);\n",
              "      });\n",
              "    }\n",
              "\n",
              "    function showError(err) {\n",
              "      outputDiv.innerHTML = `<div class=\"error\" style=\"color:red;\">${err}</div>`;\n",
              "      throw err;\n",
              "    }\n",
              "\n",
              "    function displayChart(vegaEmbed) {\n",
              "      vegaEmbed(outputDiv, spec, embedOpt)\n",
              "        .catch(err => showError(`Javascript Error: ${err.message}<br>This usually means there's a typo in your chart specification. See the javascript console for the full traceback.`));\n",
              "    }\n",
              "\n",
              "    if(typeof define === \"function\" && define.amd) {\n",
              "      requirejs.config({paths});\n",
              "      require([\"vega-embed\"], displayChart, err => showError(`Error loading script: ${err.message}`));\n",
              "    } else if (typeof vegaEmbed === \"function\") {\n",
              "      displayChart(vegaEmbed);\n",
              "    } else {\n",
              "      loadScript(\"vega\")\n",
              "        .then(() => loadScript(\"vega-lite\"))\n",
              "        .then(() => loadScript(\"vega-embed\"))\n",
              "        .catch(showError)\n",
              "        .then(() => displayChart(vegaEmbed));\n",
              "    }\n",
              "  })({\"config\": {\"view\": {\"continuousWidth\": 400, \"continuousHeight\": 300}}, \"layer\": [{\"mark\": {\"type\": \"circle\", \"size\": 60}, \"encoding\": {\"color\": {\"type\": \"nominal\", \"field\": \"\", \"legend\": null}, \"tooltip\": [{\"type\": \"nominal\", \"field\": \"name\"}, {\"type\": \"nominal\", \"field\": \"original\"}], \"x\": {\"type\": \"quantitative\", \"axis\": {\"title\": \"\\ub0a8\\uc790\"}, \"field\": \"x_axis\"}, \"y\": {\"type\": \"quantitative\", \"axis\": {\"title\": \"\\uc5ec\\uc790\"}, \"field\": \"y_axis\"}}, \"selection\": {\"selector013\": {\"type\": \"interval\", \"bind\": \"scales\", \"encodings\": [\"x\", \"y\"]}}, \"title\": \"\\ub0a8\\uc790 vs. \\uc5ec\\uc790\"}, {\"mark\": {\"type\": \"text\", \"color\": \"black\", \"dx\": -15, \"dy\": 3}, \"encoding\": {\"text\": {\"type\": \"nominal\", \"field\": \"original\"}, \"x\": {\"type\": \"quantitative\", \"axis\": {\"title\": \"\\ub0a8\\uc790\"}, \"field\": \"x_axis\"}, \"y\": {\"type\": \"quantitative\", \"axis\": {\"title\": \"\\uc5ec\\uc790\"}, \"field\": \"y_axis\"}}}], \"data\": {\"name\": \"data-76a064ab35bb5d5fa40b9313123accd4\"}, \"$schema\": \"https://vega.github.io/schema/vega-lite/v4.8.1.json\", \"datasets\": {\"data-76a064ab35bb5d5fa40b9313123accd4\": [{\"x_axis\": 0.13675644993782043, \"y_axis\": 0.11457924544811249, \"name\": \"\\uac1c\", \"original\": \"\\uac1c\"}, {\"x_axis\": 0.4197443425655365, \"y_axis\": 0.37046879529953003, \"name\": \"\\uace0\\uc591\\uc774\", \"original\": \"\\uace0\\uc591\\uc774\"}, {\"x_axis\": 0.0, \"y_axis\": 0.0, \"name\": \"\\uace0\\ub0e5\\uc774\", \"original\": \"\\uace0\\ub0e5\\uc774\"}, {\"x_axis\": 0.23804619908332825, \"y_axis\": 0.25209715962409973, \"name\": \"\\ud638\\ub791\\uc774\", \"original\": \"\\ud638\\ub791\\uc774\"}, {\"x_axis\": 0.2685844600200653, \"y_axis\": 0.18896342813968658, \"name\": \"\\ubb3c\\uace0\\uae30\", \"original\": \"\\ubb3c\\uace0\\uae30\"}, {\"x_axis\": 0.17433340847492218, \"y_axis\": 0.16509737074375153, \"name\": \"\\uac15\\uc544\\uc9c0\", \"original\": \"\\uac15\\uc544\\uc9c0\"}, {\"x_axis\": 0.4784596562385559, \"y_axis\": 0.4291267395019531, \"name\": \"\\uc18c\\ub144\", \"original\": \"\\uc18c\\ub144\"}, {\"x_axis\": 0.5946189165115356, \"y_axis\": 0.54339599609375, \"name\": \"\\uc18c\\ub140\", \"original\": \"\\uc18c\\ub140\"}, {\"x_axis\": 0.2067641019821167, \"y_axis\": 0.18285691738128662, \"name\": \"\\uc655\", \"original\": \"\\uc655\"}, {\"x_axis\": 0.27689406275749207, \"y_axis\": 0.23627687990665436, \"name\": \"\\uc5ec\\uc655\", \"original\": \"\\uc5ec\\uc655\"}]}}, {\"mode\": \"vega-lite\"});\n",
              "</script>"
            ]
          },
          "metadata": {
            "tags": []
          },
          "execution_count": 164
        }
      ]
    },
    {
      "cell_type": "code",
      "metadata": {
        "id": "0cUmJGkRGXXy",
        "colab_type": "code",
        "colab": {}
      },
      "source": [
        ""
      ],
      "execution_count": null,
      "outputs": []
    }
  ]
}