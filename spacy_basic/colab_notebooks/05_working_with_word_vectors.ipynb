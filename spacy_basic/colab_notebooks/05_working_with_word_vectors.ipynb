{
  "nbformat": 4,
  "nbformat_minor": 0,
  "metadata": {
    "colab": {
      "name": "05_working_with_word_vectors.ipynb",
      "provenance": [],
      "collapsed_sections": [],
      "authorship_tag": "ABX9TyN/7WeA4z1OzoDukHJd1Mun",
      "include_colab_link": true
    },
    "kernelspec": {
      "name": "python3",
      "display_name": "Python 3"
    }
  },
  "cells": [
    {
      "cell_type": "markdown",
      "metadata": {
        "id": "view-in-github",
        "colab_type": "text"
      },
      "source": [
        "<a href=\"https://colab.research.google.com/github/babelPish/slaw/blob/master/spacy_basic/colab_notebooks/05_working_with_word_vectors.ipynb\" target=\"_parent\"><img src=\"https://colab.research.google.com/assets/colab-badge.svg\" alt=\"Open In Colab\"/></a>"
      ]
    },
    {
      "cell_type": "markdown",
      "metadata": {
        "id": "pWsJ4JICkNb_",
        "colab_type": "text"
      },
      "source": [
        "#5. Woking with word vectors\n",
        "* 바벨피쉬 : Slaw - Spacy 기초\n",
        "* 김무성"
      ]
    },
    {
      "cell_type": "code",
      "metadata": {
        "id": "tE0kFYFVir_z",
        "colab_type": "code",
        "colab": {
          "base_uri": "https://localhost:8080/",
          "height": 54
        },
        "outputId": "2476cfa5-19ef-49e8-d6c6-fb4a348a6945"
      },
      "source": [
        "!python -V"
      ],
      "execution_count": 4,
      "outputs": [
        {
          "output_type": "stream",
          "text": [
            "Python 3.6.9\n"
          ],
          "name": "stdout"
        }
      ]
    },
    {
      "cell_type": "markdown",
      "metadata": {
        "id": "nps_MVGjmXD5",
        "colab_type": "text"
      },
      "source": [
        "-------------"
      ]
    },
    {
      "cell_type": "markdown",
      "metadata": {
        "id": "C91hiLV1klp3",
        "colab_type": "text"
      },
      "source": [
        "# Installation"
      ]
    },
    {
      "cell_type": "markdown",
      "metadata": {
        "id": "WI3o0lXCIgiw",
        "colab_type": "text"
      },
      "source": [
        "\n",
        "\n",
        "\n",
        "#### 시각화 도구 (한글 나오게)\n",
        "* 구글 Colab에서 한글 문제 대응하기 - https://pinkwink.kr/1255\n",
        "* https://rasahq.github.io/whatlies/\n",
        "* https://spacy.io/universe/project/whatlies"
      ]
    },
    {
      "cell_type": "code",
      "metadata": {
        "id": "G03F1wddP3DG",
        "colab_type": "code",
        "colab": {
          "base_uri": "https://localhost:8080/",
          "height": 269
        },
        "outputId": "194730db-a237-4333-8008-a1433bef39fa"
      },
      "source": [
        "# -- 한글폰트 지원을 위한 설치\n",
        "%config InlineBackend.figure_format = 'retina'\n",
        " \n",
        "!apt -qq -y install fonts-nanum\n",
        " "
      ],
      "execution_count": 2,
      "outputs": [
        {
          "output_type": "stream",
          "text": [
            "The following package was automatically installed and is no longer required:\n",
            "  libnvidia-common-440\n",
            "Use 'apt autoremove' to remove it.\n",
            "The following NEW packages will be installed:\n",
            "  fonts-nanum\n",
            "0 upgraded, 1 newly installed, 0 to remove and 33 not upgraded.\n",
            "Need to get 9,604 kB of archives.\n",
            "After this operation, 29.5 MB of additional disk space will be used.\n",
            "Selecting previously unselected package fonts-nanum.\n",
            "(Reading database ... 144379 files and directories currently installed.)\n",
            "Preparing to unpack .../fonts-nanum_20170925-1_all.deb ...\n",
            "Unpacking fonts-nanum (20170925-1) ...\n",
            "Setting up fonts-nanum (20170925-1) ...\n",
            "Processing triggers for fontconfig (2.12.6-0ubuntu2) ...\n"
          ],
          "name": "stdout"
        }
      ]
    },
    {
      "cell_type": "code",
      "metadata": {
        "id": "RLqVN2G7bheJ",
        "colab_type": "code",
        "colab": {}
      },
      "source": [
        "# -- 여기까지 하고 런타임 재시작 후 아래 실행."
      ],
      "execution_count": null,
      "outputs": []
    },
    {
      "cell_type": "code",
      "metadata": {
        "id": "8x1GmMrzRg3l",
        "colab_type": "code",
        "colab": {}
      },
      "source": [
        "import matplotlib as mpl\n",
        "import matplotlib.pyplot as plt\n",
        "\n",
        "import matplotlib.font_manager as fm\n",
        "fontpath = '/usr/share/fonts/truetype/nanum/NanumBarunGothic.ttf'\n",
        "font = fm.FontProperties(fname=fontpath, size=9)\n",
        "plt.rc('font', family='NanumBarunGothic') \n",
        "mpl.font_manager._rebuild()"
      ],
      "execution_count": 5,
      "outputs": []
    },
    {
      "cell_type": "code",
      "metadata": {
        "id": "IyXZgBQgSAd-",
        "colab_type": "code",
        "colab": {
          "base_uri": "https://localhost:8080/",
          "height": 71
        },
        "outputId": "6155b305-cc81-4c4f-c7b6-4fee1d6d6806"
      },
      "source": [
        "# 현재 설정되어 있는 폰트 사이즈와 글꼴을 알아보자\n",
        "!python --version\n",
        "def current_font():\n",
        "  print(f\"설정 폰트 글꼴: {plt.rcParams['font.family']}, 설정 폰트 사이즈: {plt.rcParams['font.size']}\")  # 파이썬 3.6 이상 사용가능하다\n",
        "        \n",
        "current_font()"
      ],
      "execution_count": 6,
      "outputs": [
        {
          "output_type": "stream",
          "text": [
            "Python 3.6.9\n",
            "설정 폰트 글꼴: ['NanumBarunGothic'], 설정 폰트 사이즈: 10.0\n"
          ],
          "name": "stdout"
        }
      ]
    },
    {
      "cell_type": "code",
      "metadata": {
        "id": "8OIU11fUIivC",
        "colab_type": "code",
        "colab": {
          "base_uri": "https://localhost:8080/",
          "height": 1000
        },
        "outputId": "afdf4f57-90a4-4372-bc00-61788d5bbbf0"
      },
      "source": [
        "# -- whatlies\n",
        "!pip install whatlies"
      ],
      "execution_count": 4,
      "outputs": [
        {
          "output_type": "stream",
          "text": [
            "Collecting whatlies\n",
            "  Downloading https://files.pythonhosted.org/packages/13/7d/69b22cf504be3ad25e8de116428271454d6f6bac4929720695bb72df94c1/whatlies-0.4.2-py2.py3-none-any.whl\n",
            "Requirement already satisfied: altair>=4.0.1 in /usr/local/lib/python3.6/dist-packages (from whatlies) (4.1.0)\n",
            "Collecting gensim>=3.8.3\n",
            "\u001b[?25l  Downloading https://files.pythonhosted.org/packages/2b/e0/fa6326251692056dc880a64eb22117e03269906ba55a6864864d24ec8b4e/gensim-3.8.3-cp36-cp36m-manylinux1_x86_64.whl (24.2MB)\n",
            "\u001b[K     |████████████████████████████████| 24.2MB 1.6MB/s \n",
            "\u001b[?25hCollecting opentsne>=0.4.3\n",
            "\u001b[?25l  Downloading https://files.pythonhosted.org/packages/98/0d/932d5c96f9513c446b7707f08fded68492196719ae6bd709230d9eec1946/openTSNE-0.4.3-cp36-cp36m-manylinux1_x86_64.whl (1.8MB)\n",
            "\u001b[K     |████████████████████████████████| 1.8MB 38.2MB/s \n",
            "\u001b[?25hCollecting sense2vec>=1.0.2\n",
            "\u001b[?25l  Downloading https://files.pythonhosted.org/packages/52/bf/5b776ad825e30e6fa5e86a74711caa84bde65b22047868e588290367253f/sense2vec-1.0.2.tar.gz (54kB)\n",
            "\u001b[K     |████████████████████████████████| 61kB 6.2MB/s \n",
            "\u001b[?25hRequirement already satisfied: networkx>=2.4 in /usr/local/lib/python3.6/dist-packages (from whatlies) (2.4)\n",
            "Collecting fasttext>=0.9.1\n",
            "\u001b[?25l  Downloading https://files.pythonhosted.org/packages/f8/85/e2b368ab6d3528827b147fdb814f8189acc981a4bc2f99ab894650e05c40/fasttext-0.9.2.tar.gz (68kB)\n",
            "\u001b[K     |████████████████████████████████| 71kB 6.6MB/s \n",
            "\u001b[?25hRequirement already satisfied: scikit-learn>=0.20.2 in /usr/local/lib/python3.6/dist-packages (from whatlies) (0.22.2.post1)\n",
            "Collecting bpemb>=0.3.0\n",
            "  Downloading https://files.pythonhosted.org/packages/bc/70/468a9652095b370f797ed37ff77e742b11565c6fd79eaeca5f2e50b164a7/bpemb-0.3.0-py3-none-any.whl\n",
            "Requirement already satisfied: umap-learn>=0.3.10 in /usr/local/lib/python3.6/dist-packages (from whatlies) (0.4.4)\n",
            "Requirement already satisfied: matplotlib>=3.2.0 in /usr/local/lib/python3.6/dist-packages (from whatlies) (3.2.2)\n",
            "Requirement already satisfied: spacy>=2.2.3 in /usr/local/lib/python3.6/dist-packages (from whatlies) (2.2.4)\n",
            "Requirement already satisfied: scipy>=1.2.0 in /usr/local/lib/python3.6/dist-packages (from whatlies) (1.4.1)\n",
            "Requirement already satisfied: numpy>=1.16.0 in /usr/local/lib/python3.6/dist-packages (from whatlies) (1.18.5)\n",
            "Requirement already satisfied: entrypoints in /usr/local/lib/python3.6/dist-packages (from altair>=4.0.1->whatlies) (0.3)\n",
            "Requirement already satisfied: jsonschema in /usr/local/lib/python3.6/dist-packages (from altair>=4.0.1->whatlies) (2.6.0)\n",
            "Requirement already satisfied: pandas>=0.18 in /usr/local/lib/python3.6/dist-packages (from altair>=4.0.1->whatlies) (1.0.5)\n",
            "Requirement already satisfied: jinja2 in /usr/local/lib/python3.6/dist-packages (from altair>=4.0.1->whatlies) (2.11.2)\n",
            "Requirement already satisfied: toolz in /usr/local/lib/python3.6/dist-packages (from altair>=4.0.1->whatlies) (0.10.0)\n",
            "Requirement already satisfied: smart-open>=1.8.1 in /usr/local/lib/python3.6/dist-packages (from gensim>=3.8.3->whatlies) (2.0.0)\n",
            "Requirement already satisfied: six>=1.5.0 in /usr/local/lib/python3.6/dist-packages (from gensim>=3.8.3->whatlies) (1.12.0)\n",
            "Requirement already satisfied: srsly>=0.2.0 in /usr/local/lib/python3.6/dist-packages (from sense2vec>=1.0.2->whatlies) (1.0.2)\n",
            "Requirement already satisfied: catalogue>=0.0.4 in /usr/local/lib/python3.6/dist-packages (from sense2vec>=1.0.2->whatlies) (1.0.0)\n",
            "Requirement already satisfied: wasabi<1.1.0,>=0.4.0 in /usr/local/lib/python3.6/dist-packages (from sense2vec>=1.0.2->whatlies) (0.7.0)\n",
            "Requirement already satisfied: importlib_metadata>=0.20 in /usr/local/lib/python3.6/dist-packages (from sense2vec>=1.0.2->whatlies) (1.6.1)\n",
            "Requirement already satisfied: decorator>=4.3.0 in /usr/local/lib/python3.6/dist-packages (from networkx>=2.4->whatlies) (4.4.2)\n",
            "Requirement already satisfied: pybind11>=2.2 in /usr/local/lib/python3.6/dist-packages (from fasttext>=0.9.1->whatlies) (2.5.0)\n",
            "Requirement already satisfied: setuptools>=0.7.0 in /usr/local/lib/python3.6/dist-packages (from fasttext>=0.9.1->whatlies) (47.3.1)\n",
            "Requirement already satisfied: joblib>=0.11 in /usr/local/lib/python3.6/dist-packages (from scikit-learn>=0.20.2->whatlies) (0.15.1)\n",
            "Requirement already satisfied: tqdm in /usr/local/lib/python3.6/dist-packages (from bpemb>=0.3.0->whatlies) (4.41.1)\n",
            "Collecting sentencepiece\n",
            "\u001b[?25l  Downloading https://files.pythonhosted.org/packages/d4/a4/d0a884c4300004a78cca907a6ff9a5e9fe4f090f5d95ab341c53d28cbc58/sentencepiece-0.1.91-cp36-cp36m-manylinux1_x86_64.whl (1.1MB)\n",
            "\u001b[K     |████████████████████████████████| 1.1MB 34.2MB/s \n",
            "\u001b[?25hRequirement already satisfied: requests in /usr/local/lib/python3.6/dist-packages (from bpemb>=0.3.0->whatlies) (2.23.0)\n",
            "Requirement already satisfied: numba!=0.47,>=0.46 in /usr/local/lib/python3.6/dist-packages (from umap-learn>=0.3.10->whatlies) (0.48.0)\n",
            "Requirement already satisfied: tbb in /usr/local/lib/python3.6/dist-packages (from umap-learn>=0.3.10->whatlies) (2020.0.133)\n",
            "Requirement already satisfied: python-dateutil>=2.1 in /usr/local/lib/python3.6/dist-packages (from matplotlib>=3.2.0->whatlies) (2.8.1)\n",
            "Requirement already satisfied: cycler>=0.10 in /usr/local/lib/python3.6/dist-packages (from matplotlib>=3.2.0->whatlies) (0.10.0)\n",
            "Requirement already satisfied: kiwisolver>=1.0.1 in /usr/local/lib/python3.6/dist-packages (from matplotlib>=3.2.0->whatlies) (1.2.0)\n",
            "Requirement already satisfied: pyparsing!=2.0.4,!=2.1.2,!=2.1.6,>=2.0.1 in /usr/local/lib/python3.6/dist-packages (from matplotlib>=3.2.0->whatlies) (2.4.7)\n",
            "Requirement already satisfied: thinc==7.4.0 in /usr/local/lib/python3.6/dist-packages (from spacy>=2.2.3->whatlies) (7.4.0)\n",
            "Requirement already satisfied: cymem<2.1.0,>=2.0.2 in /usr/local/lib/python3.6/dist-packages (from spacy>=2.2.3->whatlies) (2.0.3)\n",
            "Requirement already satisfied: murmurhash<1.1.0,>=0.28.0 in /usr/local/lib/python3.6/dist-packages (from spacy>=2.2.3->whatlies) (1.0.2)\n",
            "Requirement already satisfied: blis<0.5.0,>=0.4.0 in /usr/local/lib/python3.6/dist-packages (from spacy>=2.2.3->whatlies) (0.4.1)\n",
            "Requirement already satisfied: plac<1.2.0,>=0.9.6 in /usr/local/lib/python3.6/dist-packages (from spacy>=2.2.3->whatlies) (1.1.3)\n",
            "Requirement already satisfied: preshed<3.1.0,>=3.0.2 in /usr/local/lib/python3.6/dist-packages (from spacy>=2.2.3->whatlies) (3.0.2)\n",
            "Requirement already satisfied: pytz>=2017.2 in /usr/local/lib/python3.6/dist-packages (from pandas>=0.18->altair>=4.0.1->whatlies) (2018.9)\n",
            "Requirement already satisfied: MarkupSafe>=0.23 in /usr/local/lib/python3.6/dist-packages (from jinja2->altair>=4.0.1->whatlies) (1.1.1)\n",
            "Requirement already satisfied: boto3 in /usr/local/lib/python3.6/dist-packages (from smart-open>=1.8.1->gensim>=3.8.3->whatlies) (1.14.9)\n",
            "Requirement already satisfied: boto in /usr/local/lib/python3.6/dist-packages (from smart-open>=1.8.1->gensim>=3.8.3->whatlies) (2.49.0)\n",
            "Requirement already satisfied: zipp>=0.5 in /usr/local/lib/python3.6/dist-packages (from importlib_metadata>=0.20->sense2vec>=1.0.2->whatlies) (3.1.0)\n",
            "Requirement already satisfied: idna<3,>=2.5 in /usr/local/lib/python3.6/dist-packages (from requests->bpemb>=0.3.0->whatlies) (2.9)\n",
            "Requirement already satisfied: certifi>=2017.4.17 in /usr/local/lib/python3.6/dist-packages (from requests->bpemb>=0.3.0->whatlies) (2020.6.20)\n",
            "Requirement already satisfied: chardet<4,>=3.0.2 in /usr/local/lib/python3.6/dist-packages (from requests->bpemb>=0.3.0->whatlies) (3.0.4)\n",
            "Requirement already satisfied: urllib3!=1.25.0,!=1.25.1,<1.26,>=1.21.1 in /usr/local/lib/python3.6/dist-packages (from requests->bpemb>=0.3.0->whatlies) (1.24.3)\n",
            "Requirement already satisfied: llvmlite<0.32.0,>=0.31.0dev0 in /usr/local/lib/python3.6/dist-packages (from numba!=0.47,>=0.46->umap-learn>=0.3.10->whatlies) (0.31.0)\n",
            "Requirement already satisfied: botocore<1.18.0,>=1.17.9 in /usr/local/lib/python3.6/dist-packages (from boto3->smart-open>=1.8.1->gensim>=3.8.3->whatlies) (1.17.9)\n",
            "Requirement already satisfied: s3transfer<0.4.0,>=0.3.0 in /usr/local/lib/python3.6/dist-packages (from boto3->smart-open>=1.8.1->gensim>=3.8.3->whatlies) (0.3.3)\n",
            "Requirement already satisfied: jmespath<1.0.0,>=0.7.1 in /usr/local/lib/python3.6/dist-packages (from boto3->smart-open>=1.8.1->gensim>=3.8.3->whatlies) (0.10.0)\n",
            "Requirement already satisfied: docutils<0.16,>=0.10 in /usr/local/lib/python3.6/dist-packages (from botocore<1.18.0,>=1.17.9->boto3->smart-open>=1.8.1->gensim>=3.8.3->whatlies) (0.15.2)\n",
            "Building wheels for collected packages: sense2vec, fasttext\n",
            "  Building wheel for sense2vec (setup.py) ... \u001b[?25l\u001b[?25hdone\n",
            "  Created wheel for sense2vec: filename=sense2vec-1.0.2-py2.py3-none-any.whl size=34997 sha256=b41528fa86082765ec9eabccf60a46408f88f6ecf759dd270bc69902dce3a575\n",
            "  Stored in directory: /root/.cache/pip/wheels/55/86/94/9dbbd58956c20435a4ca918ea5a0dfdec3ad4e9568c3f41b3e\n",
            "  Building wheel for fasttext (setup.py) ... \u001b[?25l\u001b[?25hdone\n",
            "  Created wheel for fasttext: filename=fasttext-0.9.2-cp36-cp36m-linux_x86_64.whl size=3018341 sha256=d102213da57ea5a8491905489f37ff60219a157c7dc9e3200b4b123752546763\n",
            "  Stored in directory: /root/.cache/pip/wheels/98/ba/7f/b154944a1cf5a8cee91c154b75231136cc3a3321ab0e30f592\n",
            "Successfully built sense2vec fasttext\n",
            "Installing collected packages: gensim, opentsne, sense2vec, fasttext, sentencepiece, bpemb, whatlies\n",
            "  Found existing installation: gensim 3.6.0\n",
            "    Uninstalling gensim-3.6.0:\n",
            "      Successfully uninstalled gensim-3.6.0\n",
            "Successfully installed bpemb-0.3.0 fasttext-0.9.2 gensim-3.8.3 opentsne-0.4.3 sense2vec-1.0.2 sentencepiece-0.1.91 whatlies-0.4.2\n"
          ],
          "name": "stdout"
        }
      ]
    },
    {
      "cell_type": "markdown",
      "metadata": {
        "id": "1hpDnt0ZailM",
        "colab_type": "text"
      },
      "source": [
        "#### spaCy 설치 "
      ]
    },
    {
      "cell_type": "code",
      "metadata": {
        "id": "LALDLtnn_Yyu",
        "colab_type": "code",
        "colab": {
          "base_uri": "https://localhost:8080/",
          "height": 58
        },
        "outputId": "d16d4956-fd97-4951-8ec3-117b6cebba24"
      },
      "source": [
        "# 이미 설치되어 있다. 만약 안되어 있으면\n",
        "# !pip install spacy \n",
        "# 혹시 2.2.3이 설치되면 아래처럼 pip 업데이트 후 spacy 재설치 \n",
        "# !pip install -U pip \n",
        "\n",
        "# 버전이 2.2.4 일것. 이 버전에 맞춰서 korean word2vec 실습모델 셋팅함.\n",
        "import spacy\n",
        "spacy.__version__ "
      ],
      "execution_count": 1,
      "outputs": [
        {
          "output_type": "execute_result",
          "data": {
            "application/vnd.google.colaboratory.intrinsic": {
              "type": "string"
            },
            "text/plain": [
              "'2.2.4'"
            ]
          },
          "metadata": {
            "tags": []
          },
          "execution_count": 1
        }
      ]
    },
    {
      "cell_type": "markdown",
      "metadata": {
        "id": "kQoTqUM2MNho",
        "colab_type": "text"
      },
      "source": [
        "#### spaCy Lanage Models"
      ]
    },
    {
      "cell_type": "code",
      "metadata": {
        "id": "guky7fxPMSIf",
        "colab_type": "code",
        "colab": {}
      },
      "source": [
        "# 최초 한번만 다운로드 하면 됨\n",
        "# 그리고 런타임 재시작\n",
        "# !python -m spacy download en "
      ],
      "execution_count": 6,
      "outputs": []
    },
    {
      "cell_type": "code",
      "metadata": {
        "id": "Gw209buf-yvU",
        "colab_type": "code",
        "colab": {
          "base_uri": "https://localhost:8080/",
          "height": 566
        },
        "outputId": "2477de45-1ead-499a-aed9-23fef120be52"
      },
      "source": [
        "# 최초 한번만 다운로드 하면 됨\n",
        "# 그리고 런타임 재시작\n",
        "#!python -m spacy download en_core_web_md"
      ],
      "execution_count": 79,
      "outputs": [
        {
          "output_type": "stream",
          "text": [
            "Collecting en_core_web_md==2.2.5\n",
            "\u001b[?25l  Downloading https://github.com/explosion/spacy-models/releases/download/en_core_web_md-2.2.5/en_core_web_md-2.2.5.tar.gz (96.4MB)\n",
            "\u001b[K     |████████████████████████████████| 96.4MB 83.7MB/s \n",
            "\u001b[?25hRequirement already satisfied: spacy>=2.2.2 in /usr/local/lib/python3.6/dist-packages (from en_core_web_md==2.2.5) (2.2.4)\n",
            "Requirement already satisfied: numpy>=1.15.0 in /usr/local/lib/python3.6/dist-packages (from spacy>=2.2.2->en_core_web_md==2.2.5) (1.18.5)\n",
            "Requirement already satisfied: thinc==7.4.0 in /usr/local/lib/python3.6/dist-packages (from spacy>=2.2.2->en_core_web_md==2.2.5) (7.4.0)\n",
            "Requirement already satisfied: cymem<2.1.0,>=2.0.2 in /usr/local/lib/python3.6/dist-packages (from spacy>=2.2.2->en_core_web_md==2.2.5) (2.0.3)\n",
            "Requirement already satisfied: murmurhash<1.1.0,>=0.28.0 in /usr/local/lib/python3.6/dist-packages (from spacy>=2.2.2->en_core_web_md==2.2.5) (1.0.2)\n",
            "Requirement already satisfied: preshed<3.1.0,>=3.0.2 in /usr/local/lib/python3.6/dist-packages (from spacy>=2.2.2->en_core_web_md==2.2.5) (3.0.2)\n",
            "Requirement already satisfied: tqdm<5.0.0,>=4.38.0 in /usr/local/lib/python3.6/dist-packages (from spacy>=2.2.2->en_core_web_md==2.2.5) (4.41.1)\n",
            "Requirement already satisfied: requests<3.0.0,>=2.13.0 in /usr/local/lib/python3.6/dist-packages (from spacy>=2.2.2->en_core_web_md==2.2.5) (2.23.0)\n",
            "Requirement already satisfied: srsly<1.1.0,>=1.0.2 in /usr/local/lib/python3.6/dist-packages (from spacy>=2.2.2->en_core_web_md==2.2.5) (1.0.2)\n",
            "Requirement already satisfied: wasabi<1.1.0,>=0.4.0 in /usr/local/lib/python3.6/dist-packages (from spacy>=2.2.2->en_core_web_md==2.2.5) (0.7.0)\n",
            "Requirement already satisfied: setuptools in /usr/local/lib/python3.6/dist-packages (from spacy>=2.2.2->en_core_web_md==2.2.5) (47.3.1)\n",
            "Requirement already satisfied: catalogue<1.1.0,>=0.0.7 in /usr/local/lib/python3.6/dist-packages (from spacy>=2.2.2->en_core_web_md==2.2.5) (1.0.0)\n",
            "Requirement already satisfied: plac<1.2.0,>=0.9.6 in /usr/local/lib/python3.6/dist-packages (from spacy>=2.2.2->en_core_web_md==2.2.5) (1.1.3)\n",
            "Requirement already satisfied: blis<0.5.0,>=0.4.0 in /usr/local/lib/python3.6/dist-packages (from spacy>=2.2.2->en_core_web_md==2.2.5) (0.4.1)\n",
            "Requirement already satisfied: urllib3!=1.25.0,!=1.25.1,<1.26,>=1.21.1 in /usr/local/lib/python3.6/dist-packages (from requests<3.0.0,>=2.13.0->spacy>=2.2.2->en_core_web_md==2.2.5) (1.24.3)\n",
            "Requirement already satisfied: certifi>=2017.4.17 in /usr/local/lib/python3.6/dist-packages (from requests<3.0.0,>=2.13.0->spacy>=2.2.2->en_core_web_md==2.2.5) (2020.6.20)\n",
            "Requirement already satisfied: idna<3,>=2.5 in /usr/local/lib/python3.6/dist-packages (from requests<3.0.0,>=2.13.0->spacy>=2.2.2->en_core_web_md==2.2.5) (2.9)\n",
            "Requirement already satisfied: chardet<4,>=3.0.2 in /usr/local/lib/python3.6/dist-packages (from requests<3.0.0,>=2.13.0->spacy>=2.2.2->en_core_web_md==2.2.5) (3.0.4)\n",
            "Requirement already satisfied: importlib-metadata>=0.20; python_version < \"3.8\" in /usr/local/lib/python3.6/dist-packages (from catalogue<1.1.0,>=0.0.7->spacy>=2.2.2->en_core_web_md==2.2.5) (1.6.1)\n",
            "Requirement already satisfied: zipp>=0.5 in /usr/local/lib/python3.6/dist-packages (from importlib-metadata>=0.20; python_version < \"3.8\"->catalogue<1.1.0,>=0.0.7->spacy>=2.2.2->en_core_web_md==2.2.5) (3.1.0)\n",
            "Building wheels for collected packages: en-core-web-md\n",
            "  Building wheel for en-core-web-md (setup.py) ... \u001b[?25l\u001b[?25hdone\n",
            "  Created wheel for en-core-web-md: filename=en_core_web_md-2.2.5-cp36-none-any.whl size=98051305 sha256=f38ef8efd2227c4a5a7e22bad1efe1ab30eb4725cd8f463fc81db768a905d091\n",
            "  Stored in directory: /tmp/pip-ephem-wheel-cache-hywogkjg/wheels/df/94/ad/f5cf59224cea6b5686ac4fd1ad19c8a07bc026e13c36502d81\n",
            "Successfully built en-core-web-md\n",
            "Installing collected packages: en-core-web-md\n",
            "Successfully installed en-core-web-md-2.2.5\n",
            "\u001b[38;5;2m✔ Download and installation successful\u001b[0m\n",
            "You can now load the model via spacy.load('en_core_web_md')\n"
          ],
          "name": "stdout"
        }
      ]
    },
    {
      "cell_type": "markdown",
      "metadata": {
        "id": "BDdyWXn1IscF",
        "colab_type": "text"
      },
      "source": [
        "#### 한국어 지원"
      ]
    },
    {
      "cell_type": "code",
      "metadata": {
        "id": "AZBumYjUmI2H",
        "colab_type": "code",
        "colab": {}
      },
      "source": [
        "#spacy는 현재 colab에서는 기본 설치되어 있다. 한국어 지원만 다음 과정을 따르면 된다."
      ],
      "execution_count": 7,
      "outputs": []
    },
    {
      "cell_type": "code",
      "metadata": {
        "id": "voy1IJoblAUA",
        "colab_type": "code",
        "colab": {}
      },
      "source": [
        "# 한국어 형태소 분석을 위한 mecab-ko 설치가 필요하다.\n",
        "#remove \" > /dev/null 2>&1\" to see what is going on under the hood\n",
        "!git clone https://github.com/SOMJANG/Mecab-ko-for-Google-Colab.git > /dev/null 2>&1"
      ],
      "execution_count": 8,
      "outputs": []
    },
    {
      "cell_type": "code",
      "metadata": {
        "id": "T8g9V0WJlQTT",
        "colab_type": "code",
        "colab": {
          "base_uri": "https://localhost:8080/",
          "height": 54
        },
        "outputId": "66c526df-33f6-4b1b-e911-4365e8420e69"
      },
      "source": [
        "cd Mecab-ko-for-Google-Colab"
      ],
      "execution_count": 9,
      "outputs": [
        {
          "output_type": "stream",
          "text": [
            "/content/Mecab-ko-for-Google-Colab\n"
          ],
          "name": "stdout"
        }
      ]
    },
    {
      "cell_type": "code",
      "metadata": {
        "id": "JX8T9oYpkkub",
        "colab_type": "code",
        "colab": {}
      },
      "source": [
        "!bash install_mecab-ko_on_colab190912.sh > /dev/null 2>&1"
      ],
      "execution_count": 10,
      "outputs": []
    },
    {
      "cell_type": "code",
      "metadata": {
        "id": "c7WuGokFkpaR",
        "colab_type": "code",
        "colab": {}
      },
      "source": [
        "# natto-py를 설치해야 mecab-ko를 spaCy에 연동가능하다.\n",
        "!pip install natto-py > /dev/null 2>&1"
      ],
      "execution_count": 11,
      "outputs": []
    },
    {
      "cell_type": "code",
      "metadata": {
        "id": "kZlJi4UfkrZm",
        "colab_type": "code",
        "colab": {
          "base_uri": "https://localhost:8080/",
          "height": 120
        },
        "outputId": "2e39f926-b1c5-4fc6-8f67-98cd630af0bc"
      },
      "source": [
        "# 한국어 처리 가능여부 테스트. 이 코드가 제대로 실행되면 spaCy 한국어 지원이 제대로 된 것이다.\n",
        "from spacy.lang.ko import Korean\n",
        "\n",
        "nlp_ko = Korean()\n",
        "\n",
        "doc = nlp_ko(u'이것은 문장이다') #Creates a Doc object \n",
        "\n",
        "for token in doc:  \n",
        "    print(token.text, token.pos_, token.tag_) #prints the text and POS"
      ],
      "execution_count": 2,
      "outputs": [
        {
          "output_type": "stream",
          "text": [
            "이것 PRON NP\n",
            "은 ADP JX\n",
            "문장 NOUN NNG\n",
            "이 ADP VCP\n",
            "다 X EC\n"
          ],
          "name": "stdout"
        }
      ]
    },
    {
      "cell_type": "code",
      "metadata": {
        "id": "oLWcGA5orWgU",
        "colab_type": "code",
        "colab": {
          "base_uri": "https://localhost:8080/",
          "height": 54
        },
        "outputId": "f728c0f9-0b0d-4abd-ceaf-46cdcadfc72c"
      },
      "source": [
        "cd /content"
      ],
      "execution_count": 3,
      "outputs": [
        {
          "output_type": "stream",
          "text": [
            "/content\n"
          ],
          "name": "stdout"
        }
      ]
    },
    {
      "cell_type": "markdown",
      "metadata": {
        "id": "I1mxzGZkmUlY",
        "colab_type": "text"
      },
      "source": [
        "---------"
      ]
    },
    {
      "cell_type": "markdown",
      "metadata": {
        "id": "sf3ZJQT7h0FS",
        "colab_type": "text"
      },
      "source": [
        "# UNDERSTANDING WORD VECTORS"
      ]
    },
    {
      "cell_type": "markdown",
      "metadata": {
        "id": "VE3gxlSHiBNd",
        "colab_type": "text"
      },
      "source": [
        "## Defining Meaning with Coordinates"
      ]
    },
    {
      "cell_type": "markdown",
      "metadata": {
        "id": "x6SPlAY0iH5z",
        "colab_type": "text"
      },
      "source": [
        "## Using Dimensions to Represent Meaning"
      ]
    },
    {
      "cell_type": "markdown",
      "metadata": {
        "id": "agf7OgWSiPbm",
        "colab_type": "text"
      },
      "source": [
        "## The Similarity Method"
      ]
    },
    {
      "cell_type": "code",
      "metadata": {
        "id": "-MBL2rjRy6mM",
        "colab_type": "code",
        "colab": {}
      },
      "source": [
        "import spacy"
      ],
      "execution_count": 4,
      "outputs": []
    },
    {
      "cell_type": "code",
      "metadata": {
        "id": "SwEC9ZNqy8_5",
        "colab_type": "code",
        "colab": {}
      },
      "source": [
        "nlp = spacy.load('en')"
      ],
      "execution_count": 5,
      "outputs": []
    },
    {
      "cell_type": "code",
      "metadata": {
        "id": "guBQtqSWzBVB",
        "colab_type": "code",
        "colab": {}
      },
      "source": [
        "doc=nlp('I want a green apple.')"
      ],
      "execution_count": 6,
      "outputs": []
    },
    {
      "cell_type": "code",
      "metadata": {
        "id": "BVOHkU_fzHTO",
        "colab_type": "code",
        "colab": {
          "base_uri": "https://localhost:8080/",
          "height": 87
        },
        "outputId": "2e461511-0975-42d4-9427-ee541fa099bd"
      },
      "source": [
        "doc.similarity(doc[2:5])"
      ],
      "execution_count": 7,
      "outputs": [
        {
          "output_type": "stream",
          "text": [
            "/usr/lib/python3.6/runpy.py:193: ModelsWarning: [W007] The model you're using has no word vectors loaded, so the result of the Doc.similarity method will be based on the tagger, parser and NER, which may not give useful similarity judgements. This may happen if you're using one of the small models, e.g. `en_core_web_sm`, which don't ship with word vectors and only use context-sensitive tensors. You can always add your own word vectors, or use one of the larger models instead if available.\n",
            "  \"__main__\", mod_spec)\n"
          ],
          "name": "stderr"
        },
        {
          "output_type": "execute_result",
          "data": {
            "text/plain": [
              "0.7797949542342982"
            ]
          },
          "metadata": {
            "tags": []
          },
          "execution_count": 7
        }
      ]
    },
    {
      "cell_type": "code",
      "metadata": {
        "id": "zr2zbB0JMBFu",
        "colab_type": "code",
        "colab": {}
      },
      "source": [
        "# 스몰 모델들은 word vector들이 없다. \n",
        "# 좀 큰 모델들을 쓰자.\n",
        "# 참고 - https://spacy.io/usage/vectors-similarity"
      ],
      "execution_count": null,
      "outputs": []
    },
    {
      "cell_type": "code",
      "metadata": {
        "id": "qRHiv6eb-AFE",
        "colab_type": "code",
        "colab": {}
      },
      "source": [
        "nlp = spacy.load('en_core_web_md')"
      ],
      "execution_count": 8,
      "outputs": []
    },
    {
      "cell_type": "code",
      "metadata": {
        "id": "oGBTJYko_Kpy",
        "colab_type": "code",
        "colab": {
          "base_uri": "https://localhost:8080/",
          "height": 54
        },
        "outputId": "0a1b05a0-59b5-455c-ab1d-bad60f555468"
      },
      "source": [
        "doc=nlp('I want a green apple.')\n",
        "doc.similarity(doc[2:5])"
      ],
      "execution_count": 9,
      "outputs": [
        {
          "output_type": "execute_result",
          "data": {
            "text/plain": [
              "0.8776482403927138"
            ]
          },
          "metadata": {
            "tags": []
          },
          "execution_count": 9
        }
      ]
    },
    {
      "cell_type": "code",
      "metadata": {
        "id": "goMprt5c_3N0",
        "colab_type": "code",
        "colab": {}
      },
      "source": [
        "doc2=nlp('I like red oranges.')"
      ],
      "execution_count": 10,
      "outputs": []
    },
    {
      "cell_type": "code",
      "metadata": {
        "id": "XqkqBNqa_7lI",
        "colab_type": "code",
        "colab": {
          "base_uri": "https://localhost:8080/",
          "height": 54
        },
        "outputId": "f6c8f03f-6db3-4832-9250-7b95d9bd3bf3"
      },
      "source": [
        "doc2.similarity(doc[2:5])"
      ],
      "execution_count": 11,
      "outputs": [
        {
          "output_type": "execute_result",
          "data": {
            "text/plain": [
              "0.7266315063402384"
            ]
          },
          "metadata": {
            "tags": []
          },
          "execution_count": 11
        }
      ]
    },
    {
      "cell_type": "code",
      "metadata": {
        "id": "2-6UDiN9_vxT",
        "colab_type": "code",
        "colab": {}
      },
      "source": [
        "token = doc2[3:4][0]\n"
      ],
      "execution_count": 12,
      "outputs": []
    },
    {
      "cell_type": "code",
      "metadata": {
        "id": "nRctHVNwADaF",
        "colab_type": "code",
        "colab": {
          "base_uri": "https://localhost:8080/",
          "height": 54
        },
        "outputId": "93ee5b63-7a0f-4cb0-b8c2-01b0f27d5355"
      },
      "source": [
        "token"
      ],
      "execution_count": 13,
      "outputs": [
        {
          "output_type": "execute_result",
          "data": {
            "text/plain": [
              "oranges"
            ]
          },
          "metadata": {
            "tags": []
          },
          "execution_count": 13
        }
      ]
    },
    {
      "cell_type": "code",
      "metadata": {
        "id": "utwstz3aAFjD",
        "colab_type": "code",
        "colab": {
          "base_uri": "https://localhost:8080/",
          "height": 54
        },
        "outputId": "9afb5a4b-08eb-455a-c83b-ee674f2b48b1"
      },
      "source": [
        "doc[4:5]"
      ],
      "execution_count": 14,
      "outputs": [
        {
          "output_type": "execute_result",
          "data": {
            "text/plain": [
              "apple"
            ]
          },
          "metadata": {
            "tags": []
          },
          "execution_count": 14
        }
      ]
    },
    {
      "cell_type": "code",
      "metadata": {
        "id": "qQgaHFHZAID2",
        "colab_type": "code",
        "colab": {
          "base_uri": "https://localhost:8080/",
          "height": 54
        },
        "outputId": "059dde01-83d2-4590-e855-fc1d37ab9737"
      },
      "source": [
        "token.similarity(doc[4:5])"
      ],
      "execution_count": 15,
      "outputs": [
        {
          "output_type": "execute_result",
          "data": {
            "text/plain": [
              "0.50937694"
            ]
          },
          "metadata": {
            "tags": []
          },
          "execution_count": 15
        }
      ]
    },
    {
      "cell_type": "markdown",
      "metadata": {
        "id": "lEQMpstSiURG",
        "colab_type": "text"
      },
      "source": [
        "## Choosing Keywords for Semantic Simlarity Calculation"
      ]
    },
    {
      "cell_type": "markdown",
      "metadata": {
        "id": "HmocBJ7YiZ7W",
        "colab_type": "text"
      },
      "source": [
        "# INSTALLING WORD VECTORS"
      ]
    },
    {
      "cell_type": "markdown",
      "metadata": {
        "id": "tD380oOridW1",
        "colab_type": "text"
      },
      "source": [
        "## Taking Advantage of Word Vectors That Come with spaCy Models"
      ]
    },
    {
      "cell_type": "markdown",
      "metadata": {
        "id": "06sDlAlJAd5a",
        "colab_type": "text"
      },
      "source": [
        "* https://github.com/explosion/spacy-models/releases/"
      ]
    },
    {
      "cell_type": "markdown",
      "metadata": {
        "id": "n9z6FWDjilEV",
        "colab_type": "text"
      },
      "source": [
        "## Using Third-Party Word Vectors"
      ]
    },
    {
      "cell_type": "markdown",
      "metadata": {
        "id": "IdXZF3GnA4gm",
        "colab_type": "text"
      },
      "source": [
        "* https://fasttext.cc/docs/en/english-vectors.html\n"
      ]
    },
    {
      "cell_type": "code",
      "metadata": {
        "id": "nRwoZNqeBQLW",
        "colab_type": "code",
        "colab": {
          "base_uri": "https://localhost:8080/",
          "height": 220
        },
        "outputId": "f64589ea-e437-451c-cfe6-1fe9622b223d"
      },
      "source": [
        "!wget https://dl.fbaipublicfiles.com/fasttext/vectors-english/wiki-news-300d-1M.vec.zip"
      ],
      "execution_count": 19,
      "outputs": [
        {
          "output_type": "stream",
          "text": [
            "--2020-07-09 05:21:07--  https://dl.fbaipublicfiles.com/fasttext/vectors-english/wiki-news-300d-1M.vec.zip\n",
            "Resolving dl.fbaipublicfiles.com (dl.fbaipublicfiles.com)... 172.67.9.4, 104.22.75.142, 104.22.74.142, ...\n",
            "Connecting to dl.fbaipublicfiles.com (dl.fbaipublicfiles.com)|172.67.9.4|:443... connected.\n",
            "HTTP request sent, awaiting response... 200 OK\n",
            "Length: 681808098 (650M) [application/zip]\n",
            "Saving to: ‘wiki-news-300d-1M.vec.zip’\n",
            "\n",
            "wiki-news-300d-1M.v 100%[===================>] 650.22M  22.5MB/s    in 30s     \n",
            "\n",
            "2020-07-09 05:21:37 (21.9 MB/s) - ‘wiki-news-300d-1M.vec.zip’ saved [681808098/681808098]\n",
            "\n"
          ],
          "name": "stdout"
        }
      ]
    },
    {
      "cell_type": "code",
      "metadata": {
        "id": "S7JcqHvCBbSv",
        "colab_type": "code",
        "colab": {
          "base_uri": "https://localhost:8080/",
          "height": 104
        },
        "outputId": "54889993-30f0-42b1-b780-9572a160d6e1"
      },
      "source": [
        "!ls"
      ],
      "execution_count": 22,
      "outputs": [
        {
          "output_type": "stream",
          "text": [
            "mecab-0.996-ko-0.9.2\t\t    Mecab-ko-for-Google-Colab\n",
            "mecab-0.996-ko-0.9.2.tar.gz\t    sample_data\n",
            "mecab-ko-dic-2.1.1-20180720\t    wiki-news-300d-1M.vec.zip\n",
            "mecab-ko-dic-2.1.1-20180720.tar.gz\n"
          ],
          "name": "stdout"
        }
      ]
    },
    {
      "cell_type": "code",
      "metadata": {
        "id": "muAzeYjSBs19",
        "colab_type": "code",
        "colab": {
          "base_uri": "https://localhost:8080/",
          "height": 71
        },
        "outputId": "01edfd3b-e55a-426e-fbff-23ee693c5212"
      },
      "source": [
        "!unzip wiki-news-300d-1M.vec.zip"
      ],
      "execution_count": 25,
      "outputs": [
        {
          "output_type": "stream",
          "text": [
            "Archive:  wiki-news-300d-1M.vec.zip\n",
            "  inflating: wiki-news-300d-1M.vec   \n"
          ],
          "name": "stdout"
        }
      ]
    },
    {
      "cell_type": "code",
      "metadata": {
        "id": "-j82QuonBwVq",
        "colab_type": "code",
        "colab": {
          "base_uri": "https://localhost:8080/",
          "height": 104
        },
        "outputId": "20e551aa-59dd-4f18-8bcb-0ef2c1dbc10e"
      },
      "source": [
        "!ls"
      ],
      "execution_count": 26,
      "outputs": [
        {
          "output_type": "stream",
          "text": [
            "mecab-0.996-ko-0.9.2\t\t    Mecab-ko-for-Google-Colab\n",
            "mecab-0.996-ko-0.9.2.tar.gz\t    sample_data\n",
            "mecab-ko-dic-2.1.1-20180720\t    wiki-news-300d-1M.vec\n",
            "mecab-ko-dic-2.1.1-20180720.tar.gz  wiki-news-300d-1M.vec.zip\n"
          ],
          "name": "stdout"
        }
      ]
    },
    {
      "cell_type": "code",
      "metadata": {
        "id": "vA7wCWl1BisY",
        "colab_type": "code",
        "colab": {
          "base_uri": "https://localhost:8080/",
          "height": 54
        },
        "outputId": "3c14dda8-93b0-468d-de4b-602ba7ba4a44"
      },
      "source": [
        "!ls /tmp"
      ],
      "execution_count": 27,
      "outputs": [
        {
          "output_type": "stream",
          "text": [
            "mecab-python-0.996\n"
          ],
          "name": "stdout"
        }
      ]
    },
    {
      "cell_type": "code",
      "metadata": {
        "id": "lu1rEwXlBkt-",
        "colab_type": "code",
        "colab": {
          "base_uri": "https://localhost:8080/",
          "height": 137
        },
        "outputId": "7718ac92-8dd5-4f92-bac3-c654aa96f3e3"
      },
      "source": [
        "!python -m spacy init-model en /tmp/en_vectors_wiki_lg --vectors-loc wiki-news-300d-1M.vec"
      ],
      "execution_count": 28,
      "outputs": [
        {
          "output_type": "stream",
          "text": [
            "\u001b[2K\u001b[38;5;2m✔ Successfully created model\u001b[0m\n",
            "⠙ Reading vectors from wiki-news-300d-1M.vectcmalloc: large alloc 1199996928 bytes == 0x3e28000 @  0x7fba3ec69001 0x7fba3c7cd765 0x7fba3c831bb0 0x7fba3c833a4f 0x7fba3c8ca048 0x50a635 0x50cd96 0x509758 0x50a48d 0x50bfb4 0x507d64 0x509a90 0x50a48d 0x50bfb4 0x507d64 0x588d41 0x59fc4e 0x50d356 0x507d64 0x509a90 0x50a48d 0x50bfb4 0x507d64 0x509a90 0x50a48d 0x50bfb4 0x507d64 0x516345 0x50a2bf 0x50bfb4 0x507d64\n",
            "999994it [01:12, 13721.26it/s]\n",
            "\u001b[2K\u001b[38;5;2m✔ Loaded vectors from wiki-news-300d-1M.vec\u001b[0m\n",
            "\u001b[38;5;2m✔ Sucessfully compiled vocab\u001b[0m\n",
            "1000207 entries, 999994 vectors\n"
          ],
          "name": "stdout"
        }
      ]
    },
    {
      "cell_type": "code",
      "metadata": {
        "id": "NCa40FRnCW32",
        "colab_type": "code",
        "colab": {
          "base_uri": "https://localhost:8080/",
          "height": 54
        },
        "outputId": "3c242bd4-2e5e-47f7-8ac0-00e97bff8a9a"
      },
      "source": [
        "!ls /tmp"
      ],
      "execution_count": 29,
      "outputs": [
        {
          "output_type": "stream",
          "text": [
            "en_vectors_wiki_lg  mecab-python-0.996\n"
          ],
          "name": "stdout"
        }
      ]
    },
    {
      "cell_type": "code",
      "metadata": {
        "id": "Fe4ECZKACZaH",
        "colab_type": "code",
        "colab": {}
      },
      "source": [
        "nlp = spacy.load('/tmp/en_vectors_wiki_lg')"
      ],
      "execution_count": 30,
      "outputs": []
    },
    {
      "cell_type": "code",
      "metadata": {
        "id": "-ZKzePjYCfU9",
        "colab_type": "code",
        "colab": {}
      },
      "source": [
        "doc = nlp(u'Hi there!')"
      ],
      "execution_count": 31,
      "outputs": []
    },
    {
      "cell_type": "code",
      "metadata": {
        "id": "gbowTezuCkgQ",
        "colab_type": "code",
        "colab": {}
      },
      "source": [
        "doc2 = nlp(u'Hello!')"
      ],
      "execution_count": 32,
      "outputs": []
    },
    {
      "cell_type": "code",
      "metadata": {
        "id": "EHrAbYcvCqaY",
        "colab_type": "code",
        "colab": {
          "base_uri": "https://localhost:8080/",
          "height": 54
        },
        "outputId": "7c084700-77e1-4cf9-b4fe-c22a095dfd33"
      },
      "source": [
        "doc.similarity(doc2)"
      ],
      "execution_count": 33,
      "outputs": [
        {
          "output_type": "execute_result",
          "data": {
            "text/plain": [
              "0.7745887808397667"
            ]
          },
          "metadata": {
            "tags": []
          },
          "execution_count": 33
        }
      ]
    },
    {
      "cell_type": "code",
      "metadata": {
        "id": "Dl0dwBrsCtui",
        "colab_type": "code",
        "colab": {
          "base_uri": "https://localhost:8080/",
          "height": 247
        },
        "outputId": "f9929f98-757a-4403-d538-1927b3aa3818"
      },
      "source": [
        "list(doc.sents)"
      ],
      "execution_count": 35,
      "outputs": [
        {
          "output_type": "error",
          "ename": "ValueError",
          "evalue": "ignored",
          "traceback": [
            "\u001b[0;31m---------------------------------------------------------------------------\u001b[0m",
            "\u001b[0;31mValueError\u001b[0m                                Traceback (most recent call last)",
            "\u001b[0;32m<ipython-input-35-533c53c1bfc1>\u001b[0m in \u001b[0;36m<module>\u001b[0;34m()\u001b[0m\n\u001b[0;32m----> 1\u001b[0;31m \u001b[0mlist\u001b[0m\u001b[0;34m(\u001b[0m\u001b[0mdoc\u001b[0m\u001b[0;34m.\u001b[0m\u001b[0msents\u001b[0m\u001b[0;34m)\u001b[0m\u001b[0;34m\u001b[0m\u001b[0;34m\u001b[0m\u001b[0m\n\u001b[0m",
            "\u001b[0;32mdoc.pyx\u001b[0m in \u001b[0;36msents\u001b[0;34m()\u001b[0m\n",
            "\u001b[0;31mValueError\u001b[0m: [E030] Sentence boundaries unset. You can add the 'sentencizer' component to the pipeline with: nlp.add_pipe(nlp.create_pipe('sentencizer')) Alternatively, add the dependency parser, or set sentence boundaries by setting doc[i].is_sent_start."
          ]
        }
      ]
    },
    {
      "cell_type": "markdown",
      "metadata": {
        "id": "TFOI0GwJirtn",
        "colab_type": "text"
      },
      "source": [
        "# COMPARING SPACY OBJECTS"
      ]
    },
    {
      "cell_type": "markdown",
      "metadata": {
        "id": "25MTZGhiixU-",
        "colab_type": "text"
      },
      "source": [
        "## Using Semantic Similarity for Categorization Tasks"
      ]
    },
    {
      "cell_type": "code",
      "metadata": {
        "id": "-oxC6baxE0iH",
        "colab_type": "code",
        "colab": {}
      },
      "source": [
        "import spacy"
      ],
      "execution_count": 16,
      "outputs": []
    },
    {
      "cell_type": "code",
      "metadata": {
        "id": "Y69YblVkG0_O",
        "colab_type": "code",
        "colab": {}
      },
      "source": [
        "nlp = spacy.load('en')"
      ],
      "execution_count": 17,
      "outputs": []
    },
    {
      "cell_type": "code",
      "metadata": {
        "id": "z7v7R5CrG4Yi",
        "colab_type": "code",
        "colab": {}
      },
      "source": [
        "token = nlp(u'fruits')[0]"
      ],
      "execution_count": 18,
      "outputs": []
    },
    {
      "cell_type": "code",
      "metadata": {
        "id": "VijlosRyG6hu",
        "colab_type": "code",
        "colab": {
          "base_uri": "https://localhost:8080/",
          "height": 1000
        },
        "outputId": "73a55073-7c36-4586-82ba-13f0522fe4f7"
      },
      "source": [
        "dir(token)"
      ],
      "execution_count": 19,
      "outputs": [
        {
          "output_type": "execute_result",
          "data": {
            "text/plain": [
              "['_',\n",
              " '__bytes__',\n",
              " '__class__',\n",
              " '__delattr__',\n",
              " '__dir__',\n",
              " '__doc__',\n",
              " '__eq__',\n",
              " '__format__',\n",
              " '__ge__',\n",
              " '__getattribute__',\n",
              " '__gt__',\n",
              " '__hash__',\n",
              " '__init__',\n",
              " '__init_subclass__',\n",
              " '__le__',\n",
              " '__len__',\n",
              " '__lt__',\n",
              " '__ne__',\n",
              " '__new__',\n",
              " '__pyx_vtable__',\n",
              " '__reduce__',\n",
              " '__reduce_ex__',\n",
              " '__repr__',\n",
              " '__setattr__',\n",
              " '__sizeof__',\n",
              " '__str__',\n",
              " '__subclasshook__',\n",
              " '__unicode__',\n",
              " 'ancestors',\n",
              " 'check_flag',\n",
              " 'children',\n",
              " 'cluster',\n",
              " 'conjuncts',\n",
              " 'dep',\n",
              " 'dep_',\n",
              " 'doc',\n",
              " 'ent_id',\n",
              " 'ent_id_',\n",
              " 'ent_iob',\n",
              " 'ent_iob_',\n",
              " 'ent_kb_id',\n",
              " 'ent_kb_id_',\n",
              " 'ent_type',\n",
              " 'ent_type_',\n",
              " 'get_extension',\n",
              " 'has_extension',\n",
              " 'has_vector',\n",
              " 'head',\n",
              " 'i',\n",
              " 'idx',\n",
              " 'is_alpha',\n",
              " 'is_ancestor',\n",
              " 'is_ascii',\n",
              " 'is_bracket',\n",
              " 'is_currency',\n",
              " 'is_digit',\n",
              " 'is_left_punct',\n",
              " 'is_lower',\n",
              " 'is_oov',\n",
              " 'is_punct',\n",
              " 'is_quote',\n",
              " 'is_right_punct',\n",
              " 'is_sent_start',\n",
              " 'is_space',\n",
              " 'is_stop',\n",
              " 'is_title',\n",
              " 'is_upper',\n",
              " 'lang',\n",
              " 'lang_',\n",
              " 'left_edge',\n",
              " 'lefts',\n",
              " 'lemma',\n",
              " 'lemma_',\n",
              " 'lex_id',\n",
              " 'like_email',\n",
              " 'like_num',\n",
              " 'like_url',\n",
              " 'lower',\n",
              " 'lower_',\n",
              " 'morph',\n",
              " 'n_lefts',\n",
              " 'n_rights',\n",
              " 'nbor',\n",
              " 'norm',\n",
              " 'norm_',\n",
              " 'orth',\n",
              " 'orth_',\n",
              " 'pos',\n",
              " 'pos_',\n",
              " 'prefix',\n",
              " 'prefix_',\n",
              " 'prob',\n",
              " 'rank',\n",
              " 'remove_extension',\n",
              " 'right_edge',\n",
              " 'rights',\n",
              " 'sent',\n",
              " 'sent_start',\n",
              " 'sentiment',\n",
              " 'set_extension',\n",
              " 'shape',\n",
              " 'shape_',\n",
              " 'similarity',\n",
              " 'string',\n",
              " 'subtree',\n",
              " 'suffix',\n",
              " 'suffix_',\n",
              " 'tag',\n",
              " 'tag_',\n",
              " 'tensor',\n",
              " 'text',\n",
              " 'text_with_ws',\n",
              " 'vector',\n",
              " 'vector_norm',\n",
              " 'vocab',\n",
              " 'whitespace_']"
            ]
          },
          "metadata": {
            "tags": []
          },
          "execution_count": 19
        }
      ]
    },
    {
      "cell_type": "code",
      "metadata": {
        "id": "EzF4RlT9G9My",
        "colab_type": "code",
        "colab": {
          "base_uri": "https://localhost:8080/",
          "height": 54
        },
        "outputId": "9bd9fddd-3951-47b0-813c-4e87d1b476f8"
      },
      "source": [
        "len(token.vector)"
      ],
      "execution_count": 20,
      "outputs": [
        {
          "output_type": "execute_result",
          "data": {
            "text/plain": [
              "96"
            ]
          },
          "metadata": {
            "tags": []
          },
          "execution_count": 20
        }
      ]
    },
    {
      "cell_type": "code",
      "metadata": {
        "id": "5gKhA9MaHCaJ",
        "colab_type": "code",
        "colab": {
          "base_uri": "https://localhost:8080/",
          "height": 368
        },
        "outputId": "ec1007ba-8be1-45c0-fe9c-3b0e557499ab"
      },
      "source": [
        "token.vector"
      ],
      "execution_count": 21,
      "outputs": [
        {
          "output_type": "execute_result",
          "data": {
            "text/plain": [
              "array([-0.42313766, -1.5219803 ,  1.8062537 , -0.10860249,  4.2001243 ,\n",
              "        1.0371083 ,  1.6287208 , -0.9370397 ,  3.622073  ,  1.673081  ,\n",
              "        1.3778045 ,  1.2819282 , -1.2067546 , -1.656326  , -2.265429  ,\n",
              "       -4.2958536 , -1.6239485 ,  2.0366178 ,  3.4640632 ,  0.801809  ,\n",
              "       -0.7266513 ,  2.2622411 , -1.3504235 , -2.0843291 ,  0.04761223,\n",
              "       -1.5259031 , -1.3454005 , -0.6611922 , -0.5495672 , -0.3901107 ,\n",
              "        0.48570472, -0.3916537 , -0.7102418 , -0.06347874, -1.1732581 ,\n",
              "       -2.8313022 ,  2.410955  ,  1.8356858 ,  0.9147787 ,  0.93207747,\n",
              "        4.1247177 ,  2.0704372 , -1.7011753 , -4.559993  ,  2.6494184 ,\n",
              "        1.1709806 ,  0.9448991 , -1.465476  ,  0.23902848,  0.6384096 ,\n",
              "        0.6676779 , -2.0990973 , -2.906227  ,  1.2280506 , -0.41311637,\n",
              "       -0.96673214,  0.23182857, -0.2629048 ,  0.6141429 ,  1.3221782 ,\n",
              "       -2.2965207 ,  5.1121726 , -1.156902  ,  0.9593956 , -0.04784768,\n",
              "       -2.7432258 ,  1.4514859 , -2.959045  ,  0.13119525, -0.5731987 ,\n",
              "        0.12518299, -1.7168229 ,  1.3278097 , -0.34084564, -1.3673506 ,\n",
              "       -0.522105  ,  0.35304123, -2.5495567 ,  1.0626098 , -0.01851389,\n",
              "       -0.02271032,  3.0206473 , -0.9484755 , -0.8058951 , -1.0315993 ,\n",
              "        2.573225  , -1.0165007 , -2.6157024 ,  0.31154114, -1.0155783 ,\n",
              "        0.21939778, -1.1199514 ,  1.635385  ,  2.5201235 ,  1.3304892 ,\n",
              "        2.2931395 ], dtype=float32)"
            ]
          },
          "metadata": {
            "tags": []
          },
          "execution_count": 21
        }
      ]
    },
    {
      "cell_type": "code",
      "metadata": {
        "id": "WuxhJt3DHFGf",
        "colab_type": "code",
        "colab": {}
      },
      "source": [
        "doc = nlp(u'I want to buy this beautiful book at the end of the week. Sales of citrus have increased over the last year. How much do you know about this type of tree?')"
      ],
      "execution_count": 22,
      "outputs": []
    },
    {
      "cell_type": "code",
      "metadata": {
        "id": "k6Uwnn7gHMq6",
        "colab_type": "code",
        "colab": {
          "base_uri": "https://localhost:8080/",
          "height": 286
        },
        "outputId": "4f29354a-caad-4fe5-bdc5-1d6524b79b48"
      },
      "source": [
        "for sent in doc.sents:\n",
        "  print(sent.text)\n",
        "  print('similarity to', token.text, 'is', token.similarity(sent),'\\n')"
      ],
      "execution_count": 23,
      "outputs": [
        {
          "output_type": "stream",
          "text": [
            "I want to buy this beautiful book at the end of the week.\n",
            "similarity to fruits is 0.23322244 \n",
            "\n",
            "Sales of citrus have increased over the last year.\n",
            "similarity to fruits is 0.3847329 \n",
            "\n",
            "How much do you know about this type of tree?\n",
            "similarity to fruits is 0.1432642 \n",
            "\n"
          ],
          "name": "stdout"
        },
        {
          "output_type": "stream",
          "text": [
            "/usr/lib/python3.6/runpy.py:193: ModelsWarning: [W007] The model you're using has no word vectors loaded, so the result of the Token.similarity method will be based on the tagger, parser and NER, which may not give useful similarity judgements. This may happen if you're using one of the small models, e.g. `en_core_web_sm`, which don't ship with word vectors and only use context-sensitive tensors. You can always add your own word vectors, or use one of the larger models instead if available.\n",
            "  \"__main__\", mod_spec)\n",
            "/usr/lib/python3.6/runpy.py:193: ModelsWarning: [W007] The model you're using has no word vectors loaded, so the result of the Token.similarity method will be based on the tagger, parser and NER, which may not give useful similarity judgements. This may happen if you're using one of the small models, e.g. `en_core_web_sm`, which don't ship with word vectors and only use context-sensitive tensors. You can always add your own word vectors, or use one of the larger models instead if available.\n",
            "  \"__main__\", mod_spec)\n",
            "/usr/lib/python3.6/runpy.py:193: ModelsWarning: [W007] The model you're using has no word vectors loaded, so the result of the Token.similarity method will be based on the tagger, parser and NER, which may not give useful similarity judgements. This may happen if you're using one of the small models, e.g. `en_core_web_sm`, which don't ship with word vectors and only use context-sensitive tensors. You can always add your own word vectors, or use one of the larger models instead if available.\n",
            "  \"__main__\", mod_spec)\n"
          ],
          "name": "stderr"
        }
      ]
    },
    {
      "cell_type": "code",
      "metadata": {
        "id": "srtqkiwhHa8P",
        "colab_type": "code",
        "colab": {}
      },
      "source": [
        ""
      ],
      "execution_count": null,
      "outputs": []
    },
    {
      "cell_type": "code",
      "metadata": {
        "id": "ndN4KSsJE3c3",
        "colab_type": "code",
        "colab": {}
      },
      "source": [
        "nlp = spacy.load('en_core_web_md')"
      ],
      "execution_count": 24,
      "outputs": []
    },
    {
      "cell_type": "code",
      "metadata": {
        "id": "26nfjC1eF-ed",
        "colab_type": "code",
        "colab": {}
      },
      "source": [
        "token = nlp(u'fruits')[0]"
      ],
      "execution_count": 25,
      "outputs": []
    },
    {
      "cell_type": "code",
      "metadata": {
        "id": "2LFo2lW1GiUR",
        "colab_type": "code",
        "colab": {
          "base_uri": "https://localhost:8080/",
          "height": 1000
        },
        "outputId": "c9452176-8106-4867-cdc2-64cf4dcc434f"
      },
      "source": [
        "dir(token)"
      ],
      "execution_count": 27,
      "outputs": [
        {
          "output_type": "execute_result",
          "data": {
            "text/plain": [
              "['_',\n",
              " '__bytes__',\n",
              " '__class__',\n",
              " '__delattr__',\n",
              " '__dir__',\n",
              " '__doc__',\n",
              " '__eq__',\n",
              " '__format__',\n",
              " '__ge__',\n",
              " '__getattribute__',\n",
              " '__gt__',\n",
              " '__hash__',\n",
              " '__init__',\n",
              " '__init_subclass__',\n",
              " '__le__',\n",
              " '__len__',\n",
              " '__lt__',\n",
              " '__ne__',\n",
              " '__new__',\n",
              " '__pyx_vtable__',\n",
              " '__reduce__',\n",
              " '__reduce_ex__',\n",
              " '__repr__',\n",
              " '__setattr__',\n",
              " '__sizeof__',\n",
              " '__str__',\n",
              " '__subclasshook__',\n",
              " '__unicode__',\n",
              " 'ancestors',\n",
              " 'check_flag',\n",
              " 'children',\n",
              " 'cluster',\n",
              " 'conjuncts',\n",
              " 'dep',\n",
              " 'dep_',\n",
              " 'doc',\n",
              " 'ent_id',\n",
              " 'ent_id_',\n",
              " 'ent_iob',\n",
              " 'ent_iob_',\n",
              " 'ent_kb_id',\n",
              " 'ent_kb_id_',\n",
              " 'ent_type',\n",
              " 'ent_type_',\n",
              " 'get_extension',\n",
              " 'has_extension',\n",
              " 'has_vector',\n",
              " 'head',\n",
              " 'i',\n",
              " 'idx',\n",
              " 'is_alpha',\n",
              " 'is_ancestor',\n",
              " 'is_ascii',\n",
              " 'is_bracket',\n",
              " 'is_currency',\n",
              " 'is_digit',\n",
              " 'is_left_punct',\n",
              " 'is_lower',\n",
              " 'is_oov',\n",
              " 'is_punct',\n",
              " 'is_quote',\n",
              " 'is_right_punct',\n",
              " 'is_sent_start',\n",
              " 'is_space',\n",
              " 'is_stop',\n",
              " 'is_title',\n",
              " 'is_upper',\n",
              " 'lang',\n",
              " 'lang_',\n",
              " 'left_edge',\n",
              " 'lefts',\n",
              " 'lemma',\n",
              " 'lemma_',\n",
              " 'lex_id',\n",
              " 'like_email',\n",
              " 'like_num',\n",
              " 'like_url',\n",
              " 'lower',\n",
              " 'lower_',\n",
              " 'morph',\n",
              " 'n_lefts',\n",
              " 'n_rights',\n",
              " 'nbor',\n",
              " 'norm',\n",
              " 'norm_',\n",
              " 'orth',\n",
              " 'orth_',\n",
              " 'pos',\n",
              " 'pos_',\n",
              " 'prefix',\n",
              " 'prefix_',\n",
              " 'prob',\n",
              " 'rank',\n",
              " 'remove_extension',\n",
              " 'right_edge',\n",
              " 'rights',\n",
              " 'sent',\n",
              " 'sent_start',\n",
              " 'sentiment',\n",
              " 'set_extension',\n",
              " 'shape',\n",
              " 'shape_',\n",
              " 'similarity',\n",
              " 'string',\n",
              " 'subtree',\n",
              " 'suffix',\n",
              " 'suffix_',\n",
              " 'tag',\n",
              " 'tag_',\n",
              " 'tensor',\n",
              " 'text',\n",
              " 'text_with_ws',\n",
              " 'vector',\n",
              " 'vector_norm',\n",
              " 'vocab',\n",
              " 'whitespace_']"
            ]
          },
          "metadata": {
            "tags": []
          },
          "execution_count": 27
        }
      ]
    },
    {
      "cell_type": "code",
      "metadata": {
        "id": "9K5Rd-rYGZh_",
        "colab_type": "code",
        "colab": {
          "base_uri": "https://localhost:8080/",
          "height": 54
        },
        "outputId": "d0af7aa8-d7c1-458a-d2d8-12346af17a2c"
      },
      "source": [
        "len(token.vector)"
      ],
      "execution_count": 28,
      "outputs": [
        {
          "output_type": "execute_result",
          "data": {
            "text/plain": [
              "300"
            ]
          },
          "metadata": {
            "tags": []
          },
          "execution_count": 28
        }
      ]
    },
    {
      "cell_type": "code",
      "metadata": {
        "id": "gMtvU-pQE6Hb",
        "colab_type": "code",
        "colab": {}
      },
      "source": [
        "doc = nlp(u'I want to buy this beautiful book at the end of the week. Sales of citrus have increased over the last year. How much do you know about this type of tree?')\n"
      ],
      "execution_count": 29,
      "outputs": []
    },
    {
      "cell_type": "code",
      "metadata": {
        "id": "i7g8laTLFDdY",
        "colab_type": "code",
        "colab": {
          "base_uri": "https://localhost:8080/",
          "height": 186
        },
        "outputId": "1fe51d93-be62-4fe1-928c-66aacabb9571"
      },
      "source": [
        "for sent in doc.sents:\n",
        "  print(sent.text)\n",
        "  print('similarity to', token.text, 'is', token.similarity(sent),'\\n')"
      ],
      "execution_count": 30,
      "outputs": [
        {
          "output_type": "stream",
          "text": [
            "I want to buy this beautiful book at the end of the week.\n",
            "similarity to fruits is 0.31009278 \n",
            "\n",
            "Sales of citrus have increased over the last year.\n",
            "similarity to fruits is 0.38043892 \n",
            "\n",
            "How much do you know about this type of tree?\n",
            "similarity to fruits is 0.34322935 \n",
            "\n"
          ],
          "name": "stdout"
        }
      ]
    },
    {
      "cell_type": "markdown",
      "metadata": {
        "id": "yxqvSscrIjxV",
        "colab_type": "text"
      },
      "source": [
        "## Extracting Nouns as a Preprocessing Step"
      ]
    },
    {
      "cell_type": "code",
      "metadata": {
        "id": "YP1GHGfjMvgm",
        "colab_type": "code",
        "colab": {}
      },
      "source": [
        "import spacy"
      ],
      "execution_count": 31,
      "outputs": []
    },
    {
      "cell_type": "code",
      "metadata": {
        "id": "5kAi9goDKopX",
        "colab_type": "code",
        "colab": {
          "base_uri": "https://localhost:8080/",
          "height": 54
        },
        "outputId": "0d1b2df8-e5ad-4bd6-d705-c03a5a725678"
      },
      "source": [
        "spacy.load(\"en_core_web_md\")"
      ],
      "execution_count": 32,
      "outputs": [
        {
          "output_type": "execute_result",
          "data": {
            "text/plain": [
              "<spacy.lang.en.English at 0x7f579fec86a0>"
            ]
          },
          "metadata": {
            "tags": []
          },
          "execution_count": 32
        }
      ]
    },
    {
      "cell_type": "code",
      "metadata": {
        "id": "_Gjd94nnM3nI",
        "colab_type": "code",
        "colab": {}
      },
      "source": [
        "token = nlp(u'fruits')[0]"
      ],
      "execution_count": 33,
      "outputs": []
    },
    {
      "cell_type": "code",
      "metadata": {
        "id": "Su_XCdrsM9xo",
        "colab_type": "code",
        "colab": {}
      },
      "source": [
        "doc = nlp(u'I want to buy this beautiful book at the end of the week. Sales of citrus have increased over the last year. How much do you know about this type of tree?')"
      ],
      "execution_count": 34,
      "outputs": []
    },
    {
      "cell_type": "code",
      "metadata": {
        "id": "lU1gGsLOIyk2",
        "colab_type": "code",
        "colab": {}
      },
      "source": [
        "similarity = {}"
      ],
      "execution_count": 37,
      "outputs": []
    },
    {
      "cell_type": "code",
      "metadata": {
        "id": "VKDfwZ2KIgVY",
        "colab_type": "code",
        "colab": {
          "base_uri": "https://localhost:8080/",
          "height": 236
        },
        "outputId": "69800a78-7d67-4e5a-9650-ff419bab074b"
      },
      "source": [
        "for i, sent in enumerate(doc.sents):\n",
        "  print(sent)\n",
        "  noun_span_str = [sent[j].text for j in range(len(sent)) if sent[j].pos_ == 'NOUN']\n",
        "  print(noun_span_str)\n",
        "  \n",
        "  noun_span_str = ' '.join(noun_span_str)\n",
        "  print(noun_span_str)\n",
        "  \n",
        "  noun_span_doc = nlp(noun_span_str)\n",
        "  \n",
        "  similarity.update({i:token.similarity(noun_span_doc)})\n",
        "  print(similarity)                                             "
      ],
      "execution_count": 38,
      "outputs": [
        {
          "output_type": "stream",
          "text": [
            "I want to buy this beautiful book at the end of the week.\n",
            "['book', 'end', 'week']\n",
            "book end week\n",
            "{0: 0.21712277267612565}\n",
            "Sales of citrus have increased over the last year.\n",
            "['Sales', 'citrus', 'year']\n",
            "Sales citrus year\n",
            "{0: 0.21712277267612565, 1: 0.4317850954030255}\n",
            "How much do you know about this type of tree?\n",
            "['type', 'tree']\n",
            "type tree\n",
            "{0: 0.21712277267612565, 1: 0.4317850954030255, 2: 0.3960727120792394}\n"
          ],
          "name": "stdout"
        }
      ]
    },
    {
      "cell_type": "code",
      "metadata": {
        "id": "cI77Y1DGNZZH",
        "colab_type": "code",
        "colab": {
          "base_uri": "https://localhost:8080/",
          "height": 54
        },
        "outputId": "6111daa0-6b7e-4ea6-a095-c36546cfa463"
      },
      "source": [
        "print(similarity)"
      ],
      "execution_count": 39,
      "outputs": [
        {
          "output_type": "stream",
          "text": [
            "{0: 0.21712277267612565, 1: 0.4317850954030255, 2: 0.3960727120792394}\n"
          ],
          "name": "stdout"
        }
      ]
    },
    {
      "cell_type": "markdown",
      "metadata": {
        "id": "lpNfBkoKi1uf",
        "colab_type": "text"
      },
      "source": [
        "## Try This"
      ]
    },
    {
      "cell_type": "markdown",
      "metadata": {
        "id": "LEL8_SWOi79V",
        "colab_type": "text"
      },
      "source": [
        "## Extracting and Comparing Named Entities"
      ]
    },
    {
      "cell_type": "markdown",
      "metadata": {
        "id": "LohtJAyw8B2X",
        "colab_type": "text"
      },
      "source": [
        "-------------"
      ]
    },
    {
      "cell_type": "markdown",
      "metadata": {
        "id": "i3Q73Bna8DhE",
        "colab_type": "text"
      },
      "source": [
        "# Pretrained 한국어 Word2Vec을 spaCy에서 사용하기"
      ]
    },
    {
      "cell_type": "markdown",
      "metadata": {
        "id": "8srFPoigkXxO",
        "colab_type": "text"
      },
      "source": [
        "#### 참고 \n",
        "* spaCy official doc. Word Vectors and Semantic Similarity - https://spacy.io/usage/vectors-similarity\n",
        "* gensim official doc. models.keyedvectors – Store and query word vectors - https://radimrehurek.com/gensim/models/keyedvectors.html\n",
        "* GENSIM WORD2VEC SIMPLE USAGE - https://gorakgarak.tistory.com/1330\n",
        "* 딥 러닝을 이용한 자연어 처리 입문 - 영어/한국어 Word2Vec 실습 WikiDocs\n",
        "3) 영어/한국어 Word2Vec 실습 - https://wikidocs.net/50739\n",
        "* Pre-trained word vectors of 30+ languages - https://github.com/Kyubyong/wordvectors"
      ]
    },
    {
      "cell_type": "markdown",
      "metadata": {
        "id": "-stLqQpIM-k3",
        "colab_type": "text"
      },
      "source": [
        "#### spaCy 모델로 만들기"
      ]
    },
    {
      "cell_type": "code",
      "metadata": {
        "id": "I8LOl7KSrlmM",
        "colab_type": "code",
        "colab": {
          "base_uri": "https://localhost:8080/",
          "height": 170
        },
        "outputId": "37528414-ca76-4a11-8091-54df1218f424"
      },
      "source": [
        "!git clone https://github.com/babelPish/slaw.git"
      ],
      "execution_count": null,
      "outputs": [
        {
          "output_type": "stream",
          "text": [
            "Cloning into 'slaw'...\n",
            "remote: Enumerating objects: 16, done.\u001b[K\n",
            "remote: Counting objects: 100% (16/16), done.\u001b[K\n",
            "remote: Compressing objects: 100% (13/13), done.\u001b[K\n",
            "remote: Total 169 (delta 5), reused 0 (delta 0), pack-reused 153\u001b[K\n",
            "Receiving objects: 100% (169/169), 177.17 MiB | 28.83 MiB/s, done.\n",
            "Resolving deltas: 100% (65/65), done.\n",
            "Checking out files: 100% (20/20), done.\n"
          ],
          "name": "stdout"
        }
      ]
    },
    {
      "cell_type": "code",
      "metadata": {
        "id": "xpiy5R54sBVE",
        "colab_type": "code",
        "colab": {
          "base_uri": "https://localhost:8080/",
          "height": 87
        },
        "outputId": "98f2b181-de71-4883-b837-abd7e00dfbfd"
      },
      "source": [
        "ls"
      ],
      "execution_count": null,
      "outputs": [
        {
          "output_type": "stream",
          "text": [
            "\u001b[0m\u001b[01;34mmecab-0.996-ko-0.9.2\u001b[0m/         mecab-ko-dic-2.1.1-20180720.tar.gz  \u001b[01;34mslaw\u001b[0m/\n",
            "mecab-0.996-ko-0.9.2.tar.gz   \u001b[01;34mMecab-ko-for-Google-Colab\u001b[0m/\n",
            "\u001b[01;34mmecab-ko-dic-2.1.1-20180720\u001b[0m/  \u001b[01;34msample_data\u001b[0m/\n"
          ],
          "name": "stdout"
        }
      ]
    },
    {
      "cell_type": "code",
      "metadata": {
        "id": "hSLVMMl0sH8g",
        "colab_type": "code",
        "colab": {
          "base_uri": "https://localhost:8080/",
          "height": 54
        },
        "outputId": "0cf3cfe3-a3b7-450b-daec-9acc3f4b84d8"
      },
      "source": [
        "cd /content/slaw/spacy_basic/colab_notebooks/"
      ],
      "execution_count": null,
      "outputs": [
        {
          "output_type": "stream",
          "text": [
            "/content/slaw/spacy_basic/colab_notebooks\n"
          ],
          "name": "stdout"
        }
      ]
    },
    {
      "cell_type": "code",
      "metadata": {
        "id": "VmPfEcWBsNUC",
        "colab_type": "code",
        "colab": {
          "base_uri": "https://localhost:8080/",
          "height": 54
        },
        "outputId": "711089b3-ad83-41c7-a437-97c13166097c"
      },
      "source": [
        "ls"
      ],
      "execution_count": null,
      "outputs": [
        {
          "output_type": "stream",
          "text": [
            "05_working_with_word_vectors.ipynb  \u001b[0m\u001b[01;34mmodels\u001b[0m/\n"
          ],
          "name": "stdout"
        }
      ]
    },
    {
      "cell_type": "code",
      "metadata": {
        "id": "viu1g2CXsOG7",
        "colab_type": "code",
        "colab": {
          "base_uri": "https://localhost:8080/",
          "height": 54
        },
        "outputId": "527c06c3-c2b4-489d-899a-50760440219f"
      },
      "source": [
        "cd models"
      ],
      "execution_count": null,
      "outputs": [
        {
          "output_type": "stream",
          "text": [
            "/content/slaw/spacy_basic/colab_notebooks/models\n"
          ],
          "name": "stdout"
        }
      ]
    },
    {
      "cell_type": "code",
      "metadata": {
        "id": "TJrGX4m6sPjK",
        "colab_type": "code",
        "colab": {
          "base_uri": "https://localhost:8080/",
          "height": 54
        },
        "outputId": "25c88fc3-fc32-40d5-99af-f72385050a80"
      },
      "source": [
        "ls"
      ],
      "execution_count": null,
      "outputs": [
        {
          "output_type": "stream",
          "text": [
            "\u001b[0m\u001b[01;34mko_ft_gensim\u001b[0m/  \u001b[01;34mko_ft_spacy\u001b[0m/  \u001b[01;34mko_wv\u001b[0m/  \u001b[01;34mko_wv_gensim\u001b[0m/  \u001b[01;34mko_wv_spacy\u001b[0m/\n"
          ],
          "name": "stdout"
        }
      ]
    },
    {
      "cell_type": "code",
      "metadata": {
        "id": "AAP_bo8JsQMh",
        "colab_type": "code",
        "colab": {
          "base_uri": "https://localhost:8080/",
          "height": 54
        },
        "outputId": "81bcb498-24c2-4418-a865-715fc03ddcff"
      },
      "source": [
        "cd ko_wv"
      ],
      "execution_count": null,
      "outputs": [
        {
          "output_type": "stream",
          "text": [
            "/content/slaw/spacy_basic/colab_notebooks/models/ko_wv\n"
          ],
          "name": "stdout"
        }
      ]
    },
    {
      "cell_type": "code",
      "metadata": {
        "id": "Z10Anmh2sSAu",
        "colab_type": "code",
        "colab": {
          "base_uri": "https://localhost:8080/",
          "height": 54
        },
        "outputId": "2ee3ca03-0936-428f-e83e-eb264c48bc19"
      },
      "source": [
        "ls"
      ],
      "execution_count": null,
      "outputs": [
        {
          "output_type": "stream",
          "text": [
            "ko.zip\n"
          ],
          "name": "stdout"
        }
      ]
    },
    {
      "cell_type": "code",
      "metadata": {
        "id": "xcpV9VggsUGa",
        "colab_type": "code",
        "colab": {
          "base_uri": "https://localhost:8080/",
          "height": 68
        },
        "outputId": "1c26c8ac-0500-4324-d57a-00f06a824e1c"
      },
      "source": [
        "!unzip ko.zip"
      ],
      "execution_count": null,
      "outputs": [
        {
          "output_type": "stream",
          "text": [
            "Archive:  ko.zip\n",
            "  inflating: ko.bin                  \n",
            "  inflating: ko.tsv                  \n"
          ],
          "name": "stdout"
        }
      ]
    },
    {
      "cell_type": "code",
      "metadata": {
        "id": "WDMOPoS1sV_Q",
        "colab_type": "code",
        "colab": {}
      },
      "source": [
        "import gensim"
      ],
      "execution_count": null,
      "outputs": []
    },
    {
      "cell_type": "code",
      "metadata": {
        "id": "36vlo1YgsrvT",
        "colab_type": "code",
        "colab": {
          "base_uri": "https://localhost:8080/",
          "height": 71
        },
        "outputId": "135c7195-734c-4ea3-8bd5-6efaa5a91824"
      },
      "source": [
        "model = gensim.models.Word2Vec.load('ko.bin')"
      ],
      "execution_count": null,
      "outputs": [
        {
          "output_type": "stream",
          "text": [
            "/usr/local/lib/python3.6/dist-packages/smart_open/smart_open_lib.py:253: UserWarning: This function is deprecated, use smart_open.open instead. See the migration notes for details: https://github.com/RaRe-Technologies/smart_open/blob/master/README.rst#migrating-to-the-new-open-function\n",
            "  'See the migration notes for details: %s' % _MIGRATION_NOTES_URL\n"
          ],
          "name": "stderr"
        }
      ]
    },
    {
      "cell_type": "code",
      "metadata": {
        "id": "FsosdlUosy7L",
        "colab_type": "code",
        "colab": {}
      },
      "source": [
        "kv = model.wv"
      ],
      "execution_count": null,
      "outputs": []
    },
    {
      "cell_type": "code",
      "metadata": {
        "id": "x9s2ninks5le",
        "colab_type": "code",
        "colab": {
          "base_uri": "https://localhost:8080/",
          "height": 71
        },
        "outputId": "5e8be121-069e-4b72-c0d2-e148dc4cf9cb"
      },
      "source": [
        "kv.save_word2vec_format('ko_wv.embd', binary=False)"
      ],
      "execution_count": null,
      "outputs": [
        {
          "output_type": "stream",
          "text": [
            "/usr/local/lib/python3.6/dist-packages/smart_open/smart_open_lib.py:253: UserWarning: This function is deprecated, use smart_open.open instead. See the migration notes for details: https://github.com/RaRe-Technologies/smart_open/blob/master/README.rst#migrating-to-the-new-open-function\n",
            "  'See the migration notes for details: %s' % _MIGRATION_NOTES_URL\n"
          ],
          "name": "stderr"
        }
      ]
    },
    {
      "cell_type": "code",
      "metadata": {
        "id": "yLnAwAdutNSw",
        "colab_type": "code",
        "colab": {
          "base_uri": "https://localhost:8080/",
          "height": 34
        },
        "outputId": "5f9dbc0f-71f4-42a9-c83a-2b7c35c1a448"
      },
      "source": [
        "ls"
      ],
      "execution_count": null,
      "outputs": [
        {
          "output_type": "stream",
          "text": [
            "ko.bin  ko.tsv  ko_wv.embd  \u001b[0m\u001b[01;34mko_wv.spacy.embd\u001b[0m/  ko.zip\n"
          ],
          "name": "stdout"
        }
      ]
    },
    {
      "cell_type": "code",
      "metadata": {
        "id": "cfU-z_7ItPWo",
        "colab_type": "code",
        "colab": {
          "base_uri": "https://localhost:8080/",
          "height": 102
        },
        "outputId": "88a969fd-354d-434e-abab-4d1af9b878f3"
      },
      "source": [
        "!python -m spacy init-model ko ko_wv.spacy.embd --vectors-loc ko_wv.embd"
      ],
      "execution_count": null,
      "outputs": [
        {
          "output_type": "stream",
          "text": [
            "\u001b[2K\u001b[38;5;2m✔ Successfully created model\u001b[0m\n",
            "30185it [00:01, 17350.54it/s]\n",
            "\u001b[2K\u001b[38;5;2m✔ Loaded vectors from ko_wv.embd\u001b[0m\n",
            "\u001b[38;5;2m✔ Sucessfully compiled vocab\u001b[0m\n",
            "30185 entries, 30185 vectors\n"
          ],
          "name": "stdout"
        }
      ]
    },
    {
      "cell_type": "code",
      "metadata": {
        "id": "92WXwjE51vcG",
        "colab_type": "code",
        "colab": {
          "base_uri": "https://localhost:8080/",
          "height": 54
        },
        "outputId": "6ef707a1-1d4e-4346-83bf-a5ecf494cb42"
      },
      "source": [
        "ls"
      ],
      "execution_count": null,
      "outputs": [
        {
          "output_type": "stream",
          "text": [
            "\u001b[0m\u001b[01;34mko_ft_gensim\u001b[0m/  \u001b[01;34mko_ft_spacy\u001b[0m/  \u001b[01;34mko_wv\u001b[0m/  \u001b[01;34mko_wv_gensim\u001b[0m/  \u001b[01;34mko_wv_spacy\u001b[0m/\n"
          ],
          "name": "stdout"
        }
      ]
    },
    {
      "cell_type": "code",
      "metadata": {
        "id": "yEnMa3-cthLm",
        "colab_type": "code",
        "colab": {
          "base_uri": "https://localhost:8080/",
          "height": 54
        },
        "outputId": "49f91840-8b53-4ced-a877-e2716f4654e8"
      },
      "source": [
        "ls ko_wv.spacy.embd"
      ],
      "execution_count": null,
      "outputs": [
        {
          "output_type": "stream",
          "text": [
            "ls: cannot access 'ko_wv.spacy.embd': No such file or directory\n"
          ],
          "name": "stdout"
        }
      ]
    },
    {
      "cell_type": "markdown",
      "metadata": {
        "id": "qjz8DzXjNIA7",
        "colab_type": "text"
      },
      "source": [
        "#### 만들어진 모델 로드해서 사용하기"
      ]
    },
    {
      "cell_type": "code",
      "metadata": {
        "id": "RKse4yfitmLf",
        "colab_type": "code",
        "colab": {
          "base_uri": "https://localhost:8080/",
          "height": 320
        },
        "outputId": "95cb3f36-a96f-47dc-f03b-e4d134ddcaad"
      },
      "source": [
        "nlp_ko_wv = spacy.load('ko_wv.spacy.embd')"
      ],
      "execution_count": null,
      "outputs": [
        {
          "output_type": "error",
          "ename": "OSError",
          "evalue": "ignored",
          "traceback": [
            "\u001b[0;31m---------------------------------------------------------------------------\u001b[0m",
            "\u001b[0;31mOSError\u001b[0m                                   Traceback (most recent call last)",
            "\u001b[0;32m<ipython-input-18-904297021702>\u001b[0m in \u001b[0;36m<module>\u001b[0;34m()\u001b[0m\n\u001b[0;32m----> 1\u001b[0;31m \u001b[0mnlp_ko_wv\u001b[0m \u001b[0;34m=\u001b[0m \u001b[0mspacy\u001b[0m\u001b[0;34m.\u001b[0m\u001b[0mload\u001b[0m\u001b[0;34m(\u001b[0m\u001b[0;34m'ko_wv.spacy.embd'\u001b[0m\u001b[0;34m)\u001b[0m\u001b[0;34m\u001b[0m\u001b[0;34m\u001b[0m\u001b[0m\n\u001b[0m",
            "\u001b[0;32m/usr/local/lib/python3.6/dist-packages/spacy/__init__.py\u001b[0m in \u001b[0;36mload\u001b[0;34m(name, **overrides)\u001b[0m\n\u001b[1;32m     28\u001b[0m     \u001b[0;32mif\u001b[0m \u001b[0mdepr_path\u001b[0m \u001b[0;32mnot\u001b[0m \u001b[0;32min\u001b[0m \u001b[0;34m(\u001b[0m\u001b[0;32mTrue\u001b[0m\u001b[0;34m,\u001b[0m \u001b[0;32mFalse\u001b[0m\u001b[0;34m,\u001b[0m \u001b[0;32mNone\u001b[0m\u001b[0;34m)\u001b[0m\u001b[0;34m:\u001b[0m\u001b[0;34m\u001b[0m\u001b[0;34m\u001b[0m\u001b[0m\n\u001b[1;32m     29\u001b[0m         \u001b[0mdeprecation_warning\u001b[0m\u001b[0;34m(\u001b[0m\u001b[0mWarnings\u001b[0m\u001b[0;34m.\u001b[0m\u001b[0mW001\u001b[0m\u001b[0;34m.\u001b[0m\u001b[0mformat\u001b[0m\u001b[0;34m(\u001b[0m\u001b[0mpath\u001b[0m\u001b[0;34m=\u001b[0m\u001b[0mdepr_path\u001b[0m\u001b[0;34m)\u001b[0m\u001b[0;34m)\u001b[0m\u001b[0;34m\u001b[0m\u001b[0;34m\u001b[0m\u001b[0m\n\u001b[0;32m---> 30\u001b[0;31m     \u001b[0;32mreturn\u001b[0m \u001b[0mutil\u001b[0m\u001b[0;34m.\u001b[0m\u001b[0mload_model\u001b[0m\u001b[0;34m(\u001b[0m\u001b[0mname\u001b[0m\u001b[0;34m,\u001b[0m \u001b[0;34m**\u001b[0m\u001b[0moverrides\u001b[0m\u001b[0;34m)\u001b[0m\u001b[0;34m\u001b[0m\u001b[0;34m\u001b[0m\u001b[0m\n\u001b[0m\u001b[1;32m     31\u001b[0m \u001b[0;34m\u001b[0m\u001b[0m\n\u001b[1;32m     32\u001b[0m \u001b[0;34m\u001b[0m\u001b[0m\n",
            "\u001b[0;32m/usr/local/lib/python3.6/dist-packages/spacy/util.py\u001b[0m in \u001b[0;36mload_model\u001b[0;34m(name, **overrides)\u001b[0m\n\u001b[1;32m    167\u001b[0m     \u001b[0;32melif\u001b[0m \u001b[0mhasattr\u001b[0m\u001b[0;34m(\u001b[0m\u001b[0mname\u001b[0m\u001b[0;34m,\u001b[0m \u001b[0;34m\"exists\"\u001b[0m\u001b[0;34m)\u001b[0m\u001b[0;34m:\u001b[0m  \u001b[0;31m# Path or Path-like to model data\u001b[0m\u001b[0;34m\u001b[0m\u001b[0;34m\u001b[0m\u001b[0m\n\u001b[1;32m    168\u001b[0m         \u001b[0;32mreturn\u001b[0m \u001b[0mload_model_from_path\u001b[0m\u001b[0;34m(\u001b[0m\u001b[0mname\u001b[0m\u001b[0;34m,\u001b[0m \u001b[0;34m**\u001b[0m\u001b[0moverrides\u001b[0m\u001b[0;34m)\u001b[0m\u001b[0;34m\u001b[0m\u001b[0;34m\u001b[0m\u001b[0m\n\u001b[0;32m--> 169\u001b[0;31m     \u001b[0;32mraise\u001b[0m \u001b[0mIOError\u001b[0m\u001b[0;34m(\u001b[0m\u001b[0mErrors\u001b[0m\u001b[0;34m.\u001b[0m\u001b[0mE050\u001b[0m\u001b[0;34m.\u001b[0m\u001b[0mformat\u001b[0m\u001b[0;34m(\u001b[0m\u001b[0mname\u001b[0m\u001b[0;34m=\u001b[0m\u001b[0mname\u001b[0m\u001b[0;34m)\u001b[0m\u001b[0;34m)\u001b[0m\u001b[0;34m\u001b[0m\u001b[0;34m\u001b[0m\u001b[0m\n\u001b[0m\u001b[1;32m    170\u001b[0m \u001b[0;34m\u001b[0m\u001b[0m\n\u001b[1;32m    171\u001b[0m \u001b[0;34m\u001b[0m\u001b[0m\n",
            "\u001b[0;31mOSError\u001b[0m: [E050] Can't find model 'ko_wv.spacy.embd'. It doesn't seem to be a shortcut link, a Python package or a valid path to a data directory."
          ]
        }
      ]
    },
    {
      "cell_type": "code",
      "metadata": {
        "id": "MDjA4Szrtm-a",
        "colab_type": "code",
        "colab": {}
      },
      "source": [
        "doc1 = nlp_ko_wv('안녕하세요') "
      ],
      "execution_count": null,
      "outputs": []
    },
    {
      "cell_type": "code",
      "metadata": {
        "id": "sHpu7ngb2hQX",
        "colab_type": "code",
        "colab": {}
      },
      "source": [
        "doc2 = nlp_ko_wv('안녕')"
      ],
      "execution_count": null,
      "outputs": []
    },
    {
      "cell_type": "code",
      "metadata": {
        "id": "ydHcFEx82lTZ",
        "colab_type": "code",
        "colab": {}
      },
      "source": [
        "doc3 = nlp_ko_wv('반갑다')"
      ],
      "execution_count": null,
      "outputs": []
    },
    {
      "cell_type": "code",
      "metadata": {
        "id": "SM6FCcPG2oQS",
        "colab_type": "code",
        "colab": {}
      },
      "source": [
        "doc4 = nlp_ko_wv('강아지')"
      ],
      "execution_count": null,
      "outputs": []
    },
    {
      "cell_type": "code",
      "metadata": {
        "id": "xWq_2UyqP1e0",
        "colab_type": "code",
        "colab": {}
      },
      "source": [
        "doc5 = nlp_ko_wv('겔럭시')"
      ],
      "execution_count": null,
      "outputs": []
    },
    {
      "cell_type": "code",
      "metadata": {
        "id": "LM97iSUtP5Po",
        "colab_type": "code",
        "colab": {}
      },
      "source": [
        "doc6 = nlp_ko_wv('갤럭시')"
      ],
      "execution_count": null,
      "outputs": []
    },
    {
      "cell_type": "code",
      "metadata": {
        "id": "BikWo0ff2tfu",
        "colab_type": "code",
        "colab": {
          "base_uri": "https://localhost:8080/",
          "height": 34
        },
        "outputId": "e615d1b8-be12-482c-974d-f90b7cb47b44"
      },
      "source": [
        "doc1.similarity(doc1)"
      ],
      "execution_count": null,
      "outputs": [
        {
          "output_type": "execute_result",
          "data": {
            "text/plain": [
              "1.0"
            ]
          },
          "metadata": {
            "tags": []
          },
          "execution_count": 64
        }
      ]
    },
    {
      "cell_type": "code",
      "metadata": {
        "id": "3UEvjmtL2wkZ",
        "colab_type": "code",
        "colab": {
          "base_uri": "https://localhost:8080/",
          "height": 34
        },
        "outputId": "8daad3d8-7d94-4e7a-b93c-7d2fe14ce881"
      },
      "source": [
        "doc1.similarity(doc2)"
      ],
      "execution_count": null,
      "outputs": [
        {
          "output_type": "execute_result",
          "data": {
            "text/plain": [
              "0.3767422436269971"
            ]
          },
          "metadata": {
            "tags": []
          },
          "execution_count": 65
        }
      ]
    },
    {
      "cell_type": "code",
      "metadata": {
        "id": "u91kasMf2ymf",
        "colab_type": "code",
        "colab": {
          "base_uri": "https://localhost:8080/",
          "height": 34
        },
        "outputId": "b0f07517-35bc-449d-8c6a-06d4452aa0a5"
      },
      "source": [
        "doc1.similarity(doc3)"
      ],
      "execution_count": null,
      "outputs": [
        {
          "output_type": "execute_result",
          "data": {
            "text/plain": [
              "0.06939425105226041"
            ]
          },
          "metadata": {
            "tags": []
          },
          "execution_count": 66
        }
      ]
    },
    {
      "cell_type": "code",
      "metadata": {
        "id": "n82kaz8W23de",
        "colab_type": "code",
        "colab": {
          "base_uri": "https://localhost:8080/",
          "height": 34
        },
        "outputId": "d7b5661e-8f2d-4285-cc09-0fd160df7204"
      },
      "source": [
        "doc1.similarity(doc4)"
      ],
      "execution_count": null,
      "outputs": [
        {
          "output_type": "execute_result",
          "data": {
            "text/plain": [
              "-0.038436487747098264"
            ]
          },
          "metadata": {
            "tags": []
          },
          "execution_count": 67
        }
      ]
    },
    {
      "cell_type": "code",
      "metadata": {
        "id": "1mPzdrXAQBxV",
        "colab_type": "code",
        "colab": {
          "base_uri": "https://localhost:8080/",
          "height": 34
        },
        "outputId": "7148b2bc-f202-4508-cb10-dca9afdcd106"
      },
      "source": [
        "doc5.similarity(doc6)"
      ],
      "execution_count": null,
      "outputs": [
        {
          "output_type": "execute_result",
          "data": {
            "text/plain": [
              "0.2627900996926142"
            ]
          },
          "metadata": {
            "tags": []
          },
          "execution_count": 101
        }
      ]
    },
    {
      "cell_type": "markdown",
      "metadata": {
        "id": "484JhtdwFLQF",
        "colab_type": "text"
      },
      "source": [
        "#### 시각화"
      ]
    },
    {
      "cell_type": "markdown",
      "metadata": {
        "id": "-21NoOVtTHxY",
        "colab_type": "text"
      },
      "source": [
        "#### 참고\n",
        "* https://www.kaggle.com/zackakil/\n",
        "* https://towardsdatascience.com/an-introduction-to-t-sne-with-python-example-5a3a293108d1"
      ]
    },
    {
      "cell_type": "code",
      "metadata": {
        "id": "ro8AP_RIROd9",
        "colab_type": "code",
        "colab": {
          "base_uri": "https://localhost:8080/",
          "height": 54
        },
        "outputId": "19731551-fb8d-4a7b-fd49-ee5c6ed3fbaa"
      },
      "source": [
        "cd /content"
      ],
      "execution_count": null,
      "outputs": [
        {
          "output_type": "stream",
          "text": [
            "/content\n"
          ],
          "name": "stdout"
        }
      ]
    },
    {
      "cell_type": "code",
      "metadata": {
        "id": "12g9iuCTvf4T",
        "colab_type": "code",
        "colab": {
          "base_uri": "https://localhost:8080/",
          "height": 54
        },
        "outputId": "5369898e-e2a8-466a-b6f7-df9133d349e2"
      },
      "source": [
        "!ls /content/slaw/spacy_basic/colab_notebooks/models/ko_wv_spacy"
      ],
      "execution_count": null,
      "outputs": [
        {
          "output_type": "stream",
          "text": [
            "ko_wv.spacy.embd\n"
          ],
          "name": "stdout"
        }
      ]
    },
    {
      "cell_type": "code",
      "metadata": {
        "id": "lOWERIqPvvew",
        "colab_type": "code",
        "colab": {}
      },
      "source": [
        "ko_wv_spacy_model_path = '/content/slaw/spacy_basic/colab_notebooks/models/ko_wv_spacy/ko_wv.spacy.embd'"
      ],
      "execution_count": null,
      "outputs": []
    },
    {
      "cell_type": "code",
      "metadata": {
        "id": "GjGZOVeDvdBA",
        "colab_type": "code",
        "colab": {}
      },
      "source": [
        "nlp_ko_wv = spacy.load(ko_wv_spacy_model_path)"
      ],
      "execution_count": null,
      "outputs": []
    },
    {
      "cell_type": "code",
      "metadata": {
        "id": "jbWJCPQHNT1x",
        "colab_type": "code",
        "colab": {}
      },
      "source": [
        "# 임베딩 벡터 시각화"
      ],
      "execution_count": null,
      "outputs": []
    },
    {
      "cell_type": "code",
      "metadata": {
        "id": "Fr9nJMdsNu6x",
        "colab_type": "code",
        "colab": {}
      },
      "source": [
        "# import the PCA module from sklearn\n",
        "from sklearn.decomposition import PCA"
      ],
      "execution_count": null,
      "outputs": []
    },
    {
      "cell_type": "code",
      "metadata": {
        "id": "HFfs0QN1MtQz",
        "colab_type": "code",
        "colab": {}
      },
      "source": [
        "import matplotlib.pyplot as plt"
      ],
      "execution_count": null,
      "outputs": []
    },
    {
      "cell_type": "code",
      "metadata": {
        "id": "rlW11_ijNZ4h",
        "colab_type": "code",
        "colab": {}
      },
      "source": [
        "def get_word_vectors(words, nlp):\n",
        "    # converts a list of words into their word vectors\n",
        "    return [nlp(word).vector for word in words]"
      ],
      "execution_count": null,
      "outputs": []
    },
    {
      "cell_type": "code",
      "metadata": {
        "id": "95wV0kwzN3RZ",
        "colab_type": "code",
        "colab": {}
      },
      "source": [
        "# -- pca로 2차원으로 만들어서 비교"
      ],
      "execution_count": null,
      "outputs": []
    },
    {
      "cell_type": "code",
      "metadata": {
        "id": "9M-u_vbXNn8I",
        "colab_type": "code",
        "colab": {}
      },
      "source": [
        "words = ['개', '고양이', '고냥이', '호랑이', '물고기', '어항', '서울', '부산', '소년', '소녀', '남자', '여자', '왕', '여왕', '갤럭시', '겔럭시', '갤럭시S']\n"
      ],
      "execution_count": null,
      "outputs": []
    },
    {
      "cell_type": "code",
      "metadata": {
        "id": "o6cnrZjKN8BV",
        "colab_type": "code",
        "colab": {}
      },
      "source": [
        "pca = PCA(n_components=2)\n",
        "\n",
        "word_vecs_2d = pca.fit_transform(get_word_vectors(words, nlp_ko_wv))"
      ],
      "execution_count": null,
      "outputs": []
    },
    {
      "cell_type": "code",
      "metadata": {
        "id": "Hp8Fft_HOI4w",
        "colab_type": "code",
        "colab": {
          "base_uri": "https://localhost:8080/",
          "height": 319
        },
        "outputId": "41514e9a-4924-4c02-81af-268471f8c2d2"
      },
      "source": [
        "# let's look at our new 2D word vectors\n",
        "word_vecs_2d"
      ],
      "execution_count": null,
      "outputs": [
        {
          "output_type": "execute_result",
          "data": {
            "text/plain": [
              "array([[ 7.05820496,  0.29064889],\n",
              "       [-5.11078507, -0.48736596],\n",
              "       [ 0.83681329, -0.18886111],\n",
              "       [-1.71393893, -1.14019936],\n",
              "       [-3.14083547,  1.32684867],\n",
              "       [13.91980054,  7.60919949],\n",
              "       [ 8.61786939, -6.42035333],\n",
              "       [ 9.57121242, -6.37529967],\n",
              "       [-5.26221941, -3.99789804],\n",
              "       [-8.79895288, -6.52531741],\n",
              "       [-7.19391036, -4.06245702],\n",
              "       [-4.25858685, -4.53677859],\n",
              "       [-5.86611941, 13.81088281],\n",
              "       [-5.34314213,  8.19349578],\n",
              "       [ 2.10699856,  0.36363953],\n",
              "       [ 2.61780751,  1.66568144],\n",
              "       [ 1.95978385,  0.47413387]])"
            ]
          },
          "metadata": {
            "tags": []
          },
          "execution_count": 39
        }
      ]
    },
    {
      "cell_type": "code",
      "metadata": {
        "id": "2dZDaDz4O0Sa",
        "colab_type": "code",
        "colab": {
          "base_uri": "https://localhost:8080/",
          "height": 679
        },
        "outputId": "4ab5b8b4-8e5a-4a28-e4ee-4c2a1052ed20"
      },
      "source": [
        "# create a nice big plot \n",
        "plt.figure(figsize=(10,10))\n",
        "\n",
        "# plot the scatter plot of where the words will be\n",
        "plt.scatter(word_vecs_2d[:,0], word_vecs_2d[:,1])\n",
        "\n",
        "# for each word and coordinate pair: draw the text on the plot\n",
        "for word, coord in zip(words, word_vecs_2d):\n",
        "    x, y = coord\n",
        "    plt.text(x, y, word, size= 15)\n",
        "\n",
        "# show the plot\n",
        "plt.show()"
      ],
      "execution_count": null,
      "outputs": [
        {
          "output_type": "stream",
          "text": [
            "/usr/local/lib/python3.6/dist-packages/matplotlib/backends/backend_agg.py:214: RuntimeWarning: Glyph 8722 missing from current font.\n",
            "  font.set_text(s, 0.0, flags=flags)\n",
            "/usr/local/lib/python3.6/dist-packages/matplotlib/backends/backend_agg.py:183: RuntimeWarning: Glyph 8722 missing from current font.\n",
            "  font.set_text(s, 0, flags=flags)\n"
          ],
          "name": "stderr"
        },
        {
          "output_type": "display_data",
          "data": {
            "image/png": "[encoded data removed]",
            "text/plain": [
              "<Figure size 720x720 with 1 Axes>"
            ]
          },
          "metadata": {
            "tags": [],
            "needs_background": "light"
          }
        }
      ]
    },
    {
      "cell_type": "code",
      "metadata": {
        "id": "EHq3cDCoT2XK",
        "colab_type": "code",
        "colab": {}
      },
      "source": [
        "from sklearn.manifold import TSNE"
      ],
      "execution_count": null,
      "outputs": []
    },
    {
      "cell_type": "code",
      "metadata": {
        "id": "r_p6AD2iT-oJ",
        "colab_type": "code",
        "colab": {}
      },
      "source": [
        "tsne = TSNE(n_components=2) \n",
        "\n",
        "word_vecs_2d_tsne = tsne.fit_transform(get_word_vectors(words, nlp_ko_wv))"
      ],
      "execution_count": null,
      "outputs": []
    },
    {
      "cell_type": "code",
      "metadata": {
        "id": "joNBJeTfUQFY",
        "colab_type": "code",
        "colab": {
          "base_uri": "https://localhost:8080/",
          "height": 306
        },
        "outputId": "5f514b7b-e35d-4602-bf8a-5ff9138aa5bf"
      },
      "source": [
        "word_vecs_2d_tsne"
      ],
      "execution_count": null,
      "outputs": [
        {
          "output_type": "execute_result",
          "data": {
            "text/plain": [
              "array([[  31.75179 ,   12.67315 ],\n",
              "       [-118.182   , -120.05919 ],\n",
              "       [ 303.68015 , -250.16342 ],\n",
              "       [ 224.93568 ,  -45.62455 ],\n",
              "       [-247.03677 ,  275.12134 ],\n",
              "       [ 384.2352  ,  189.40573 ],\n",
              "       [  74.96504 , -186.12015 ],\n",
              "       [-116.2925  , -337.84595 ],\n",
              "       [ -11.799062,  212.98178 ],\n",
              "       [ -41.640438,  417.28772 ],\n",
              "       [-313.14413 , -190.20203 ],\n",
              "       [-161.02051 ,   74.65319 ],\n",
              "       [-366.04547 ,   44.708775],\n",
              "       [ 196.90375 ,  360.43967 ],\n",
              "       [ 179.88597 ,  148.12593 ],\n",
              "       [ 433.03638 ,  -43.2075  ],\n",
              "       [ 114.290085, -392.50024 ]], dtype=float32)"
            ]
          },
          "metadata": {
            "tags": []
          },
          "execution_count": 179
        }
      ]
    },
    {
      "cell_type": "code",
      "metadata": {
        "id": "5ZBTP8lAUTGx",
        "colab_type": "code",
        "colab": {
          "base_uri": "https://localhost:8080/",
          "height": 660
        },
        "outputId": "47b0cff6-9218-49a4-d002-a5f51a8d30c1"
      },
      "source": [
        "# create a nice big plot \n",
        "plt.figure(figsize=(10,10))\n",
        "\n",
        "# plot the scatter plot of where the words will be\n",
        "plt.scatter(word_vecs_2d_tsne[:,0], word_vecs_2d_tsne[:,1])\n",
        "\n",
        "# for each word and coordinate pair: draw the text on the plot\n",
        "for word, coord in zip(words, word_vecs_2d_tsne):\n",
        "    x, y = coord\n",
        "    plt.text(x, y, word, size= 15)\n",
        "\n",
        "# show the plot\n",
        "plt.show()"
      ],
      "execution_count": null,
      "outputs": [
        {
          "output_type": "stream",
          "text": [
            "/usr/local/lib/python3.6/dist-packages/matplotlib/backends/backend_agg.py:214: RuntimeWarning: Glyph 8722 missing from current font.\n",
            "  font.set_text(s, 0.0, flags=flags)\n",
            "/usr/local/lib/python3.6/dist-packages/matplotlib/backends/backend_agg.py:183: RuntimeWarning: Glyph 8722 missing from current font.\n",
            "  font.set_text(s, 0, flags=flags)\n"
          ],
          "name": "stderr"
        },
        {
          "output_type": "display_data",
          "data": {
            "image/png": "[encoded data removed]",
            "text/plain": [
              "<Figure size 720x720 with 1 Axes>"
            ]
          },
          "metadata": {
            "tags": [],
            "needs_background": "light"
          }
        }
      ]
    },
    {
      "cell_type": "markdown",
      "metadata": {
        "id": "avBM_s66TO8_",
        "colab_type": "text"
      },
      "source": [
        "#### 참고\n",
        "* https://rasahq.github.io/whatlies/\n",
        "* https://spacy.io/universe/project/whatlies"
      ]
    },
    {
      "cell_type": "code",
      "metadata": {
        "id": "Sf78hcNhMwK-",
        "colab_type": "code",
        "colab": {}
      },
      "source": [
        "# whatlies 사용해보기"
      ],
      "execution_count": null,
      "outputs": []
    },
    {
      "cell_type": "code",
      "metadata": {
        "id": "PmGedZUZFVUZ",
        "colab_type": "code",
        "colab": {}
      },
      "source": [
        "from whatlies import EmbeddingSet\n",
        "from whatlies.language import SpacyLanguage"
      ],
      "execution_count": null,
      "outputs": []
    },
    {
      "cell_type": "code",
      "metadata": {
        "id": "iLXJ-5OmFtMX",
        "colab_type": "code",
        "colab": {
          "base_uri": "https://localhost:8080/",
          "height": 34
        },
        "outputId": "85b84b08-a908-403a-b23e-c5b45629beb6"
      },
      "source": [
        "ls /content/slaw/spacy_basic/colab_notebooks/models/ko_wv_spacy"
      ],
      "execution_count": null,
      "outputs": [
        {
          "output_type": "stream",
          "text": [
            "\u001b[0m\u001b[01;34mko_wv.spacy.embd\u001b[0m/\n"
          ],
          "name": "stdout"
        }
      ]
    },
    {
      "cell_type": "code",
      "metadata": {
        "id": "dMNlyp3vmIM0",
        "colab_type": "code",
        "colab": {}
      },
      "source": [
        "vm_ko_path = \"/content/slaw/spacy_basic/colab_notebooks/models/ko_wv_spacy/ko_wv.spacy.embd\""
      ],
      "execution_count": null,
      "outputs": []
    },
    {
      "cell_type": "code",
      "metadata": {
        "id": "jswlsot-FhCX",
        "colab_type": "code",
        "colab": {
          "base_uri": "https://localhost:8080/",
          "height": 71
        },
        "outputId": "771ba03f-27ac-4a0b-a130-f99810991a0e"
      },
      "source": [
        "lang = SpacyLanguage(vm_ko_path)"
      ],
      "execution_count": null,
      "outputs": [
        {
          "output_type": "stream",
          "text": [
            "/usr/lib/python3.6/runpy.py:193: UserWarning: [W019] Changing vectors name from ko_model.vectors to ko_model.vectors_30185, to avoid clash with previously loaded vectors. See Issue #3853.\n",
            "  \"__main__\", mod_spec)\n"
          ],
          "name": "stderr"
        }
      ]
    },
    {
      "cell_type": "code",
      "metadata": {
        "id": "LWIVZrxcFqTy",
        "colab_type": "code",
        "colab": {}
      },
      "source": [
        "words = ['개', '고양이', '고냥이', '호랑이', '물고기', '어항', '서울', '부산', '소년', '소녀', '남자', '여자', '왕', '여왕', '갤럭시', '겔럭시', '갤럭시S']"
      ],
      "execution_count": null,
      "outputs": []
    },
    {
      "cell_type": "code",
      "metadata": {
        "id": "m_j4BSXAGNZX",
        "colab_type": "code",
        "colab": {
          "base_uri": "https://localhost:8080/",
          "height": 380
        },
        "outputId": "054d2ebe-338f-4f35-ce91-9866a473c3d4"
      },
      "source": [
        "emb = lang[words]\n",
        "emb.plot_interactive(x_axis='남자', y_axis='여자')"
      ],
      "execution_count": null,
      "outputs": [
        {
          "output_type": "execute_result",
          "data": {
            "text/plain": [
              "alt.LayerChart(...)"
            ],
            "text/html": [
              "\n",
              "<div id=\"altair-viz-68d20fd0154a4805b472ac6d6a10389e\"></div>\n",
              "<script type=\"text/javascript\">\n",
              "  (function(spec, embedOpt){\n",
              "    let outputDiv = document.currentScript.previousElementSibling;\n",
              "    if (outputDiv.id !== \"altair-viz-68d20fd0154a4805b472ac6d6a10389e\") {\n",
              "      outputDiv = document.getElementById(\"altair-viz-68d20fd0154a4805b472ac6d6a10389e\");\n",
              "    }\n",
              "    const paths = {\n",
              "      \"vega\": \"https://cdn.jsdelivr.net/npm//vega@5?noext\",\n",
              "      \"vega-lib\": \"https://cdn.jsdelivr.net/npm//vega-lib?noext\",\n",
              "      \"vega-lite\": \"https://cdn.jsdelivr.net/npm//vega-lite@4.8.1?noext\",\n",
              "      \"vega-embed\": \"https://cdn.jsdelivr.net/npm//vega-embed@6?noext\",\n",
              "    };\n",
              "\n",
              "    function loadScript(lib) {\n",
              "      return new Promise(function(resolve, reject) {\n",
              "        var s = document.createElement('script');\n",
              "        s.src = paths[lib];\n",
              "        s.async = true;\n",
              "        s.onload = () => resolve(paths[lib]);\n",
              "        s.onerror = () => reject(`Error loading script: ${paths[lib]}`);\n",
              "        document.getElementsByTagName(\"head\")[0].appendChild(s);\n",
              "      });\n",
              "    }\n",
              "\n",
              "    function showError(err) {\n",
              "      outputDiv.innerHTML = `<div class=\"error\" style=\"color:red;\">${err}</div>`;\n",
              "      throw err;\n",
              "    }\n",
              "\n",
              "    function displayChart(vegaEmbed) {\n",
              "      vegaEmbed(outputDiv, spec, embedOpt)\n",
              "        .catch(err => showError(`Javascript Error: ${err.message}<br>This usually means there's a typo in your chart specification. See the javascript console for the full traceback.`));\n",
              "    }\n",
              "\n",
              "    if(typeof define === \"function\" && define.amd) {\n",
              "      requirejs.config({paths});\n",
              "      require([\"vega-embed\"], displayChart, err => showError(`Error loading script: ${err.message}`));\n",
              "    } else if (typeof vegaEmbed === \"function\") {\n",
              "      displayChart(vegaEmbed);\n",
              "    } else {\n",
              "      loadScript(\"vega\")\n",
              "        .then(() => loadScript(\"vega-lite\"))\n",
              "        .then(() => loadScript(\"vega-embed\"))\n",
              "        .catch(showError)\n",
              "        .then(() => displayChart(vegaEmbed));\n",
              "    }\n",
              "  })({\"config\": {\"view\": {\"continuousWidth\": 400, \"continuousHeight\": 300}}, \"layer\": [{\"mark\": {\"type\": \"circle\", \"size\": 60}, \"encoding\": {\"color\": {\"type\": \"nominal\", \"field\": \"\", \"legend\": null}, \"tooltip\": [{\"type\": \"nominal\", \"field\": \"name\"}, {\"type\": \"nominal\", \"field\": \"original\"}], \"x\": {\"type\": \"quantitative\", \"axis\": {\"title\": \"\\ub0a8\\uc790\"}, \"field\": \"x_axis\"}, \"y\": {\"type\": \"quantitative\", \"axis\": {\"title\": \"\\uc5ec\\uc790\"}, \"field\": \"y_axis\"}}, \"selection\": {\"selector009\": {\"type\": \"interval\", \"bind\": \"scales\", \"encodings\": [\"x\", \"y\"]}}, \"title\": \"\\ub0a8\\uc790 vs. \\uc5ec\\uc790\"}, {\"mark\": {\"type\": \"text\", \"color\": \"black\", \"dx\": -15, \"dy\": 3}, \"encoding\": {\"text\": {\"type\": \"nominal\", \"field\": \"original\"}, \"x\": {\"type\": \"quantitative\", \"axis\": {\"title\": \"\\ub0a8\\uc790\"}, \"field\": \"x_axis\"}, \"y\": {\"type\": \"quantitative\", \"axis\": {\"title\": \"\\uc5ec\\uc790\"}, \"field\": \"y_axis\"}}}], \"data\": {\"name\": \"data-423ec125ee3f27bf619c026f51b109ee\"}, \"$schema\": \"https://vega.github.io/schema/vega-lite/v4.8.1.json\", \"datasets\": {\"data-423ec125ee3f27bf619c026f51b109ee\": [{\"x_axis\": 0.13675644993782043, \"y_axis\": 0.11457924544811249, \"name\": \"\\uac1c\", \"original\": \"\\uac1c\"}, {\"x_axis\": 0.4197443425655365, \"y_axis\": 0.37046879529953003, \"name\": \"\\uace0\\uc591\\uc774\", \"original\": \"\\uace0\\uc591\\uc774\"}, {\"x_axis\": 0.0, \"y_axis\": 0.0, \"name\": \"\\uace0\\ub0e5\\uc774\", \"original\": \"\\uace0\\ub0e5\\uc774\"}, {\"x_axis\": 0.23804619908332825, \"y_axis\": 0.25209715962409973, \"name\": \"\\ud638\\ub791\\uc774\", \"original\": \"\\ud638\\ub791\\uc774\"}, {\"x_axis\": 0.2685844600200653, \"y_axis\": 0.18896342813968658, \"name\": \"\\ubb3c\\uace0\\uae30\", \"original\": \"\\ubb3c\\uace0\\uae30\"}, {\"x_axis\": -0.1636406034231186, \"y_axis\": -0.1438010185956955, \"name\": \"\\uc5b4\\ud56d\", \"original\": \"\\uc5b4\\ud56d\"}, {\"x_axis\": -0.01952330395579338, \"y_axis\": 0.14763012528419495, \"name\": \"\\uc11c\\uc6b8\", \"original\": \"\\uc11c\\uc6b8\"}, {\"x_axis\": 0.008857040666043758, \"y_axis\": 0.20675921440124512, \"name\": \"\\ubd80\\uc0b0\", \"original\": \"\\ubd80\\uc0b0\"}, {\"x_axis\": 0.4784596562385559, \"y_axis\": 0.4291267395019531, \"name\": \"\\uc18c\\ub144\", \"original\": \"\\uc18c\\ub144\"}, {\"x_axis\": 0.5946189165115356, \"y_axis\": 0.54339599609375, \"name\": \"\\uc18c\\ub140\", \"original\": \"\\uc18c\\ub140\"}, {\"x_axis\": 0.2067641019821167, \"y_axis\": 0.18285691738128662, \"name\": \"\\uc655\", \"original\": \"\\uc655\"}, {\"x_axis\": 0.27689406275749207, \"y_axis\": 0.23627687990665436, \"name\": \"\\uc5ec\\uc655\", \"original\": \"\\uc5ec\\uc655\"}, {\"x_axis\": -0.0014103701105341315, \"y_axis\": 0.00555402273312211, \"name\": \"\\uac24\\ub7ed\\uc2dc\", \"original\": \"\\uac24\\ub7ed\\uc2dc\"}, {\"x_axis\": -0.031608425080776215, \"y_axis\": -0.084934763610363, \"name\": \"\\uac94\\ub7ed\\uc2dc\", \"original\": \"\\uac94\\ub7ed\\uc2dc\"}, {\"x_axis\": -0.0014103701105341315, \"y_axis\": 0.00555402273312211, \"name\": \"\\uac24\\ub7ed\\uc2dcS\", \"original\": \"\\uac24\\ub7ed\\uc2dcS\"}]}}, {\"mode\": \"vega-lite\"});\n",
              "</script>"
            ]
          },
          "metadata": {
            "tags": []
          },
          "execution_count": 172
        }
      ]
    },
    {
      "cell_type": "markdown",
      "metadata": {
        "id": "XfjrL9L_vMsy",
        "colab_type": "text"
      },
      "source": [
        "------------"
      ]
    },
    {
      "cell_type": "markdown",
      "metadata": {
        "id": "P1e484yAwC5h",
        "colab_type": "text"
      },
      "source": [
        "# Pretrained 한국어 FastText를 spaCy에서 사용하기.\n",
        "* 참고 \n",
        "  - Pre-trained word vectors of 30+ languages - https://github.com/Kyubyong/wordvectors"
      ]
    },
    {
      "cell_type": "code",
      "metadata": {
        "id": "SLuzmRROvarO",
        "colab_type": "code",
        "colab": {
          "base_uri": "https://localhost:8080/",
          "height": 34
        },
        "outputId": "13370b6c-4fd0-4b4e-8cde-181c65f8e777"
      },
      "source": [
        "cd /content/slaw/spacy_basic/colab_notebooks/models/"
      ],
      "execution_count": null,
      "outputs": [
        {
          "output_type": "stream",
          "text": [
            "/content/slaw/spacy_basic/colab_notebooks/models\n"
          ],
          "name": "stdout"
        }
      ]
    },
    {
      "cell_type": "code",
      "metadata": {
        "id": "noKMaCeAQQ7r",
        "colab_type": "code",
        "colab": {}
      },
      "source": [
        "mkdir ko_ft"
      ],
      "execution_count": null,
      "outputs": []
    },
    {
      "cell_type": "code",
      "metadata": {
        "id": "c1xove2TzOlu",
        "colab_type": "code",
        "colab": {
          "base_uri": "https://localhost:8080/",
          "height": 34
        },
        "outputId": "0d91629d-3f4b-4f3a-87b3-0544c1d24b25"
      },
      "source": [
        "cd ko_ft"
      ],
      "execution_count": null,
      "outputs": [
        {
          "output_type": "stream",
          "text": [
            "/content/slaw/spacy_basic/colab_notebooks/models/ko_ft\n"
          ],
          "name": "stdout"
        }
      ]
    },
    {
      "cell_type": "code",
      "metadata": {
        "id": "1CVQUXW9zPqa",
        "colab_type": "code",
        "colab": {
          "base_uri": "https://localhost:8080/",
          "height": 445
        },
        "outputId": "a394e03a-7e6f-478a-ca53-54a7901ac84e"
      },
      "source": [
        "!wget https://www.dropbox.com/s/stt4y0zcp2c0iyb/ko.tar.gz"
      ],
      "execution_count": null,
      "outputs": [
        {
          "output_type": "stream",
          "text": [
            "--2020-06-27 14:33:05--  https://www.dropbox.com/s/stt4y0zcp2c0iyb/ko.tar.gz\n",
            "Resolving www.dropbox.com (www.dropbox.com)... 162.125.5.1, 2620:100:601d:1::a27d:501\n",
            "Connecting to www.dropbox.com (www.dropbox.com)|162.125.5.1|:443... connected.\n",
            "HTTP request sent, awaiting response... 301 Moved Permanently\n",
            "Location: /s/raw/stt4y0zcp2c0iyb/ko.tar.gz [following]\n",
            "--2020-06-27 14:33:05--  https://www.dropbox.com/s/raw/stt4y0zcp2c0iyb/ko.tar.gz\n",
            "Reusing existing connection to www.dropbox.com:443.\n",
            "HTTP request sent, awaiting response... 302 Found\n",
            "Location: https://uc495d1f19ad52bf808cd6e1d6fa.dl.dropboxusercontent.com/cd/0/inline/A6fDmDlSL3AnfY66om8kENiUkeIYBcBX1gIhY7rds_mjRxNLxf_jtIqd-e2hr2O1pH7kPROLqFH0QJup0L5NpmXI9LKhon_YTdkmGpvSldM8tQ/file# [following]\n",
            "--2020-06-27 14:33:05--  https://uc495d1f19ad52bf808cd6e1d6fa.dl.dropboxusercontent.com/cd/0/inline/A6fDmDlSL3AnfY66om8kENiUkeIYBcBX1gIhY7rds_mjRxNLxf_jtIqd-e2hr2O1pH7kPROLqFH0QJup0L5NpmXI9LKhon_YTdkmGpvSldM8tQ/file\n",
            "Resolving uc495d1f19ad52bf808cd6e1d6fa.dl.dropboxusercontent.com (uc495d1f19ad52bf808cd6e1d6fa.dl.dropboxusercontent.com)... 162.125.5.15, 2620:100:601d:15::a27d:50f\n",
            "Connecting to uc495d1f19ad52bf808cd6e1d6fa.dl.dropboxusercontent.com (uc495d1f19ad52bf808cd6e1d6fa.dl.dropboxusercontent.com)|162.125.5.15|:443... connected.\n",
            "HTTP request sent, awaiting response... 302 Found\n",
            "Location: /cd/0/inline2/A6eRH3HZJ6ZwyGzN0AoB8_NOKI1XarDqHaCR5sOle_E2oALO2eCwRAeUH2HQ9qlcE0IAunrlf8311-SnUEVI66hx5asByTNIu9cyVMOr3s4LWq-ztpfRpkP0cD5hV-47mZSmCvGyYWbiKwn8N2jwgwiDgDVvKjyG2qhRwH7IWwJK20C-5MxL2zZF6GF6nir726V7IWu_JEgECdNsfZ6ypqe7EPb_YW6uIhEdewMbqaF-fJ-t36GPTOWkuQpCLw1BhJecktLda4xrsghtGbfl4G8CKvloKXW3n_uFD6iiJV83Ox9zqk-w4J5luGcLKCKpcvkDULTtLgbzoWPJC5irVby5/file [following]\n",
            "--2020-06-27 14:33:06--  https://uc495d1f19ad52bf808cd6e1d6fa.dl.dropboxusercontent.com/cd/0/inline2/A6eRH3HZJ6ZwyGzN0AoB8_NOKI1XarDqHaCR5sOle_E2oALO2eCwRAeUH2HQ9qlcE0IAunrlf8311-SnUEVI66hx5asByTNIu9cyVMOr3s4LWq-ztpfRpkP0cD5hV-47mZSmCvGyYWbiKwn8N2jwgwiDgDVvKjyG2qhRwH7IWwJK20C-5MxL2zZF6GF6nir726V7IWu_JEgECdNsfZ6ypqe7EPb_YW6uIhEdewMbqaF-fJ-t36GPTOWkuQpCLw1BhJecktLda4xrsghtGbfl4G8CKvloKXW3n_uFD6iiJV83Ox9zqk-w4J5luGcLKCKpcvkDULTtLgbzoWPJC5irVby5/file\n",
            "Reusing existing connection to uc495d1f19ad52bf808cd6e1d6fa.dl.dropboxusercontent.com:443.\n",
            "HTTP request sent, awaiting response... 200 OK\n",
            "Length: 1543812655 (1.4G) [application/octet-stream]\n",
            "Saving to: ‘ko.tar.gz’\n",
            "\n",
            "ko.tar.gz           100%[===================>]   1.44G  50.6MB/s    in 32s     \n",
            "\n",
            "2020-06-27 14:33:39 (45.5 MB/s) - ‘ko.tar.gz’ saved [1543812655/1543812655]\n",
            "\n"
          ],
          "name": "stdout"
        }
      ]
    },
    {
      "cell_type": "code",
      "metadata": {
        "id": "BXM8Tzr0zRCe",
        "colab_type": "code",
        "colab": {
          "base_uri": "https://localhost:8080/",
          "height": 51
        },
        "outputId": "72fdcf9b-c8f6-4066-c7dd-7c34b4e63a55"
      },
      "source": [
        "!tar xvfz ko.tar.gz"
      ],
      "execution_count": null,
      "outputs": [
        {
          "output_type": "stream",
          "text": [
            "ko.bin\n",
            "ko.vec\n"
          ],
          "name": "stdout"
        }
      ]
    },
    {
      "cell_type": "code",
      "metadata": {
        "id": "BlFFD59C0Myf",
        "colab_type": "code",
        "colab": {
          "base_uri": "https://localhost:8080/",
          "height": 34
        },
        "outputId": "3091b04b-d7a6-4e7e-efe5-2356d77daf74"
      },
      "source": [
        "ls"
      ],
      "execution_count": null,
      "outputs": [
        {
          "output_type": "stream",
          "text": [
            "ko.bin  ko.tar.gz  ko.vec\n"
          ],
          "name": "stdout"
        }
      ]
    },
    {
      "cell_type": "code",
      "metadata": {
        "id": "TqPJpL981GZB",
        "colab_type": "code",
        "colab": {
          "base_uri": "https://localhost:8080/",
          "height": 37
        },
        "outputId": "381d8a2d-8609-49e9-c038-cd278c46c3a2"
      },
      "source": [
        "# 기본 3.6.0 이다.\n",
        "import gensim\n",
        "gensim.__version__"
      ],
      "execution_count": null,
      "outputs": [
        {
          "output_type": "execute_result",
          "data": {
            "application/vnd.google.colaboratory.intrinsic": {
              "type": "string"
            },
            "text/plain": [
              "'3.6.0'"
            ]
          },
          "metadata": {
            "tags": []
          },
          "execution_count": 19
        }
      ]
    },
    {
      "cell_type": "code",
      "metadata": {
        "id": "mNKdi8un067i",
        "colab_type": "code",
        "colab": {}
      },
      "source": [
        "model = gensim.models.FastText.load_fasttext_format('ko.bin', encoding='utf8')"
      ],
      "execution_count": null,
      "outputs": []
    },
    {
      "cell_type": "code",
      "metadata": {
        "id": "1Yk1gbvd6OYk",
        "colab_type": "code",
        "colab": {
          "base_uri": "https://localhost:8080/",
          "height": 71
        },
        "outputId": "d136156d-9b20-4fe1-8cfe-66b36b0a72d8"
      },
      "source": [
        "kv = model.wv\n",
        "kv.save_word2vec_format('ko_ft.embd', binary=False)"
      ],
      "execution_count": null,
      "outputs": [
        {
          "output_type": "stream",
          "text": [
            "/usr/local/lib/python3.6/dist-packages/smart_open/smart_open_lib.py:253: UserWarning: This function is deprecated, use smart_open.open instead. See the migration notes for details: https://github.com/RaRe-Technologies/smart_open/blob/master/README.rst#migrating-to-the-new-open-function\n",
            "  'See the migration notes for details: %s' % _MIGRATION_NOTES_URL\n"
          ],
          "name": "stderr"
        }
      ]
    },
    {
      "cell_type": "code",
      "metadata": {
        "id": "HTfdB57sNlqD",
        "colab_type": "code",
        "colab": {
          "base_uri": "https://localhost:8080/",
          "height": 34
        },
        "outputId": "c9d66fd9-73ee-4a5d-b8fc-9a57512003d9"
      },
      "source": [
        "ls"
      ],
      "execution_count": null,
      "outputs": [
        {
          "output_type": "stream",
          "text": [
            "ko.bin  ko_ft.embd  ko.tar.gz  ko.vec\n"
          ],
          "name": "stdout"
        }
      ]
    },
    {
      "cell_type": "code",
      "metadata": {
        "id": "b2x51xyxNX5B",
        "colab_type": "code",
        "colab": {
          "base_uri": "https://localhost:8080/",
          "height": 102
        },
        "outputId": "665f1402-9232-44d5-9e06-4f3412deb919"
      },
      "source": [
        "!python -m spacy init-model ko ko_ft.spacy.embd --vectors-loc ko_ft.embd"
      ],
      "execution_count": null,
      "outputs": [
        {
          "output_type": "stream",
          "text": [
            "\u001b[2K\u001b[38;5;2m✔ Successfully created model\u001b[0m\n",
            "30186it [00:01, 17396.02it/s]\n",
            "\u001b[2K\u001b[38;5;2m✔ Loaded vectors from ko_ft.embd\u001b[0m\n",
            "\u001b[38;5;2m✔ Sucessfully compiled vocab\u001b[0m\n",
            "30186 entries, 30186 vectors\n"
          ],
          "name": "stdout"
        }
      ]
    },
    {
      "cell_type": "code",
      "metadata": {
        "id": "h--FuAFXNtX_",
        "colab_type": "code",
        "colab": {
          "base_uri": "https://localhost:8080/",
          "height": 34
        },
        "outputId": "2cb0d72a-c2f1-4cde-f5ed-20aa12f48933"
      },
      "source": [
        "ls"
      ],
      "execution_count": null,
      "outputs": [
        {
          "output_type": "stream",
          "text": [
            "ko.bin  ko_ft.embd  \u001b[0m\u001b[01;34mko_ft.spacy.embd\u001b[0m/  ko.tar.gz  ko.vec\n"
          ],
          "name": "stdout"
        }
      ]
    },
    {
      "cell_type": "code",
      "metadata": {
        "id": "HN9oQJ_zOAc6",
        "colab_type": "code",
        "colab": {}
      },
      "source": [
        "nlp_ko_ft = spacy.load('ko_ft.spacy.embd')"
      ],
      "execution_count": null,
      "outputs": []
    },
    {
      "cell_type": "code",
      "metadata": {
        "id": "BjOVuaQHOGOm",
        "colab_type": "code",
        "colab": {}
      },
      "source": [
        "doc1 = nlp_ko_ft('안녕하세요') \n",
        "\n",
        "doc2 = nlp_ko_ft('안녕')\n",
        "\n",
        "doc3 = nlp_ko_ft('반갑다')\n",
        "\n",
        "doc4 = nlp_ko_ft('강아지')\n",
        "\n",
        "doc5 = nlp_ko_ft('겔럭시')\n",
        "\n",
        "doc6 = nlp_ko_ft('갤럭시')"
      ],
      "execution_count": null,
      "outputs": []
    },
    {
      "cell_type": "code",
      "metadata": {
        "id": "BL9v2jNJOHk5",
        "colab_type": "code",
        "colab": {
          "base_uri": "https://localhost:8080/",
          "height": 34
        },
        "outputId": "698910fc-7151-4e77-dcf2-ce599b719f21"
      },
      "source": [
        "doc1.similarity(doc1)"
      ],
      "execution_count": null,
      "outputs": [
        {
          "output_type": "execute_result",
          "data": {
            "text/plain": [
              "1.0"
            ]
          },
          "metadata": {
            "tags": []
          },
          "execution_count": 74
        }
      ]
    },
    {
      "cell_type": "code",
      "metadata": {
        "id": "jMZ4jLDUOeAe",
        "colab_type": "code",
        "colab": {
          "base_uri": "https://localhost:8080/",
          "height": 34
        },
        "outputId": "49e1b564-9f39-4f0b-faed-bf26ca0554f7"
      },
      "source": [
        "doc1.similarity(doc2)"
      ],
      "execution_count": null,
      "outputs": [
        {
          "output_type": "execute_result",
          "data": {
            "text/plain": [
              "0.7138457031786868"
            ]
          },
          "metadata": {
            "tags": []
          },
          "execution_count": 75
        }
      ]
    },
    {
      "cell_type": "code",
      "metadata": {
        "id": "GlRYb29FOfsf",
        "colab_type": "code",
        "colab": {
          "base_uri": "https://localhost:8080/",
          "height": 34
        },
        "outputId": "10bb0dd1-1ae1-43c1-8ff0-a2af40667d64"
      },
      "source": [
        "doc1.similarity(doc3)"
      ],
      "execution_count": null,
      "outputs": [
        {
          "output_type": "execute_result",
          "data": {
            "text/plain": [
              "0.4877349430003921"
            ]
          },
          "metadata": {
            "tags": []
          },
          "execution_count": 76
        }
      ]
    },
    {
      "cell_type": "code",
      "metadata": {
        "id": "HsOl8bgXOhf9",
        "colab_type": "code",
        "colab": {
          "base_uri": "https://localhost:8080/",
          "height": 34
        },
        "outputId": "c3e3545f-6035-4674-c987-3856df29354d"
      },
      "source": [
        "doc1.similarity(doc4)"
      ],
      "execution_count": null,
      "outputs": [
        {
          "output_type": "execute_result",
          "data": {
            "text/plain": [
              "0.17381218978767257"
            ]
          },
          "metadata": {
            "tags": []
          },
          "execution_count": 77
        }
      ]
    },
    {
      "cell_type": "code",
      "metadata": {
        "id": "u4oRB_H8O4r5",
        "colab_type": "code",
        "colab": {
          "base_uri": "https://localhost:8080/",
          "height": 34
        },
        "outputId": "862f67af-d4b0-4146-ef87-9dcf4fbfdaa5"
      },
      "source": [
        "doc5.similarity(doc6)"
      ],
      "execution_count": null,
      "outputs": [
        {
          "output_type": "execute_result",
          "data": {
            "text/plain": [
              "0.5286222579943097"
            ]
          },
          "metadata": {
            "tags": []
          },
          "execution_count": 98
        }
      ]
    },
    {
      "cell_type": "code",
      "metadata": {
        "id": "Cd-FyF4DVYg1",
        "colab_type": "code",
        "colab": {}
      },
      "source": [
        "# 시각화"
      ],
      "execution_count": null,
      "outputs": []
    },
    {
      "cell_type": "code",
      "metadata": {
        "id": "Eaw4M_fZO-3o",
        "colab_type": "code",
        "colab": {}
      },
      "source": [
        "# import the PCA module from sklearn\n",
        "from sklearn.decomposition import PCA\n",
        "\n",
        "import matplotlib.pyplot as plt\n",
        "\n",
        "def get_word_vectors(words, nlp):\n",
        "    # converts a list of words into their word vectors\n",
        "    return [nlp(word).vector for word in words]\n",
        "\n"
      ],
      "execution_count": null,
      "outputs": []
    },
    {
      "cell_type": "code",
      "metadata": {
        "id": "0T2Zq-zrSiMy",
        "colab_type": "code",
        "colab": {}
      },
      "source": [
        "words = ['개', '고양이', '고냥이', '호랑이', '물고기', '어항', '서울', '부산', '소년', '소녀', '남자', '여자', '왕', '여왕', '갤럭시', '겔럭시', '갤럭시S']\n"
      ],
      "execution_count": null,
      "outputs": []
    },
    {
      "cell_type": "code",
      "metadata": {
        "id": "6cEoOuyQSfRO",
        "colab_type": "code",
        "colab": {
          "base_uri": "https://localhost:8080/",
          "height": 660
        },
        "outputId": "fd99d9d3-c442-4cef-d38d-9b77206c6706"
      },
      "source": [
        "pca = PCA(n_components=2)\n",
        "\n",
        "word_vecs_2d = pca.fit_transform(get_word_vectors(words, nlp_ko_ft))\n",
        "\n",
        "# create a nice big plot \n",
        "plt.figure(figsize=(10,10))\n",
        "\n",
        "# plot the scatter plot of where the words will be\n",
        "plt.scatter(word_vecs_2d[:,0], word_vecs_2d[:,1])\n",
        "\n",
        "# for each word and coordinate pair: draw the text on the plot\n",
        "for word, coord in zip(words, word_vecs_2d):\n",
        "    x, y = coord\n",
        "    plt.text(x, y, word, size= 15)\n",
        "\n",
        "# show the plot\n",
        "plt.show()"
      ],
      "execution_count": null,
      "outputs": [
        {
          "output_type": "stream",
          "text": [
            "/usr/local/lib/python3.6/dist-packages/matplotlib/backends/backend_agg.py:214: RuntimeWarning: Glyph 8722 missing from current font.\n",
            "  font.set_text(s, 0.0, flags=flags)\n",
            "/usr/local/lib/python3.6/dist-packages/matplotlib/backends/backend_agg.py:183: RuntimeWarning: Glyph 8722 missing from current font.\n",
            "  font.set_text(s, 0, flags=flags)\n"
          ],
          "name": "stderr"
        },
        {
          "output_type": "display_data",
          "data": {
            "image/png": "[encoded data removed]",
            "text/plain": [
              "<Figure size 720x720 with 1 Axes>"
            ]
          },
          "metadata": {
            "tags": [],
            "needs_background": "light"
          }
        }
      ]
    },
    {
      "cell_type": "code",
      "metadata": {
        "id": "htbjzZrQavDX",
        "colab_type": "code",
        "colab": {}
      },
      "source": [
        ""
      ],
      "execution_count": null,
      "outputs": []
    },
    {
      "cell_type": "code",
      "metadata": {
        "id": "sC9xryQyXaz9",
        "colab_type": "code",
        "colab": {
          "base_uri": "https://localhost:8080/",
          "height": 660
        },
        "outputId": "27ea6b5c-35ea-4c26-995c-f9e395e58efd"
      },
      "source": [
        "from sklearn.manifold import TSNE\n",
        "\n",
        "tsne = TSNE(n_components=2) \n",
        "\n",
        "word_vecs_2d_tsne = tsne.fit_transform(get_word_vectors(words, nlp_ko_ft))\n",
        "\n",
        "# create a nice big plot \n",
        "plt.figure(figsize=(10,10))\n",
        "\n",
        "# plot the scatter plot of where the words will be\n",
        "plt.scatter(word_vecs_2d_tsne[:,0], word_vecs_2d_tsne[:,1])\n",
        "\n",
        "# for each word and coordinate pair: draw the text on the plot\n",
        "for word, coord in zip(words, word_vecs_2d_tsne):\n",
        "    x, y = coord\n",
        "    plt.text(x, y, word, size= 15)\n",
        "\n",
        "# show the plot\n",
        "plt.show()\n"
      ],
      "execution_count": null,
      "outputs": [
        {
          "output_type": "stream",
          "text": [
            "/usr/local/lib/python3.6/dist-packages/matplotlib/backends/backend_agg.py:214: RuntimeWarning: Glyph 8722 missing from current font.\n",
            "  font.set_text(s, 0.0, flags=flags)\n",
            "/usr/local/lib/python3.6/dist-packages/matplotlib/backends/backend_agg.py:183: RuntimeWarning: Glyph 8722 missing from current font.\n",
            "  font.set_text(s, 0, flags=flags)\n"
          ],
          "name": "stderr"
        },
        {
          "output_type": "display_data",
          "data": {
            "image/png": "[encoded data removed]",
            "text/plain": [
              "<Figure size 720x720 with 1 Axes>"
            ]
          },
          "metadata": {
            "tags": [],
            "needs_background": "light"
          }
        }
      ]
    },
    {
      "cell_type": "code",
      "metadata": {
        "id": "xQ4KLjyPaugI",
        "colab_type": "code",
        "colab": {}
      },
      "source": [
        ""
      ],
      "execution_count": null,
      "outputs": []
    },
    {
      "cell_type": "code",
      "metadata": {
        "id": "IDZY1o2mW1kW",
        "colab_type": "code",
        "colab": {}
      },
      "source": [
        "from whatlies import EmbeddingSet\n",
        "from whatlies.language import SpacyLanguage"
      ],
      "execution_count": null,
      "outputs": []
    },
    {
      "cell_type": "code",
      "metadata": {
        "id": "nprydmaiWFbw",
        "colab_type": "code",
        "colab": {
          "base_uri": "https://localhost:8080/",
          "height": 34
        },
        "outputId": "e60ef824-11e9-47b8-a7e4-76f582d2e953"
      },
      "source": [
        "ls /content/slaw/spacy_basic/colab_notebooks/models/ko_ft_spacy"
      ],
      "execution_count": null,
      "outputs": [
        {
          "output_type": "stream",
          "text": [
            "\u001b[0m\u001b[01;34mko_ft.spacy.embd\u001b[0m/\n"
          ],
          "name": "stdout"
        }
      ]
    },
    {
      "cell_type": "code",
      "metadata": {
        "id": "96qeqoATW6Ny",
        "colab_type": "code",
        "colab": {}
      },
      "source": [
        "vm_ft_ko_path = \"/content/slaw/spacy_basic/colab_notebooks/models/ko_ft_spacy/ko_ft.spacy.embd\""
      ],
      "execution_count": null,
      "outputs": []
    },
    {
      "cell_type": "code",
      "metadata": {
        "id": "iK8W7kYcXC3X",
        "colab_type": "code",
        "colab": {}
      },
      "source": [
        "lang_ft = SpacyLanguage(vm_ft_ko_path)"
      ],
      "execution_count": null,
      "outputs": []
    },
    {
      "cell_type": "code",
      "metadata": {
        "id": "uChKciIBXJCk",
        "colab_type": "code",
        "colab": {}
      },
      "source": [
        "words = ['개', '고양이', '고냥이', '호랑이', '물고기', '어항', '서울', '부산', '소년', '소녀', '남자', '여자', '왕', '여왕', '갤럭시', '겔럭시', '갤럭시S']\n"
      ],
      "execution_count": null,
      "outputs": []
    },
    {
      "cell_type": "code",
      "metadata": {
        "id": "VLbYD_ZMXQUA",
        "colab_type": "code",
        "colab": {
          "base_uri": "https://localhost:8080/",
          "height": 385
        },
        "outputId": "52adf1b6-872c-4783-9f6e-f0df3fcd08bb"
      },
      "source": [
        "emb_ft = lang_ft[words]\n",
        "emb_ft.plot_interactive(x_axis='남자', y_axis='여자')"
      ],
      "execution_count": null,
      "outputs": [
        {
          "output_type": "execute_result",
          "data": {
            "text/plain": [
              "alt.LayerChart(...)"
            ],
            "text/html": [
              "\n",
              "<div id=\"altair-viz-71c80552f2a74f14b3291660cc56db17\"></div>\n",
              "<script type=\"text/javascript\">\n",
              "  (function(spec, embedOpt){\n",
              "    let outputDiv = document.currentScript.previousElementSibling;\n",
              "    if (outputDiv.id !== \"altair-viz-71c80552f2a74f14b3291660cc56db17\") {\n",
              "      outputDiv = document.getElementById(\"altair-viz-71c80552f2a74f14b3291660cc56db17\");\n",
              "    }\n",
              "    const paths = {\n",
              "      \"vega\": \"https://cdn.jsdelivr.net/npm//vega@5?noext\",\n",
              "      \"vega-lib\": \"https://cdn.jsdelivr.net/npm//vega-lib?noext\",\n",
              "      \"vega-lite\": \"https://cdn.jsdelivr.net/npm//vega-lite@4.8.1?noext\",\n",
              "      \"vega-embed\": \"https://cdn.jsdelivr.net/npm//vega-embed@6?noext\",\n",
              "    };\n",
              "\n",
              "    function loadScript(lib) {\n",
              "      return new Promise(function(resolve, reject) {\n",
              "        var s = document.createElement('script');\n",
              "        s.src = paths[lib];\n",
              "        s.async = true;\n",
              "        s.onload = () => resolve(paths[lib]);\n",
              "        s.onerror = () => reject(`Error loading script: ${paths[lib]}`);\n",
              "        document.getElementsByTagName(\"head\")[0].appendChild(s);\n",
              "      });\n",
              "    }\n",
              "\n",
              "    function showError(err) {\n",
              "      outputDiv.innerHTML = `<div class=\"error\" style=\"color:red;\">${err}</div>`;\n",
              "      throw err;\n",
              "    }\n",
              "\n",
              "    function displayChart(vegaEmbed) {\n",
              "      vegaEmbed(outputDiv, spec, embedOpt)\n",
              "        .catch(err => showError(`Javascript Error: ${err.message}<br>This usually means there's a typo in your chart specification. See the javascript console for the full traceback.`));\n",
              "    }\n",
              "\n",
              "    if(typeof define === \"function\" && define.amd) {\n",
              "      requirejs.config({paths});\n",
              "      require([\"vega-embed\"], displayChart, err => showError(`Error loading script: ${err.message}`));\n",
              "    } else if (typeof vegaEmbed === \"function\") {\n",
              "      displayChart(vegaEmbed);\n",
              "    } else {\n",
              "      loadScript(\"vega\")\n",
              "        .then(() => loadScript(\"vega-lite\"))\n",
              "        .then(() => loadScript(\"vega-embed\"))\n",
              "        .catch(showError)\n",
              "        .then(() => displayChart(vegaEmbed));\n",
              "    }\n",
              "  })({\"config\": {\"view\": {\"continuousWidth\": 400, \"continuousHeight\": 300}}, \"layer\": [{\"mark\": {\"type\": \"circle\", \"size\": 60}, \"encoding\": {\"color\": {\"type\": \"nominal\", \"field\": \"\", \"legend\": null}, \"tooltip\": [{\"type\": \"nominal\", \"field\": \"name\"}, {\"type\": \"nominal\", \"field\": \"original\"}], \"x\": {\"type\": \"quantitative\", \"axis\": {\"title\": \"\\ub0a8\\uc790\"}, \"field\": \"x_axis\"}, \"y\": {\"type\": \"quantitative\", \"axis\": {\"title\": \"\\uc5ec\\uc790\"}, \"field\": \"y_axis\"}}, \"selection\": {\"selector008\": {\"type\": \"interval\", \"bind\": \"scales\", \"encodings\": [\"x\", \"y\"]}}, \"title\": \"\\ub0a8\\uc790 vs. \\uc5ec\\uc790\"}, {\"mark\": {\"type\": \"text\", \"color\": \"black\", \"dx\": -15, \"dy\": 3}, \"encoding\": {\"text\": {\"type\": \"nominal\", \"field\": \"original\"}, \"x\": {\"type\": \"quantitative\", \"axis\": {\"title\": \"\\ub0a8\\uc790\"}, \"field\": \"x_axis\"}, \"y\": {\"type\": \"quantitative\", \"axis\": {\"title\": \"\\uc5ec\\uc790\"}, \"field\": \"y_axis\"}}}], \"data\": {\"name\": \"data-0ae291989a71608cd1e59186b1d94d10\"}, \"$schema\": \"https://vega.github.io/schema/vega-lite/v4.8.1.json\", \"datasets\": {\"data-0ae291989a71608cd1e59186b1d94d10\": [{\"x_axis\": 0.26090043783187866, \"y_axis\": 0.08753183484077454, \"name\": \"\\uac1c\", \"original\": \"\\uac1c\"}, {\"x_axis\": 0.21935288608074188, \"y_axis\": 0.08654801547527313, \"name\": \"\\uace0\\uc591\\uc774\", \"original\": \"\\uace0\\uc591\\uc774\"}, {\"x_axis\": 0.0, \"y_axis\": 0.0, \"name\": \"\\uace0\\ub0e5\\uc774\", \"original\": \"\\uace0\\ub0e5\\uc774\"}, {\"x_axis\": 0.1288604885339737, \"y_axis\": 0.08391159027814865, \"name\": \"\\ud638\\ub791\\uc774\", \"original\": \"\\ud638\\ub791\\uc774\"}, {\"x_axis\": 0.053525786846876144, \"y_axis\": 0.02837858349084854, \"name\": \"\\ubb3c\\uace0\\uae30\", \"original\": \"\\ubb3c\\uace0\\uae30\"}, {\"x_axis\": 0.007624984718859196, \"y_axis\": 0.03375244140625, \"name\": \"\\uc5b4\\ud56d\", \"original\": \"\\uc5b4\\ud56d\"}, {\"x_axis\": 0.33517396450042725, \"y_axis\": 0.2960640788078308, \"name\": \"\\uc11c\\uc6b8\", \"original\": \"\\uc11c\\uc6b8\"}, {\"x_axis\": 0.07686325907707214, \"y_axis\": 0.07861416786909103, \"name\": \"\\ubd80\\uc0b0\", \"original\": \"\\ubd80\\uc0b0\"}, {\"x_axis\": 0.08875590562820435, \"y_axis\": 0.05947423353791237, \"name\": \"\\uc18c\\ub144\", \"original\": \"\\uc18c\\ub144\"}, {\"x_axis\": 0.41321030259132385, \"y_axis\": 0.3280032277107239, \"name\": \"\\uc18c\\ub140\", \"original\": \"\\uc18c\\ub140\"}, {\"x_axis\": 0.432346373796463, \"y_axis\": 0.28986090421676636, \"name\": \"\\uc655\", \"original\": \"\\uc655\"}, {\"x_axis\": 0.2852105498313904, \"y_axis\": 0.23870135843753815, \"name\": \"\\uc5ec\\uc655\", \"original\": \"\\uc5ec\\uc655\"}, {\"x_axis\": 0.12380316108465195, \"y_axis\": 0.028480496257543564, \"name\": \"\\uac24\\ub7ed\\uc2dc\", \"original\": \"\\uac24\\ub7ed\\uc2dc\"}, {\"x_axis\": 0.24510225653648376, \"y_axis\": 0.10137207806110382, \"name\": \"\\uac94\\ub7ed\\uc2dc\", \"original\": \"\\uac94\\ub7ed\\uc2dc\"}, {\"x_axis\": 0.12380316108465195, \"y_axis\": 0.028480496257543564, \"name\": \"\\uac24\\ub7ed\\uc2dcS\", \"original\": \"\\uac24\\ub7ed\\uc2dcS\"}]}}, {\"mode\": \"vega-lite\"});\n",
              "</script>"
            ]
          },
          "metadata": {
            "tags": []
          },
          "execution_count": 168
        }
      ]
    }
  ]
}