{
  "nbformat": 4,
  "nbformat_minor": 0,
  "metadata": {
    "colab": {
      "name": "03_spacy_language_models.ipynb",
      "provenance": [],
      "include_colab_link": true
    },
    "kernelspec": {
      "name": "python3",
      "display_name": "Python 3"
    }
  },
  "cells": [
    {
      "cell_type": "markdown",
      "metadata": {
        "id": "view-in-github",
        "colab_type": "text"
      },
      "source": [
        "<a href=\"https://colab.research.google.com/github/babelPish/slaw/blob/master/nlp_basic/colab_notebooks/03_spacy_language_models.ipynb\" target=\"_parent\"><img src=\"https://colab.research.google.com/assets/colab-badge.svg\" alt=\"Open In Colab\"/></a>"
      ]
    },
    {
      "cell_type": "markdown",
      "metadata": {
        "id": "c7fi1VXG9C6v",
        "colab_type": "text"
      },
      "source": [
        "#3. spaCy's Language Models\n",
        "* 바벨피쉬 : Slaw - NLP\n",
        "* 김무성"
      ]
    },
    {
      "cell_type": "code",
      "metadata": {
        "id": "WtLYFUIf9oPk",
        "colab_type": "code",
        "outputId": "9858ee2d-6234-46d4-f0be-ea798776b39e",
        "colab": {
          "base_uri": "https://localhost:8080/",
          "height": 35
        }
      },
      "source": [
        "!python -V"
      ],
      "execution_count": 0,
      "outputs": [
        {
          "output_type": "stream",
          "text": [
            "Python 3.6.8\n"
          ],
          "name": "stdout"
        }
      ]
    },
    {
      "cell_type": "markdown",
      "metadata": {
        "id": "hxuID_c8Fhct",
        "colab_type": "text"
      },
      "source": [
        "#### 참고 \n",
        "* spaCy 101: Everything you need to know - https://spacy.io/usage/spacy-101\n",
        "* 파이썬 기초 - https://datascienceschool.net/view-notebook/3f356478d65a4932b1e29ccfe9c6edfe/"
      ]
    },
    {
      "cell_type": "markdown",
      "metadata": {
        "id": "7cYY4dC0-Auz",
        "colab_type": "text"
      },
      "source": [
        "# Installation"
      ]
    },
    {
      "cell_type": "code",
      "metadata": {
        "id": "VV29H2EM8Zfw",
        "colab_type": "code",
        "colab": {}
      },
      "source": [
        "#remove \" > /dev/null 2>&1\" to see what is going on under the hood\n",
        "!pip install -U spacy > /dev/null 2>&1"
      ],
      "execution_count": 0,
      "outputs": []
    },
    {
      "cell_type": "code",
      "metadata": {
        "id": "E9nH02_G-gmD",
        "colab_type": "code",
        "outputId": "472331f0-d742-492d-eec8-2be631b3c3b2",
        "colab": {
          "base_uri": "https://localhost:8080/",
          "height": 35
        }
      },
      "source": [
        "import spacy\n",
        "spacy.__version__"
      ],
      "execution_count": 0,
      "outputs": [
        {
          "output_type": "execute_result",
          "data": {
            "text/plain": [
              "'2.2.2'"
            ]
          },
          "metadata": {
            "tags": []
          },
          "execution_count": 3
        }
      ]
    },
    {
      "cell_type": "markdown",
      "metadata": {
        "id": "AUcHdymC_qM0",
        "colab_type": "text"
      },
      "source": [
        "# Language models"
      ]
    },
    {
      "cell_type": "markdown",
      "metadata": {
        "id": "6FM_D-8v_rfK",
        "colab_type": "text"
      },
      "source": [
        "## Installing language models"
      ]
    },
    {
      "cell_type": "code",
      "metadata": {
        "id": "pijrSv8K_yKU",
        "colab_type": "code",
        "colab": {}
      },
      "source": [
        "# out-of-the-box: download best-matching default model\n",
        "\n",
        "#remove \" > /dev/null 2>&1\" to see what is going on under the hood\n",
        "!spacy download en > /dev/null 2>&1 # english model"
      ],
      "execution_count": 0,
      "outputs": []
    },
    {
      "cell_type": "code",
      "metadata": {
        "id": "z_-x5fkU_1dc",
        "colab_type": "code",
        "colab": {}
      },
      "source": [
        "!spacy download de > /dev/null 2>&1 # german model\n",
        "!spacy download es > /dev/null 2>&1 # spanish model\n",
        "!spacy download fr > /dev/null 2>&1 # french model\n",
        "!spacy download xx > /dev/null 2>&1 # multi-language model"
      ],
      "execution_count": 0,
      "outputs": []
    },
    {
      "cell_type": "code",
      "metadata": {
        "id": "loTlCmBLATCK",
        "colab_type": "code",
        "colab": {}
      },
      "source": [
        "# download best-matching version of specific model for your spaCy installation\n",
        "!spacy download en_core_web_sm > /dev/null 2>&1"
      ],
      "execution_count": 0,
      "outputs": []
    },
    {
      "cell_type": "code",
      "metadata": {
        "id": "o1PC1y7QAhWS",
        "colab_type": "code",
        "outputId": "af9dbe4f-12ed-4ccc-a9b3-0cca515f062c",
        "colab": {
          "base_uri": "https://localhost:8080/",
          "height": 107
        }
      },
      "source": [
        "# 간단한 사용법\n",
        "import spacy\n",
        "\n",
        "nlp = spacy.load('en')\n",
        "\n",
        "doc = nlp(u'This is a sentence.')\n",
        "\n",
        "for token in doc :\n",
        "  print(token.text, token.pos_, token.tag_)"
      ],
      "execution_count": 0,
      "outputs": [
        {
          "output_type": "stream",
          "text": [
            "This DET DT\n",
            "is AUX VBZ\n",
            "a DET DT\n",
            "sentence NOUN NN\n",
            ". PUNCT .\n"
          ],
          "name": "stdout"
        }
      ]
    },
    {
      "cell_type": "markdown",
      "metadata": {
        "id": "npMh8N9hIZVx",
        "colab_type": "text"
      },
      "source": [
        "--------------------------"
      ]
    },
    {
      "cell_type": "markdown",
      "metadata": {
        "id": "5OdKK1H6LGtO",
        "colab_type": "text"
      },
      "source": [
        "# 한국어 "
      ]
    },
    {
      "cell_type": "code",
      "metadata": {
        "id": "n1Ovbl3EAWt0",
        "colab_type": "code",
        "colab": {}
      },
      "source": [
        "#remove \" > /dev/null 2>&1\" to see what is going on under the hood\n",
        "!git clone https://github.com/SOMJANG/Mecab-ko-for-Google-Colab.git > /dev/null 2>&1"
      ],
      "execution_count": 0,
      "outputs": []
    },
    {
      "cell_type": "code",
      "metadata": {
        "id": "ZQxFIqquIyvk",
        "colab_type": "code",
        "colab": {}
      },
      "source": [
        "cd Mecab-ko-for-Google-Colab > /dev/null 2>&1"
      ],
      "execution_count": 0,
      "outputs": []
    },
    {
      "cell_type": "code",
      "metadata": {
        "id": "p1RE1UamJQKr",
        "colab_type": "code",
        "colab": {}
      },
      "source": [
        "!bash install_mecab-ko_on_colab190912.sh > /dev/null 2>&1"
      ],
      "execution_count": 0,
      "outputs": []
    },
    {
      "cell_type": "code",
      "metadata": {
        "id": "n0eMvUQ-Kvmd",
        "colab_type": "code",
        "outputId": "ed3f5579-85b5-460c-c54b-5dee257d0c44",
        "colab": {
          "base_uri": "https://localhost:8080/",
          "height": 235
        }
      },
      "source": [
        "!pip install natto-py > /dev/null 2>&1"
      ],
      "execution_count": 0,
      "outputs": [
        {
          "output_type": "stream",
          "text": [
            "Collecting natto-py\n",
            "  Downloading https://files.pythonhosted.org/packages/2f/a0/eaac1ed66c02823a2423a21de863da53a5268ce77582d91d1edb45a403dc/natto-py-0.9.0.tar.gz\n",
            "Requirement already satisfied: cffi in /usr/local/lib/python3.6/dist-packages (from natto-py) (1.13.1)\n",
            "Requirement already satisfied: pycparser in /usr/local/lib/python3.6/dist-packages (from cffi->natto-py) (2.19)\n",
            "Building wheels for collected packages: natto-py\n",
            "  Building wheel for natto-py (setup.py) ... \u001b[?25l\u001b[?25hdone\n",
            "  Created wheel for natto-py: filename=natto_py-0.9.0-cp36-none-any.whl size=45075 sha256=1dbec62ed3f48c94603617cf36a5b3e36fe1b0fa4e442a2a89af8045f046b437\n",
            "  Stored in directory: /root/.cache/pip/wheels/21/98/3a/ebfb1636e18698b3f47d8caa3f90fc3a91f1ea58430616018f\n",
            "Successfully built natto-py\n",
            "Installing collected packages: natto-py\n",
            "Successfully installed natto-py-0.9.0\n"
          ],
          "name": "stdout"
        }
      ]
    },
    {
      "cell_type": "code",
      "metadata": {
        "id": "KrZGPjuEJwqP",
        "colab_type": "code",
        "outputId": "e6404a03-1b37-40da-d0dd-87e61d8a7495",
        "colab": {
          "base_uri": "https://localhost:8080/",
          "height": 107
        }
      },
      "source": [
        "from spacy.lang.ko import Korean\n",
        "\n",
        "nlp = Korean()\n",
        "\n",
        "doc = nlp(u'이것은 문장이다') #Creates a Doc object \n",
        "\n",
        "for token in doc:  \n",
        "    print(token.text, token.pos_, token.tag_) #prints the text and POS "
      ],
      "execution_count": 0,
      "outputs": [
        {
          "output_type": "stream",
          "text": [
            "이것 PRON NP\n",
            "은 ADP JX\n",
            "문장 NOUN NNG\n",
            "이 ADP VCP\n",
            "다 X EC\n"
          ],
          "name": "stdout"
        }
      ]
    },
    {
      "cell_type": "markdown",
      "metadata": {
        "id": "twRjDadqLnBe",
        "colab_type": "text"
      },
      "source": [
        "-------------------------------------"
      ]
    },
    {
      "cell_type": "markdown",
      "metadata": {
        "id": "UxOPev6tLp3u",
        "colab_type": "text"
      },
      "source": [
        "# 참고자료 \n",
        "* [1]\n",
        "* [2]\n",
        "* [3]\n",
        "* [4] Google Colab에 Mecab-ko 설치하는 스크립트 - https://github.com/SOMJANG/Mecab-ko-for-Google-Colab"
      ]
    }
  ]
}