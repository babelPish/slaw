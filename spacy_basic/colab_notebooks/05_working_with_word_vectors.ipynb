{
  "nbformat": 4,
  "nbformat_minor": 0,
  "metadata": {
    "colab": {
      "name": "05_working_with_word_vectors.ipynb",
      "provenance": [],
      "collapsed_sections": [],
      "authorship_tag": "ABX9TyMwvtkPl0E0OTBQipaRHK72",
      "include_colab_link": true
    },
    "kernelspec": {
      "name": "python3",
      "display_name": "Python 3"
    }
  },
  "cells": [
    {
      "cell_type": "markdown",
      "metadata": {
        "id": "view-in-github",
        "colab_type": "text"
      },
      "source": [
        "<a href=\"https://colab.research.google.com/github/babelPish/slaw/blob/master/spacy_basic/colab_notebooks/05_working_with_word_vectors.ipynb\" target=\"_parent\"><img src=\"https://colab.research.google.com/assets/colab-badge.svg\" alt=\"Open In Colab\"/></a>"
      ]
    },
    {
      "cell_type": "markdown",
      "metadata": {
        "id": "pWsJ4JICkNb_",
        "colab_type": "text"
      },
      "source": [
        "#5. Woking with word vectors\n",
        "* 바벨피쉬 : Slaw - Spacy 기초\n",
        "* 김무성"
      ]
    },
    {
      "cell_type": "code",
      "metadata": {
        "id": "tE0kFYFVir_z",
        "colab_type": "code",
        "colab": {
          "base_uri": "https://localhost:8080/",
          "height": 34
        },
        "outputId": "2fd14af4-e021-40ca-d2d6-24a39adcd3cc"
      },
      "source": [
        "!python -V"
      ],
      "execution_count": 1,
      "outputs": [
        {
          "output_type": "stream",
          "text": [
            "Python 3.6.9\n"
          ],
          "name": "stdout"
        }
      ]
    },
    {
      "cell_type": "code",
      "metadata": {
        "id": "LALDLtnn_Yyu",
        "colab_type": "code",
        "colab": {
          "base_uri": "https://localhost:8080/",
          "height": 37
        },
        "outputId": "a86a0b3c-e100-4e5c-fa53-d4387892bf87"
      },
      "source": [
        "# 버전이 2.2.4 일것. 이 버전에 맞춰서 korean word2vec 실습모델 셋팅함.\n",
        "import spacy\n",
        "spacy.__version__ "
      ],
      "execution_count": 2,
      "outputs": [
        {
          "output_type": "execute_result",
          "data": {
            "application/vnd.google.colaboratory.intrinsic": {
              "type": "string"
            },
            "text/plain": [
              "'2.2.4'"
            ]
          },
          "metadata": {
            "tags": []
          },
          "execution_count": 2
        }
      ]
    },
    {
      "cell_type": "markdown",
      "metadata": {
        "id": "nps_MVGjmXD5",
        "colab_type": "text"
      },
      "source": [
        "-------------"
      ]
    },
    {
      "cell_type": "markdown",
      "metadata": {
        "id": "C91hiLV1klp3",
        "colab_type": "text"
      },
      "source": [
        "# Installation"
      ]
    },
    {
      "cell_type": "markdown",
      "metadata": {
        "id": "kQoTqUM2MNho",
        "colab_type": "text"
      },
      "source": [
        "#### spaCy Lanage Models"
      ]
    },
    {
      "cell_type": "code",
      "metadata": {
        "id": "guky7fxPMSIf",
        "colab_type": "code",
        "colab": {}
      },
      "source": [
        "# 이미 기본 en 모델은 다운로드 되어 있으나, 혹시 없으면\n",
        "# !python -m spacy -m en "
      ],
      "execution_count": 165,
      "outputs": []
    },
    {
      "cell_type": "markdown",
      "metadata": {
        "id": "WI3o0lXCIgiw",
        "colab_type": "text"
      },
      "source": [
        "#### 시각화 도구\n",
        "* 구글 Colab에서 한글 문제 대응하기 - https://pinkwink.kr/1255\n",
        "* https://rasahq.github.io/whatlies/\n",
        "* https://spacy.io/universe/project/whatlies"
      ]
    },
    {
      "cell_type": "code",
      "metadata": {
        "id": "G03F1wddP3DG",
        "colab_type": "code",
        "colab": {
          "base_uri": "https://localhost:8080/",
          "height": 255
        },
        "outputId": "5fa7d6be-f86d-4d8a-87c1-3b99005a6b0c"
      },
      "source": [
        "# -- 한글폰트 지원을 위한 설치\n",
        "%config InlineBackend.figure_format = 'retina'\n",
        " \n",
        "!apt -qq -y install fonts-nanum\n",
        " "
      ],
      "execution_count": 178,
      "outputs": [
        {
          "output_type": "stream",
          "text": [
            "The following package was automatically installed and is no longer required:\n",
            "  libnvidia-common-440\n",
            "Use 'apt autoremove' to remove it.\n",
            "The following NEW packages will be installed:\n",
            "  fonts-nanum\n",
            "0 upgraded, 1 newly installed, 0 to remove and 7 not upgraded.\n",
            "Need to get 9,604 kB of archives.\n",
            "After this operation, 29.5 MB of additional disk space will be used.\n",
            "Selecting previously unselected package fonts-nanum.\n",
            "(Reading database ... 144616 files and directories currently installed.)\n",
            "Preparing to unpack .../fonts-nanum_20170925-1_all.deb ...\n",
            "Unpacking fonts-nanum (20170925-1) ...\n",
            "Setting up fonts-nanum (20170925-1) ...\n",
            "Processing triggers for fontconfig (2.12.6-0ubuntu2) ...\n"
          ],
          "name": "stdout"
        }
      ]
    },
    {
      "cell_type": "code",
      "metadata": {
        "id": "8x1GmMrzRg3l",
        "colab_type": "code",
        "colab": {}
      },
      "source": [
        "import matplotlib as mpl\n",
        "import matplotlib.pyplot as plt\n",
        "\n",
        "import matplotlib.font_manager as fm\n",
        "fontpath = '/usr/share/fonts/truetype/nanum/NanumBarunGothic.ttf'\n",
        "font = fm.FontProperties(fname=fontpath, size=9)\n",
        "plt.rc('font', family='NanumBarunGothic') \n",
        "mpl.font_manager._rebuild()"
      ],
      "execution_count": 110,
      "outputs": []
    },
    {
      "cell_type": "code",
      "metadata": {
        "id": "IyXZgBQgSAd-",
        "colab_type": "code",
        "colab": {
          "base_uri": "https://localhost:8080/",
          "height": 51
        },
        "outputId": "53c62f06-d3ab-4f57-8430-2d3294579ce6"
      },
      "source": [
        "# 현재 설정되어 있는 폰트 사이즈와 글꼴을 알아보자\n",
        "!python --version\n",
        "def current_font():\n",
        "  print(f\"설정 폰트 글꼴: {plt.rcParams['font.family']}, 설정 폰트 사이즈: {plt.rcParams['font.size']}\")  # 파이썬 3.6 이상 사용가능하다\n",
        "        \n",
        "current_font()"
      ],
      "execution_count": 111,
      "outputs": [
        {
          "output_type": "stream",
          "text": [
            "Python 3.6.9\n",
            "설정 폰트 글꼴: ['NanumBarunGothic'], 설정 폰트 사이즈: 10.0\n"
          ],
          "name": "stdout"
        }
      ]
    },
    {
      "cell_type": "code",
      "metadata": {
        "id": "8OIU11fUIivC",
        "colab_type": "code",
        "colab": {}
      },
      "source": [
        "# -- whatlies\n",
        "!pip install whatlies"
      ],
      "execution_count": null,
      "outputs": []
    },
    {
      "cell_type": "markdown",
      "metadata": {
        "id": "BDdyWXn1IscF",
        "colab_type": "text"
      },
      "source": [
        "#### 한국어 지원"
      ]
    },
    {
      "cell_type": "code",
      "metadata": {
        "id": "AZBumYjUmI2H",
        "colab_type": "code",
        "colab": {}
      },
      "source": [
        "#spacy는 현재 colab에서는 기본 설치되어 있다. 한국어 지원만 다음 과정을 따르면 된다."
      ],
      "execution_count": null,
      "outputs": []
    },
    {
      "cell_type": "code",
      "metadata": {
        "id": "voy1IJoblAUA",
        "colab_type": "code",
        "colab": {}
      },
      "source": [
        "# 한국어 형태소 분석을 위한 mecab-ko 설치가 필요하다.\n",
        "#remove \" > /dev/null 2>&1\" to see what is going on under the hood\n",
        "!git clone https://github.com/SOMJANG/Mecab-ko-for-Google-Colab.git > /dev/null 2>&1"
      ],
      "execution_count": 7,
      "outputs": []
    },
    {
      "cell_type": "code",
      "metadata": {
        "id": "T8g9V0WJlQTT",
        "colab_type": "code",
        "colab": {
          "base_uri": "https://localhost:8080/",
          "height": 34
        },
        "outputId": "4d29f80b-ab01-434d-a89f-21b97c79c3fc"
      },
      "source": [
        "cd Mecab-ko-for-Google-Colab"
      ],
      "execution_count": 9,
      "outputs": [
        {
          "output_type": "stream",
          "text": [
            "/content/Mecab-ko-for-Google-Colab\n"
          ],
          "name": "stdout"
        }
      ]
    },
    {
      "cell_type": "code",
      "metadata": {
        "id": "JX8T9oYpkkub",
        "colab_type": "code",
        "colab": {}
      },
      "source": [
        "!bash install_mecab-ko_on_colab190912.sh > /dev/null 2>&1"
      ],
      "execution_count": 11,
      "outputs": []
    },
    {
      "cell_type": "code",
      "metadata": {
        "id": "c7WuGokFkpaR",
        "colab_type": "code",
        "colab": {}
      },
      "source": [
        "# natto-py를 설치해야 mecab-ko를 spaCy에 연동가능하다.\n",
        "!pip install natto-py > /dev/null 2>&1"
      ],
      "execution_count": 12,
      "outputs": []
    },
    {
      "cell_type": "code",
      "metadata": {
        "id": "kZlJi4UfkrZm",
        "colab_type": "code",
        "colab": {
          "base_uri": "https://localhost:8080/",
          "height": 102
        },
        "outputId": "89848735-03dc-445c-82e8-647ad6b20211"
      },
      "source": [
        "# 한국어 처리 가능여부 테스트. 이 코드가 제대로 실행되면 spaCy 한국어 지원이 제대로 된 것이다.\n",
        "from spacy.lang.ko import Korean\n",
        "\n",
        "nlp_ko = Korean()\n",
        "\n",
        "doc = nlp_ko(u'이것은 문장이다') #Creates a Doc object \n",
        "\n",
        "for token in doc:  \n",
        "    print(token.text, token.pos_, token.tag_) #prints the text and POS"
      ],
      "execution_count": 1,
      "outputs": [
        {
          "output_type": "stream",
          "text": [
            "이것 PRON NP\n",
            "은 ADP JX\n",
            "문장 NOUN NNG\n",
            "이 ADP VCP\n",
            "다 X EC\n"
          ],
          "name": "stdout"
        }
      ]
    },
    {
      "cell_type": "code",
      "metadata": {
        "id": "oLWcGA5orWgU",
        "colab_type": "code",
        "colab": {
          "base_uri": "https://localhost:8080/",
          "height": 34
        },
        "outputId": "40aaf95c-dc27-42f8-eb74-7289a09252cd"
      },
      "source": [
        "cd /content"
      ],
      "execution_count": 49,
      "outputs": [
        {
          "output_type": "stream",
          "text": [
            "/content\n"
          ],
          "name": "stdout"
        }
      ]
    },
    {
      "cell_type": "markdown",
      "metadata": {
        "id": "I1mxzGZkmUlY",
        "colab_type": "text"
      },
      "source": [
        "---------"
      ]
    },
    {
      "cell_type": "markdown",
      "metadata": {
        "id": "LohtJAyw8B2X",
        "colab_type": "text"
      },
      "source": [
        "-------------"
      ]
    },
    {
      "cell_type": "markdown",
      "metadata": {
        "id": "i3Q73Bna8DhE",
        "colab_type": "text"
      },
      "source": [
        "# Pretrained 한국어 Word2Vec을 spaCy에서 사용하기"
      ]
    },
    {
      "cell_type": "markdown",
      "metadata": {
        "id": "8srFPoigkXxO",
        "colab_type": "text"
      },
      "source": [
        "#### 참고 \n",
        "* spaCy official doc. Word Vectors and Semantic Similarity - https://spacy.io/usage/vectors-similarity\n",
        "* gensim official doc. models.keyedvectors – Store and query word vectors - https://radimrehurek.com/gensim/models/keyedvectors.html\n",
        "* GENSIM WORD2VEC SIMPLE USAGE - https://gorakgarak.tistory.com/1330\n",
        "* 딥 러닝을 이용한 자연어 처리 입문 - 영어/한국어 Word2Vec 실습 WikiDocs\n",
        "3) 영어/한국어 Word2Vec 실습 - https://wikidocs.net/50739\n",
        "* Pre-trained word vectors of 30+ languages - https://github.com/Kyubyong/wordvectors"
      ]
    },
    {
      "cell_type": "markdown",
      "metadata": {
        "id": "-stLqQpIM-k3",
        "colab_type": "text"
      },
      "source": [
        "#### spaCy 모델로 만들기"
      ]
    },
    {
      "cell_type": "code",
      "metadata": {
        "id": "I8LOl7KSrlmM",
        "colab_type": "code",
        "colab": {
          "base_uri": "https://localhost:8080/",
          "height": 85
        },
        "outputId": "eee3b378-aa1a-4ed6-b005-f29848aaed4d"
      },
      "source": [
        "!git clone https://github.com/babelPish/slaw.git"
      ],
      "execution_count": 26,
      "outputs": [
        {
          "output_type": "stream",
          "text": [
            "Cloning into 'slaw'...\n",
            "remote: Enumerating objects: 78, done.\u001b[K\n",
            "remote: Total 78 (delta 0), reused 0 (delta 0), pack-reused 78\u001b[K\n",
            "Unpacking objects: 100% (78/78), done.\n"
          ],
          "name": "stdout"
        }
      ]
    },
    {
      "cell_type": "code",
      "metadata": {
        "id": "xpiy5R54sBVE",
        "colab_type": "code",
        "colab": {
          "base_uri": "https://localhost:8080/",
          "height": 68
        },
        "outputId": "96a99dc2-3ef1-4c73-c6fc-d9c318623c4f"
      },
      "source": [
        "ls"
      ],
      "execution_count": 5,
      "outputs": [
        {
          "output_type": "stream",
          "text": [
            "\u001b[0m\u001b[01;34mmecab-0.996-ko-0.9.2\u001b[0m/         mecab-ko-dic-2.1.1-20180720.tar.gz  \u001b[01;34mslaw\u001b[0m/\n",
            "mecab-0.996-ko-0.9.2.tar.gz   \u001b[01;34mMecab-ko-for-Google-Colab\u001b[0m/\n",
            "\u001b[01;34mmecab-ko-dic-2.1.1-20180720\u001b[0m/  \u001b[01;34msample_data\u001b[0m/\n"
          ],
          "name": "stdout"
        }
      ]
    },
    {
      "cell_type": "code",
      "metadata": {
        "id": "hSLVMMl0sH8g",
        "colab_type": "code",
        "colab": {
          "base_uri": "https://localhost:8080/",
          "height": 34
        },
        "outputId": "0d39e416-1cfa-46c7-e5db-c2c74283cd5a"
      },
      "source": [
        "cd /content/slaw/spacy_basic/colab_notebooks/"
      ],
      "execution_count": 50,
      "outputs": [
        {
          "output_type": "stream",
          "text": [
            "/content/slaw/spacy_basic/colab_notebooks\n"
          ],
          "name": "stdout"
        }
      ]
    },
    {
      "cell_type": "code",
      "metadata": {
        "id": "VmPfEcWBsNUC",
        "colab_type": "code",
        "colab": {
          "base_uri": "https://localhost:8080/",
          "height": 34
        },
        "outputId": "6be44efd-a810-455a-a76d-7208cabe21b1"
      },
      "source": [
        "ls"
      ],
      "execution_count": 51,
      "outputs": [
        {
          "output_type": "stream",
          "text": [
            "05_working_with_word_vectors.ipynb  \u001b[0m\u001b[01;34mmodels\u001b[0m/\n"
          ],
          "name": "stdout"
        }
      ]
    },
    {
      "cell_type": "code",
      "metadata": {
        "id": "viu1g2CXsOG7",
        "colab_type": "code",
        "colab": {
          "base_uri": "https://localhost:8080/",
          "height": 34
        },
        "outputId": "1413cc72-c4b3-4244-bcff-c3f324e44800"
      },
      "source": [
        "cd models"
      ],
      "execution_count": 52,
      "outputs": [
        {
          "output_type": "stream",
          "text": [
            "/content/slaw/spacy_basic/colab_notebooks/models\n"
          ],
          "name": "stdout"
        }
      ]
    },
    {
      "cell_type": "code",
      "metadata": {
        "id": "TJrGX4m6sPjK",
        "colab_type": "code",
        "colab": {
          "base_uri": "https://localhost:8080/",
          "height": 34
        },
        "outputId": "21c178fe-09ef-4e17-99fb-e7ed2df5dbbc"
      },
      "source": [
        "ls"
      ],
      "execution_count": 31,
      "outputs": [
        {
          "output_type": "stream",
          "text": [
            "\u001b[0m\u001b[01;34mko_wv\u001b[0m/\n"
          ],
          "name": "stdout"
        }
      ]
    },
    {
      "cell_type": "code",
      "metadata": {
        "id": "AAP_bo8JsQMh",
        "colab_type": "code",
        "colab": {
          "base_uri": "https://localhost:8080/",
          "height": 34
        },
        "outputId": "3a2cb5fd-b271-44c2-b6a6-7972cc1c9e29"
      },
      "source": [
        "cd ko_wv"
      ],
      "execution_count": 53,
      "outputs": [
        {
          "output_type": "stream",
          "text": [
            "/content/slaw/spacy_basic/colab_notebooks/models/ko_wv\n"
          ],
          "name": "stdout"
        }
      ]
    },
    {
      "cell_type": "code",
      "metadata": {
        "id": "Z10Anmh2sSAu",
        "colab_type": "code",
        "colab": {
          "base_uri": "https://localhost:8080/",
          "height": 34
        },
        "outputId": "6ba7f722-0377-420a-a5e1-9aa4085c6fe0"
      },
      "source": [
        "ls"
      ],
      "execution_count": 34,
      "outputs": [
        {
          "output_type": "stream",
          "text": [
            "ko.zip\n"
          ],
          "name": "stdout"
        }
      ]
    },
    {
      "cell_type": "code",
      "metadata": {
        "id": "xcpV9VggsUGa",
        "colab_type": "code",
        "colab": {
          "base_uri": "https://localhost:8080/",
          "height": 68
        },
        "outputId": "1c26c8ac-0500-4324-d57a-00f06a824e1c"
      },
      "source": [
        "!unzip ko.zip"
      ],
      "execution_count": 35,
      "outputs": [
        {
          "output_type": "stream",
          "text": [
            "Archive:  ko.zip\n",
            "  inflating: ko.bin                  \n",
            "  inflating: ko.tsv                  \n"
          ],
          "name": "stdout"
        }
      ]
    },
    {
      "cell_type": "code",
      "metadata": {
        "id": "WDMOPoS1sV_Q",
        "colab_type": "code",
        "colab": {}
      },
      "source": [
        "import gensim"
      ],
      "execution_count": 36,
      "outputs": []
    },
    {
      "cell_type": "code",
      "metadata": {
        "id": "36vlo1YgsrvT",
        "colab_type": "code",
        "colab": {
          "base_uri": "https://localhost:8080/",
          "height": 71
        },
        "outputId": "135c7195-734c-4ea3-8bd5-6efaa5a91824"
      },
      "source": [
        "model = gensim.models.Word2Vec.load('ko.bin')"
      ],
      "execution_count": 37,
      "outputs": [
        {
          "output_type": "stream",
          "text": [
            "/usr/local/lib/python3.6/dist-packages/smart_open/smart_open_lib.py:253: UserWarning: This function is deprecated, use smart_open.open instead. See the migration notes for details: https://github.com/RaRe-Technologies/smart_open/blob/master/README.rst#migrating-to-the-new-open-function\n",
            "  'See the migration notes for details: %s' % _MIGRATION_NOTES_URL\n"
          ],
          "name": "stderr"
        }
      ]
    },
    {
      "cell_type": "code",
      "metadata": {
        "id": "FsosdlUosy7L",
        "colab_type": "code",
        "colab": {}
      },
      "source": [
        "kv = model.wv"
      ],
      "execution_count": 39,
      "outputs": []
    },
    {
      "cell_type": "code",
      "metadata": {
        "id": "x9s2ninks5le",
        "colab_type": "code",
        "colab": {
          "base_uri": "https://localhost:8080/",
          "height": 71
        },
        "outputId": "5e8be121-069e-4b72-c0d2-e148dc4cf9cb"
      },
      "source": [
        "kv.save_word2vec_format('ko_wv.embd', binary=False)"
      ],
      "execution_count": 40,
      "outputs": [
        {
          "output_type": "stream",
          "text": [
            "/usr/local/lib/python3.6/dist-packages/smart_open/smart_open_lib.py:253: UserWarning: This function is deprecated, use smart_open.open instead. See the migration notes for details: https://github.com/RaRe-Technologies/smart_open/blob/master/README.rst#migrating-to-the-new-open-function\n",
            "  'See the migration notes for details: %s' % _MIGRATION_NOTES_URL\n"
          ],
          "name": "stderr"
        }
      ]
    },
    {
      "cell_type": "code",
      "metadata": {
        "id": "yLnAwAdutNSw",
        "colab_type": "code",
        "colab": {
          "base_uri": "https://localhost:8080/",
          "height": 34
        },
        "outputId": "5f9dbc0f-71f4-42a9-c83a-2b7c35c1a448"
      },
      "source": [
        "ls"
      ],
      "execution_count": 56,
      "outputs": [
        {
          "output_type": "stream",
          "text": [
            "ko.bin  ko.tsv  ko_wv.embd  \u001b[0m\u001b[01;34mko_wv.spacy.embd\u001b[0m/  ko.zip\n"
          ],
          "name": "stdout"
        }
      ]
    },
    {
      "cell_type": "code",
      "metadata": {
        "id": "cfU-z_7ItPWo",
        "colab_type": "code",
        "colab": {
          "base_uri": "https://localhost:8080/",
          "height": 102
        },
        "outputId": "88a969fd-354d-434e-abab-4d1af9b878f3"
      },
      "source": [
        "!python -m spacy init-model ko ko_wv.spacy.embd --vectors-loc ko_wv.embd"
      ],
      "execution_count": 42,
      "outputs": [
        {
          "output_type": "stream",
          "text": [
            "\u001b[2K\u001b[38;5;2m✔ Successfully created model\u001b[0m\n",
            "30185it [00:01, 17350.54it/s]\n",
            "\u001b[2K\u001b[38;5;2m✔ Loaded vectors from ko_wv.embd\u001b[0m\n",
            "\u001b[38;5;2m✔ Sucessfully compiled vocab\u001b[0m\n",
            "30185 entries, 30185 vectors\n"
          ],
          "name": "stdout"
        }
      ]
    },
    {
      "cell_type": "code",
      "metadata": {
        "id": "92WXwjE51vcG",
        "colab_type": "code",
        "colab": {
          "base_uri": "https://localhost:8080/",
          "height": 34
        },
        "outputId": "9fd3676a-40d1-4e3e-c4f1-d616a00c3d46"
      },
      "source": [
        "ls"
      ],
      "execution_count": 52,
      "outputs": [
        {
          "output_type": "stream",
          "text": [
            "ko.bin  ko.tsv  ko_wv.embd  \u001b[0m\u001b[01;34mko_wv.spacy.embd\u001b[0m/  ko.zip\n"
          ],
          "name": "stdout"
        }
      ]
    },
    {
      "cell_type": "code",
      "metadata": {
        "id": "yEnMa3-cthLm",
        "colab_type": "code",
        "colab": {
          "base_uri": "https://localhost:8080/",
          "height": 34
        },
        "outputId": "b2610f66-184e-403c-fc5a-205f96167502"
      },
      "source": [
        "ls ko_wv.spacy.embd"
      ],
      "execution_count": 56,
      "outputs": [
        {
          "output_type": "stream",
          "text": [
            "meta.json  \u001b[0m\u001b[01;34mvocab\u001b[0m/\n"
          ],
          "name": "stdout"
        }
      ]
    },
    {
      "cell_type": "markdown",
      "metadata": {
        "id": "qjz8DzXjNIA7",
        "colab_type": "text"
      },
      "source": [
        "#### 만들어진 모델 로드해서 사용하기"
      ]
    },
    {
      "cell_type": "code",
      "metadata": {
        "id": "RKse4yfitmLf",
        "colab_type": "code",
        "colab": {
          "base_uri": "https://localhost:8080/",
          "height": 71
        },
        "outputId": "0fb22db6-d8ac-4b03-8c5b-dffd44da2355"
      },
      "source": [
        "nlp_ko_wv = spacy.load('ko_wv.spacy.embd')"
      ],
      "execution_count": 57,
      "outputs": [
        {
          "output_type": "stream",
          "text": [
            "/usr/lib/python3.6/runpy.py:193: UserWarning: [W019] Changing vectors name from ko_model.vectors to ko_model.vectors_30185, to avoid clash with previously loaded vectors. See Issue #3853.\n",
            "  \"__main__\", mod_spec)\n"
          ],
          "name": "stderr"
        }
      ]
    },
    {
      "cell_type": "code",
      "metadata": {
        "id": "MDjA4Szrtm-a",
        "colab_type": "code",
        "colab": {}
      },
      "source": [
        "doc1 = nlp_ko_wv('안녕하세요') "
      ],
      "execution_count": 58,
      "outputs": []
    },
    {
      "cell_type": "code",
      "metadata": {
        "id": "sHpu7ngb2hQX",
        "colab_type": "code",
        "colab": {}
      },
      "source": [
        "doc2 = nlp_ko_wv('안녕')"
      ],
      "execution_count": 59,
      "outputs": []
    },
    {
      "cell_type": "code",
      "metadata": {
        "id": "ydHcFEx82lTZ",
        "colab_type": "code",
        "colab": {}
      },
      "source": [
        "doc3 = nlp_ko_wv('반갑다')"
      ],
      "execution_count": 60,
      "outputs": []
    },
    {
      "cell_type": "code",
      "metadata": {
        "id": "SM6FCcPG2oQS",
        "colab_type": "code",
        "colab": {}
      },
      "source": [
        "doc4 = nlp_ko_wv('강아지')"
      ],
      "execution_count": 61,
      "outputs": []
    },
    {
      "cell_type": "code",
      "metadata": {
        "id": "xWq_2UyqP1e0",
        "colab_type": "code",
        "colab": {}
      },
      "source": [
        "doc5 = nlp_ko_wv('겔럭시')"
      ],
      "execution_count": 99,
      "outputs": []
    },
    {
      "cell_type": "code",
      "metadata": {
        "id": "LM97iSUtP5Po",
        "colab_type": "code",
        "colab": {}
      },
      "source": [
        "doc6 = nlp_ko_wv('갤럭시')"
      ],
      "execution_count": 100,
      "outputs": []
    },
    {
      "cell_type": "code",
      "metadata": {
        "id": "BikWo0ff2tfu",
        "colab_type": "code",
        "colab": {
          "base_uri": "https://localhost:8080/",
          "height": 34
        },
        "outputId": "e615d1b8-be12-482c-974d-f90b7cb47b44"
      },
      "source": [
        "doc1.similarity(doc1)"
      ],
      "execution_count": 64,
      "outputs": [
        {
          "output_type": "execute_result",
          "data": {
            "text/plain": [
              "1.0"
            ]
          },
          "metadata": {
            "tags": []
          },
          "execution_count": 64
        }
      ]
    },
    {
      "cell_type": "code",
      "metadata": {
        "id": "3UEvjmtL2wkZ",
        "colab_type": "code",
        "colab": {
          "base_uri": "https://localhost:8080/",
          "height": 34
        },
        "outputId": "8daad3d8-7d94-4e7a-b93c-7d2fe14ce881"
      },
      "source": [
        "doc1.similarity(doc2)"
      ],
      "execution_count": 65,
      "outputs": [
        {
          "output_type": "execute_result",
          "data": {
            "text/plain": [
              "0.3767422436269971"
            ]
          },
          "metadata": {
            "tags": []
          },
          "execution_count": 65
        }
      ]
    },
    {
      "cell_type": "code",
      "metadata": {
        "id": "u91kasMf2ymf",
        "colab_type": "code",
        "colab": {
          "base_uri": "https://localhost:8080/",
          "height": 34
        },
        "outputId": "b0f07517-35bc-449d-8c6a-06d4452aa0a5"
      },
      "source": [
        "doc1.similarity(doc3)"
      ],
      "execution_count": 66,
      "outputs": [
        {
          "output_type": "execute_result",
          "data": {
            "text/plain": [
              "0.06939425105226041"
            ]
          },
          "metadata": {
            "tags": []
          },
          "execution_count": 66
        }
      ]
    },
    {
      "cell_type": "code",
      "metadata": {
        "id": "n82kaz8W23de",
        "colab_type": "code",
        "colab": {
          "base_uri": "https://localhost:8080/",
          "height": 34
        },
        "outputId": "d7b5661e-8f2d-4285-cc09-0fd160df7204"
      },
      "source": [
        "doc1.similarity(doc4)"
      ],
      "execution_count": 67,
      "outputs": [
        {
          "output_type": "execute_result",
          "data": {
            "text/plain": [
              "-0.038436487747098264"
            ]
          },
          "metadata": {
            "tags": []
          },
          "execution_count": 67
        }
      ]
    },
    {
      "cell_type": "code",
      "metadata": {
        "id": "1mPzdrXAQBxV",
        "colab_type": "code",
        "colab": {
          "base_uri": "https://localhost:8080/",
          "height": 34
        },
        "outputId": "7148b2bc-f202-4508-cb10-dca9afdcd106"
      },
      "source": [
        "doc5.similarity(doc6)"
      ],
      "execution_count": 101,
      "outputs": [
        {
          "output_type": "execute_result",
          "data": {
            "text/plain": [
              "0.2627900996926142"
            ]
          },
          "metadata": {
            "tags": []
          },
          "execution_count": 101
        }
      ]
    },
    {
      "cell_type": "markdown",
      "metadata": {
        "id": "484JhtdwFLQF",
        "colab_type": "text"
      },
      "source": [
        "#### 시각화"
      ]
    },
    {
      "cell_type": "markdown",
      "metadata": {
        "id": "-21NoOVtTHxY",
        "colab_type": "text"
      },
      "source": [
        "#### 참고\n",
        "* https://www.kaggle.com/zackakil/\n",
        "* https://towardsdatascience.com/an-introduction-to-t-sne-with-python-example-5a3a293108d1"
      ]
    },
    {
      "cell_type": "code",
      "metadata": {
        "id": "ro8AP_RIROd9",
        "colab_type": "code",
        "colab": {
          "base_uri": "https://localhost:8080/",
          "height": 34
        },
        "outputId": "4682ad42-5a2c-48c8-8ebc-5affbfe39dd7"
      },
      "source": [
        "cd /content"
      ],
      "execution_count": 167,
      "outputs": [
        {
          "output_type": "stream",
          "text": [
            "/content\n"
          ],
          "name": "stdout"
        }
      ]
    },
    {
      "cell_type": "code",
      "metadata": {
        "id": "jbWJCPQHNT1x",
        "colab_type": "code",
        "colab": {}
      },
      "source": [
        "# 임베딩 벡터 시각화"
      ],
      "execution_count": null,
      "outputs": []
    },
    {
      "cell_type": "code",
      "metadata": {
        "id": "Fr9nJMdsNu6x",
        "colab_type": "code",
        "colab": {}
      },
      "source": [
        "# import the PCA module from sklearn\n",
        "from sklearn.decomposition import PCA"
      ],
      "execution_count": 102,
      "outputs": []
    },
    {
      "cell_type": "code",
      "metadata": {
        "id": "HFfs0QN1MtQz",
        "colab_type": "code",
        "colab": {}
      },
      "source": [
        "import matplotlib.pyplot as plt"
      ],
      "execution_count": 103,
      "outputs": []
    },
    {
      "cell_type": "code",
      "metadata": {
        "id": "rlW11_ijNZ4h",
        "colab_type": "code",
        "colab": {}
      },
      "source": [
        "def get_word_vectors(words, nlp):\n",
        "    # converts a list of words into their word vectors\n",
        "    return [nlp(word).vector for word in words]"
      ],
      "execution_count": 104,
      "outputs": []
    },
    {
      "cell_type": "code",
      "metadata": {
        "id": "95wV0kwzN3RZ",
        "colab_type": "code",
        "colab": {}
      },
      "source": [
        "# -- pca로 2차원으로 만들어서 비교"
      ],
      "execution_count": 105,
      "outputs": []
    },
    {
      "cell_type": "code",
      "metadata": {
        "id": "9M-u_vbXNn8I",
        "colab_type": "code",
        "colab": {}
      },
      "source": [
        "words = ['개', '고양이', '고냥이', '호랑이', '물고기', '어항', '서울', '부산', '소년', '소녀', '남자', '여자', '왕', '여왕']"
      ],
      "execution_count": 106,
      "outputs": []
    },
    {
      "cell_type": "code",
      "metadata": {
        "id": "o6cnrZjKN8BV",
        "colab_type": "code",
        "colab": {}
      },
      "source": [
        "pca = PCA(n_components=2)\n",
        "\n",
        "word_vecs_2d = pca.fit_transform(get_word_vectors(words, nlp_ko_wv))"
      ],
      "execution_count": 107,
      "outputs": []
    },
    {
      "cell_type": "code",
      "metadata": {
        "id": "Hp8Fft_HOI4w",
        "colab_type": "code",
        "colab": {
          "base_uri": "https://localhost:8080/",
          "height": 255
        },
        "outputId": "721da7c8-f96f-45c1-adec-d16e5b27dd11"
      },
      "source": [
        "# let's look at our new 2D word vectors\n",
        "word_vecs_2d"
      ],
      "execution_count": 108,
      "outputs": [
        {
          "output_type": "execute_result",
          "data": {
            "text/plain": [
              "array([[ 7.51909943,  0.47106581],\n",
              "       [-4.69819873, -0.54879635],\n",
              "       [ 0.87500346, -0.24064316],\n",
              "       [-1.29240752, -1.05716794],\n",
              "       [-2.64911632,  1.42994065],\n",
              "       [14.45743627,  8.33634248],\n",
              "       [ 9.25201635, -5.91781758],\n",
              "       [10.20388686, -5.88343749],\n",
              "       [-4.61270903, -3.87502227],\n",
              "       [-8.16568907, -6.56297332],\n",
              "       [-6.47427034, -3.95685503],\n",
              "       [-3.58626192, -4.37619559],\n",
              "       [-5.75349598, 13.89557785],\n",
              "       [-5.07529345,  8.28598194]])"
            ]
          },
          "metadata": {
            "tags": []
          },
          "execution_count": 108
        }
      ]
    },
    {
      "cell_type": "code",
      "metadata": {
        "id": "2dZDaDz4O0Sa",
        "colab_type": "code",
        "colab": {
          "base_uri": "https://localhost:8080/",
          "height": 680
        },
        "outputId": "3ab44c11-196f-4a44-be51-eeb63fd209ce"
      },
      "source": [
        "# create a nice big plot \n",
        "plt.figure(figsize=(10,10))\n",
        "\n",
        "# plot the scatter plot of where the words will be\n",
        "plt.scatter(word_vecs_2d[:,0], word_vecs_2d[:,1])\n",
        "\n",
        "# for each word and coordinate pair: draw the text on the plot\n",
        "for word, coord in zip(words, word_vecs_2d):\n",
        "    x, y = coord\n",
        "    plt.text(x, y, word, size= 15)\n",
        "\n",
        "# show the plot\n",
        "plt.show()"
      ],
      "execution_count": 112,
      "outputs": [
        {
          "output_type": "stream",
          "text": [
            "/usr/local/lib/python3.6/dist-packages/matplotlib/backends/backend_agg.py:214: RuntimeWarning: Glyph 8722 missing from current font.\n",
            "  font.set_text(s, 0.0, flags=flags)\n",
            "/usr/local/lib/python3.6/dist-packages/matplotlib/backends/backend_agg.py:183: RuntimeWarning: Glyph 8722 missing from current font.\n",
            "  font.set_text(s, 0, flags=flags)\n"
          ],
          "name": "stderr"
        },
        {
          "output_type": "display_data",
          "data": {
            "image/png": "[encoded data removed]",
            "text/plain": [
              "<Figure size 720x720 with 1 Axes>"
            ]
          },
          "metadata": {
            "tags": [],
            "needs_background": "light"
          }
        }
      ]
    },
    {
      "cell_type": "code",
      "metadata": {
        "id": "EHq3cDCoT2XK",
        "colab_type": "code",
        "colab": {}
      },
      "source": [
        "from sklearn.manifold import TSNE"
      ],
      "execution_count": 113,
      "outputs": []
    },
    {
      "cell_type": "code",
      "metadata": {
        "id": "r_p6AD2iT-oJ",
        "colab_type": "code",
        "colab": {}
      },
      "source": [
        "tsne = TSNE(n_components=2) \n",
        "\n",
        "word_vecs_2d_tsne = tsne.fit_transform(get_word_vectors(words, nlp_ko_wv))"
      ],
      "execution_count": 114,
      "outputs": []
    },
    {
      "cell_type": "code",
      "metadata": {
        "id": "joNBJeTfUQFY",
        "colab_type": "code",
        "colab": {
          "base_uri": "https://localhost:8080/",
          "height": 255
        },
        "outputId": "b9216767-ffc2-4ec1-fd54-2d0015b08278"
      },
      "source": [
        "word_vecs_2d_tsne"
      ],
      "execution_count": 115,
      "outputs": [
        {
          "output_type": "execute_result",
          "data": {
            "text/plain": [
              "array([[ -96.309845 ,   65.07963  ],\n",
              "       [   8.538019 ,  147.75122  ],\n",
              "       [  83.11923  , -161.95361  ],\n",
              "       [-115.99335  ,  -36.7991   ],\n",
              "       [-143.78087  , -158.3079   ],\n",
              "       [-120.835625 ,  170.68573  ],\n",
              "       [ -34.738655 ,  -97.6543   ],\n",
              "       [-226.46414  ,  -66.57293  ],\n",
              "       [ -32.60427  , -212.06679  ],\n",
              "       [  -4.4332743,   27.748274 ],\n",
              "       [  57.362602 ,  -49.7873   ],\n",
              "       [ 107.49638  ,   73.48905  ],\n",
              "       [-211.04265  ,   58.584644 ],\n",
              "       [ 165.65916  ,  -44.52259  ]], dtype=float32)"
            ]
          },
          "metadata": {
            "tags": []
          },
          "execution_count": 115
        }
      ]
    },
    {
      "cell_type": "code",
      "metadata": {
        "id": "5ZBTP8lAUTGx",
        "colab_type": "code",
        "colab": {
          "base_uri": "https://localhost:8080/",
          "height": 680
        },
        "outputId": "a1e39e4e-d38b-4ad0-cd5b-60df2ba6080e"
      },
      "source": [
        "# create a nice big plot \n",
        "plt.figure(figsize=(10,10))\n",
        "\n",
        "# plot the scatter plot of where the words will be\n",
        "plt.scatter(word_vecs_2d_tsne[:,0], word_vecs_2d_tsne[:,1])\n",
        "\n",
        "# for each word and coordinate pair: draw the text on the plot\n",
        "for word, coord in zip(words, word_vecs_2d_tsne):\n",
        "    x, y = coord\n",
        "    plt.text(x, y, word, size= 15)\n",
        "\n",
        "# show the plot\n",
        "plt.show()"
      ],
      "execution_count": 116,
      "outputs": [
        {
          "output_type": "stream",
          "text": [
            "/usr/local/lib/python3.6/dist-packages/matplotlib/backends/backend_agg.py:214: RuntimeWarning: Glyph 8722 missing from current font.\n",
            "  font.set_text(s, 0.0, flags=flags)\n",
            "/usr/local/lib/python3.6/dist-packages/matplotlib/backends/backend_agg.py:183: RuntimeWarning: Glyph 8722 missing from current font.\n",
            "  font.set_text(s, 0, flags=flags)\n"
          ],
          "name": "stderr"
        },
        {
          "output_type": "display_data",
          "data": {
            "image/png": "[encoded data removed]",
            "text/plain": [
              "<Figure size 720x720 with 1 Axes>"
            ]
          },
          "metadata": {
            "tags": [],
            "needs_background": "light"
          }
        }
      ]
    },
    {
      "cell_type": "markdown",
      "metadata": {
        "id": "avBM_s66TO8_",
        "colab_type": "text"
      },
      "source": [
        "#### 참고\n",
        "* https://rasahq.github.io/whatlies/\n",
        "* https://spacy.io/universe/project/whatlies"
      ]
    },
    {
      "cell_type": "code",
      "metadata": {
        "id": "Sf78hcNhMwK-",
        "colab_type": "code",
        "colab": {}
      },
      "source": [
        "# whatlies 사용해보기"
      ],
      "execution_count": null,
      "outputs": []
    },
    {
      "cell_type": "code",
      "metadata": {
        "id": "PmGedZUZFVUZ",
        "colab_type": "code",
        "colab": {}
      },
      "source": [
        "from whatlies import EmbeddingSet\n",
        "from whatlies.language import SpacyLanguage"
      ],
      "execution_count": 117,
      "outputs": []
    },
    {
      "cell_type": "code",
      "metadata": {
        "id": "iLXJ-5OmFtMX",
        "colab_type": "code",
        "colab": {
          "base_uri": "https://localhost:8080/",
          "height": 34
        },
        "outputId": "85b84b08-a908-403a-b23e-c5b45629beb6"
      },
      "source": [
        "ls /content/slaw/spacy_basic/colab_notebooks/models/ko_wv_spacy"
      ],
      "execution_count": 119,
      "outputs": [
        {
          "output_type": "stream",
          "text": [
            "\u001b[0m\u001b[01;34mko_wv.spacy.embd\u001b[0m/\n"
          ],
          "name": "stdout"
        }
      ]
    },
    {
      "cell_type": "code",
      "metadata": {
        "id": "dMNlyp3vmIM0",
        "colab_type": "code",
        "colab": {}
      },
      "source": [
        "vm_ko_path = \"/content/slaw/spacy_basic/colab_notebooks/models/ko_wv_spacy/ko_wv.spacy.embd\""
      ],
      "execution_count": 120,
      "outputs": []
    },
    {
      "cell_type": "code",
      "metadata": {
        "id": "jswlsot-FhCX",
        "colab_type": "code",
        "colab": {
          "base_uri": "https://localhost:8080/",
          "height": 71
        },
        "outputId": "771ba03f-27ac-4a0b-a130-f99810991a0e"
      },
      "source": [
        "lang = SpacyLanguage(vm_ko_path)"
      ],
      "execution_count": 121,
      "outputs": [
        {
          "output_type": "stream",
          "text": [
            "/usr/lib/python3.6/runpy.py:193: UserWarning: [W019] Changing vectors name from ko_model.vectors to ko_model.vectors_30185, to avoid clash with previously loaded vectors. See Issue #3853.\n",
            "  \"__main__\", mod_spec)\n"
          ],
          "name": "stderr"
        }
      ]
    },
    {
      "cell_type": "code",
      "metadata": {
        "id": "LWIVZrxcFqTy",
        "colab_type": "code",
        "colab": {}
      },
      "source": [
        "words = ['개', '고양이', '고냥이', '호랑이', '물고기', '어항', '서울', '부산', '소년', '소녀', '남자', '여자', '왕', '여왕']"
      ],
      "execution_count": 122,
      "outputs": []
    },
    {
      "cell_type": "code",
      "metadata": {
        "id": "m_j4BSXAGNZX",
        "colab_type": "code",
        "colab": {
          "base_uri": "https://localhost:8080/",
          "height": 380
        },
        "outputId": "0ecd9def-a6de-42ba-d39a-cc7c11034861"
      },
      "source": [
        "emb = lang[words]\n",
        "emb.plot_interactive(x_axis='남자', y_axis='여자')"
      ],
      "execution_count": 123,
      "outputs": [
        {
          "output_type": "execute_result",
          "data": {
            "text/plain": [
              "alt.LayerChart(...)"
            ],
            "text/html": [
              "\n",
              "<div id=\"altair-viz-74bdb6a28b07486ea1220c66de99e365\"></div>\n",
              "<script type=\"text/javascript\">\n",
              "  (function(spec, embedOpt){\n",
              "    let outputDiv = document.currentScript.previousElementSibling;\n",
              "    if (outputDiv.id !== \"altair-viz-74bdb6a28b07486ea1220c66de99e365\") {\n",
              "      outputDiv = document.getElementById(\"altair-viz-74bdb6a28b07486ea1220c66de99e365\");\n",
              "    }\n",
              "    const paths = {\n",
              "      \"vega\": \"https://cdn.jsdelivr.net/npm//vega@5?noext\",\n",
              "      \"vega-lib\": \"https://cdn.jsdelivr.net/npm//vega-lib?noext\",\n",
              "      \"vega-lite\": \"https://cdn.jsdelivr.net/npm//vega-lite@4.8.1?noext\",\n",
              "      \"vega-embed\": \"https://cdn.jsdelivr.net/npm//vega-embed@6?noext\",\n",
              "    };\n",
              "\n",
              "    function loadScript(lib) {\n",
              "      return new Promise(function(resolve, reject) {\n",
              "        var s = document.createElement('script');\n",
              "        s.src = paths[lib];\n",
              "        s.async = true;\n",
              "        s.onload = () => resolve(paths[lib]);\n",
              "        s.onerror = () => reject(`Error loading script: ${paths[lib]}`);\n",
              "        document.getElementsByTagName(\"head\")[0].appendChild(s);\n",
              "      });\n",
              "    }\n",
              "\n",
              "    function showError(err) {\n",
              "      outputDiv.innerHTML = `<div class=\"error\" style=\"color:red;\">${err}</div>`;\n",
              "      throw err;\n",
              "    }\n",
              "\n",
              "    function displayChart(vegaEmbed) {\n",
              "      vegaEmbed(outputDiv, spec, embedOpt)\n",
              "        .catch(err => showError(`Javascript Error: ${err.message}<br>This usually means there's a typo in your chart specification. See the javascript console for the full traceback.`));\n",
              "    }\n",
              "\n",
              "    if(typeof define === \"function\" && define.amd) {\n",
              "      requirejs.config({paths});\n",
              "      require([\"vega-embed\"], displayChart, err => showError(`Error loading script: ${err.message}`));\n",
              "    } else if (typeof vegaEmbed === \"function\") {\n",
              "      displayChart(vegaEmbed);\n",
              "    } else {\n",
              "      loadScript(\"vega\")\n",
              "        .then(() => loadScript(\"vega-lite\"))\n",
              "        .then(() => loadScript(\"vega-embed\"))\n",
              "        .catch(showError)\n",
              "        .then(() => displayChart(vegaEmbed));\n",
              "    }\n",
              "  })({\"config\": {\"view\": {\"continuousWidth\": 400, \"continuousHeight\": 300}}, \"layer\": [{\"mark\": {\"type\": \"circle\", \"size\": 60}, \"encoding\": {\"color\": {\"type\": \"nominal\", \"field\": \"\", \"legend\": null}, \"tooltip\": [{\"type\": \"nominal\", \"field\": \"name\"}, {\"type\": \"nominal\", \"field\": \"original\"}], \"x\": {\"type\": \"quantitative\", \"axis\": {\"title\": \"\\ub0a8\\uc790\"}, \"field\": \"x_axis\"}, \"y\": {\"type\": \"quantitative\", \"axis\": {\"title\": \"\\uc5ec\\uc790\"}, \"field\": \"y_axis\"}}, \"selection\": {\"selector001\": {\"type\": \"interval\", \"bind\": \"scales\", \"encodings\": [\"x\", \"y\"]}}, \"title\": \"\\ub0a8\\uc790 vs. \\uc5ec\\uc790\"}, {\"mark\": {\"type\": \"text\", \"color\": \"black\", \"dx\": -15, \"dy\": 3}, \"encoding\": {\"text\": {\"type\": \"nominal\", \"field\": \"original\"}, \"x\": {\"type\": \"quantitative\", \"axis\": {\"title\": \"\\ub0a8\\uc790\"}, \"field\": \"x_axis\"}, \"y\": {\"type\": \"quantitative\", \"axis\": {\"title\": \"\\uc5ec\\uc790\"}, \"field\": \"y_axis\"}}}], \"data\": {\"name\": \"data-62442e8ffca4045ec71b78c7217ce39e\"}, \"$schema\": \"https://vega.github.io/schema/vega-lite/v4.8.1.json\", \"datasets\": {\"data-62442e8ffca4045ec71b78c7217ce39e\": [{\"x_axis\": 0.13675644993782043, \"y_axis\": 0.11457924544811249, \"name\": \"\\uac1c\", \"original\": \"\\uac1c\"}, {\"x_axis\": 0.4197443425655365, \"y_axis\": 0.37046879529953003, \"name\": \"\\uace0\\uc591\\uc774\", \"original\": \"\\uace0\\uc591\\uc774\"}, {\"x_axis\": 0.0, \"y_axis\": 0.0, \"name\": \"\\uace0\\ub0e5\\uc774\", \"original\": \"\\uace0\\ub0e5\\uc774\"}, {\"x_axis\": 0.23804619908332825, \"y_axis\": 0.25209715962409973, \"name\": \"\\ud638\\ub791\\uc774\", \"original\": \"\\ud638\\ub791\\uc774\"}, {\"x_axis\": 0.2685844600200653, \"y_axis\": 0.18896342813968658, \"name\": \"\\ubb3c\\uace0\\uae30\", \"original\": \"\\ubb3c\\uace0\\uae30\"}, {\"x_axis\": -0.1636406034231186, \"y_axis\": -0.1438010185956955, \"name\": \"\\uc5b4\\ud56d\", \"original\": \"\\uc5b4\\ud56d\"}, {\"x_axis\": -0.01952330395579338, \"y_axis\": 0.14763012528419495, \"name\": \"\\uc11c\\uc6b8\", \"original\": \"\\uc11c\\uc6b8\"}, {\"x_axis\": 0.008857040666043758, \"y_axis\": 0.20675921440124512, \"name\": \"\\ubd80\\uc0b0\", \"original\": \"\\ubd80\\uc0b0\"}, {\"x_axis\": 0.4784596562385559, \"y_axis\": 0.4291267395019531, \"name\": \"\\uc18c\\ub144\", \"original\": \"\\uc18c\\ub144\"}, {\"x_axis\": 0.5946189165115356, \"y_axis\": 0.54339599609375, \"name\": \"\\uc18c\\ub140\", \"original\": \"\\uc18c\\ub140\"}, {\"x_axis\": 0.2067641019821167, \"y_axis\": 0.18285691738128662, \"name\": \"\\uc655\", \"original\": \"\\uc655\"}, {\"x_axis\": 0.27689406275749207, \"y_axis\": 0.23627687990665436, \"name\": \"\\uc5ec\\uc655\", \"original\": \"\\uc5ec\\uc655\"}]}}, {\"mode\": \"vega-lite\"});\n",
              "</script>"
            ]
          },
          "metadata": {
            "tags": []
          },
          "execution_count": 123
        }
      ]
    },
    {
      "cell_type": "markdown",
      "metadata": {
        "id": "XfjrL9L_vMsy",
        "colab_type": "text"
      },
      "source": [
        "------------"
      ]
    },
    {
      "cell_type": "markdown",
      "metadata": {
        "id": "P1e484yAwC5h",
        "colab_type": "text"
      },
      "source": [
        "# Pretrained 한국어 FastText를 spaCy에서 사용하기.\n",
        "* 참고 \n",
        "  - FastText Pre-trained 한국어 모델 사용기 -https://inahjeon.github.io/fasttext/\n",
        "  - Word2Vec & FastText  - https://inspiringpeople.github.io/data%20analysis/word_embedding/"
      ]
    },
    {
      "cell_type": "code",
      "metadata": {
        "id": "SLuzmRROvarO",
        "colab_type": "code",
        "colab": {
          "base_uri": "https://localhost:8080/",
          "height": 34
        },
        "outputId": "13370b6c-4fd0-4b4e-8cde-181c65f8e777"
      },
      "source": [
        "cd /content/slaw/spacy_basic/colab_notebooks/models/"
      ],
      "execution_count": 70,
      "outputs": [
        {
          "output_type": "stream",
          "text": [
            "/content/slaw/spacy_basic/colab_notebooks/models\n"
          ],
          "name": "stdout"
        }
      ]
    },
    {
      "cell_type": "code",
      "metadata": {
        "id": "noKMaCeAQQ7r",
        "colab_type": "code",
        "colab": {}
      },
      "source": [
        "mkdir ko_ft"
      ],
      "execution_count": null,
      "outputs": []
    },
    {
      "cell_type": "code",
      "metadata": {
        "id": "c1xove2TzOlu",
        "colab_type": "code",
        "colab": {
          "base_uri": "https://localhost:8080/",
          "height": 34
        },
        "outputId": "0d91629d-3f4b-4f3a-87b3-0544c1d24b25"
      },
      "source": [
        "cd ko_ft"
      ],
      "execution_count": 71,
      "outputs": [
        {
          "output_type": "stream",
          "text": [
            "/content/slaw/spacy_basic/colab_notebooks/models/ko_ft\n"
          ],
          "name": "stdout"
        }
      ]
    },
    {
      "cell_type": "code",
      "metadata": {
        "id": "1CVQUXW9zPqa",
        "colab_type": "code",
        "colab": {
          "base_uri": "https://localhost:8080/",
          "height": 445
        },
        "outputId": "a394e03a-7e6f-478a-ca53-54a7901ac84e"
      },
      "source": [
        "!wget https://www.dropbox.com/s/stt4y0zcp2c0iyb/ko.tar.gz"
      ],
      "execution_count": 15,
      "outputs": [
        {
          "output_type": "stream",
          "text": [
            "--2020-06-27 14:33:05--  https://www.dropbox.com/s/stt4y0zcp2c0iyb/ko.tar.gz\n",
            "Resolving www.dropbox.com (www.dropbox.com)... 162.125.5.1, 2620:100:601d:1::a27d:501\n",
            "Connecting to www.dropbox.com (www.dropbox.com)|162.125.5.1|:443... connected.\n",
            "HTTP request sent, awaiting response... 301 Moved Permanently\n",
            "Location: /s/raw/stt4y0zcp2c0iyb/ko.tar.gz [following]\n",
            "--2020-06-27 14:33:05--  https://www.dropbox.com/s/raw/stt4y0zcp2c0iyb/ko.tar.gz\n",
            "Reusing existing connection to www.dropbox.com:443.\n",
            "HTTP request sent, awaiting response... 302 Found\n",
            "Location: https://uc495d1f19ad52bf808cd6e1d6fa.dl.dropboxusercontent.com/cd/0/inline/A6fDmDlSL3AnfY66om8kENiUkeIYBcBX1gIhY7rds_mjRxNLxf_jtIqd-e2hr2O1pH7kPROLqFH0QJup0L5NpmXI9LKhon_YTdkmGpvSldM8tQ/file# [following]\n",
            "--2020-06-27 14:33:05--  https://uc495d1f19ad52bf808cd6e1d6fa.dl.dropboxusercontent.com/cd/0/inline/A6fDmDlSL3AnfY66om8kENiUkeIYBcBX1gIhY7rds_mjRxNLxf_jtIqd-e2hr2O1pH7kPROLqFH0QJup0L5NpmXI9LKhon_YTdkmGpvSldM8tQ/file\n",
            "Resolving uc495d1f19ad52bf808cd6e1d6fa.dl.dropboxusercontent.com (uc495d1f19ad52bf808cd6e1d6fa.dl.dropboxusercontent.com)... 162.125.5.15, 2620:100:601d:15::a27d:50f\n",
            "Connecting to uc495d1f19ad52bf808cd6e1d6fa.dl.dropboxusercontent.com (uc495d1f19ad52bf808cd6e1d6fa.dl.dropboxusercontent.com)|162.125.5.15|:443... connected.\n",
            "HTTP request sent, awaiting response... 302 Found\n",
            "Location: /cd/0/inline2/A6eRH3HZJ6ZwyGzN0AoB8_NOKI1XarDqHaCR5sOle_E2oALO2eCwRAeUH2HQ9qlcE0IAunrlf8311-SnUEVI66hx5asByTNIu9cyVMOr3s4LWq-ztpfRpkP0cD5hV-47mZSmCvGyYWbiKwn8N2jwgwiDgDVvKjyG2qhRwH7IWwJK20C-5MxL2zZF6GF6nir726V7IWu_JEgECdNsfZ6ypqe7EPb_YW6uIhEdewMbqaF-fJ-t36GPTOWkuQpCLw1BhJecktLda4xrsghtGbfl4G8CKvloKXW3n_uFD6iiJV83Ox9zqk-w4J5luGcLKCKpcvkDULTtLgbzoWPJC5irVby5/file [following]\n",
            "--2020-06-27 14:33:06--  https://uc495d1f19ad52bf808cd6e1d6fa.dl.dropboxusercontent.com/cd/0/inline2/A6eRH3HZJ6ZwyGzN0AoB8_NOKI1XarDqHaCR5sOle_E2oALO2eCwRAeUH2HQ9qlcE0IAunrlf8311-SnUEVI66hx5asByTNIu9cyVMOr3s4LWq-ztpfRpkP0cD5hV-47mZSmCvGyYWbiKwn8N2jwgwiDgDVvKjyG2qhRwH7IWwJK20C-5MxL2zZF6GF6nir726V7IWu_JEgECdNsfZ6ypqe7EPb_YW6uIhEdewMbqaF-fJ-t36GPTOWkuQpCLw1BhJecktLda4xrsghtGbfl4G8CKvloKXW3n_uFD6iiJV83Ox9zqk-w4J5luGcLKCKpcvkDULTtLgbzoWPJC5irVby5/file\n",
            "Reusing existing connection to uc495d1f19ad52bf808cd6e1d6fa.dl.dropboxusercontent.com:443.\n",
            "HTTP request sent, awaiting response... 200 OK\n",
            "Length: 1543812655 (1.4G) [application/octet-stream]\n",
            "Saving to: ‘ko.tar.gz’\n",
            "\n",
            "ko.tar.gz           100%[===================>]   1.44G  50.6MB/s    in 32s     \n",
            "\n",
            "2020-06-27 14:33:39 (45.5 MB/s) - ‘ko.tar.gz’ saved [1543812655/1543812655]\n",
            "\n"
          ],
          "name": "stdout"
        }
      ]
    },
    {
      "cell_type": "code",
      "metadata": {
        "id": "BXM8Tzr0zRCe",
        "colab_type": "code",
        "colab": {
          "base_uri": "https://localhost:8080/",
          "height": 51
        },
        "outputId": "72fdcf9b-c8f6-4066-c7dd-7c34b4e63a55"
      },
      "source": [
        "!tar xvfz ko.tar.gz"
      ],
      "execution_count": 17,
      "outputs": [
        {
          "output_type": "stream",
          "text": [
            "ko.bin\n",
            "ko.vec\n"
          ],
          "name": "stdout"
        }
      ]
    },
    {
      "cell_type": "code",
      "metadata": {
        "id": "BlFFD59C0Myf",
        "colab_type": "code",
        "colab": {
          "base_uri": "https://localhost:8080/",
          "height": 34
        },
        "outputId": "3091b04b-d7a6-4e7e-efe5-2356d77daf74"
      },
      "source": [
        "ls"
      ],
      "execution_count": 18,
      "outputs": [
        {
          "output_type": "stream",
          "text": [
            "ko.bin  ko.tar.gz  ko.vec\n"
          ],
          "name": "stdout"
        }
      ]
    },
    {
      "cell_type": "code",
      "metadata": {
        "id": "TqPJpL981GZB",
        "colab_type": "code",
        "colab": {
          "base_uri": "https://localhost:8080/",
          "height": 37
        },
        "outputId": "381d8a2d-8609-49e9-c038-cd278c46c3a2"
      },
      "source": [
        "# 기본 3.6.0 이다.\n",
        "import gensim\n",
        "gensim.__version__"
      ],
      "execution_count": 19,
      "outputs": [
        {
          "output_type": "execute_result",
          "data": {
            "application/vnd.google.colaboratory.intrinsic": {
              "type": "string"
            },
            "text/plain": [
              "'3.6.0'"
            ]
          },
          "metadata": {
            "tags": []
          },
          "execution_count": 19
        }
      ]
    },
    {
      "cell_type": "code",
      "metadata": {
        "id": "mNKdi8un067i",
        "colab_type": "code",
        "colab": {}
      },
      "source": [
        "model = gensim.models.FastText.load_fasttext_format('ko.bin', encoding='utf8')"
      ],
      "execution_count": 20,
      "outputs": []
    },
    {
      "cell_type": "code",
      "metadata": {
        "id": "1Yk1gbvd6OYk",
        "colab_type": "code",
        "colab": {
          "base_uri": "https://localhost:8080/",
          "height": 71
        },
        "outputId": "d136156d-9b20-4fe1-8cfe-66b36b0a72d8"
      },
      "source": [
        "kv = model.wv\n",
        "kv.save_word2vec_format('ko_ft.embd', binary=False)"
      ],
      "execution_count": 22,
      "outputs": [
        {
          "output_type": "stream",
          "text": [
            "/usr/local/lib/python3.6/dist-packages/smart_open/smart_open_lib.py:253: UserWarning: This function is deprecated, use smart_open.open instead. See the migration notes for details: https://github.com/RaRe-Technologies/smart_open/blob/master/README.rst#migrating-to-the-new-open-function\n",
            "  'See the migration notes for details: %s' % _MIGRATION_NOTES_URL\n"
          ],
          "name": "stderr"
        }
      ]
    },
    {
      "cell_type": "code",
      "metadata": {
        "id": "HTfdB57sNlqD",
        "colab_type": "code",
        "colab": {
          "base_uri": "https://localhost:8080/",
          "height": 34
        },
        "outputId": "c9d66fd9-73ee-4a5d-b8fc-9a57512003d9"
      },
      "source": [
        "ls"
      ],
      "execution_count": 23,
      "outputs": [
        {
          "output_type": "stream",
          "text": [
            "ko.bin  ko_ft.embd  ko.tar.gz  ko.vec\n"
          ],
          "name": "stdout"
        }
      ]
    },
    {
      "cell_type": "code",
      "metadata": {
        "id": "b2x51xyxNX5B",
        "colab_type": "code",
        "colab": {
          "base_uri": "https://localhost:8080/",
          "height": 102
        },
        "outputId": "665f1402-9232-44d5-9e06-4f3412deb919"
      },
      "source": [
        "!python -m spacy init-model ko ko_ft.spacy.embd --vectors-loc ko_ft.embd"
      ],
      "execution_count": 24,
      "outputs": [
        {
          "output_type": "stream",
          "text": [
            "\u001b[2K\u001b[38;5;2m✔ Successfully created model\u001b[0m\n",
            "30186it [00:01, 17396.02it/s]\n",
            "\u001b[2K\u001b[38;5;2m✔ Loaded vectors from ko_ft.embd\u001b[0m\n",
            "\u001b[38;5;2m✔ Sucessfully compiled vocab\u001b[0m\n",
            "30186 entries, 30186 vectors\n"
          ],
          "name": "stdout"
        }
      ]
    },
    {
      "cell_type": "code",
      "metadata": {
        "id": "h--FuAFXNtX_",
        "colab_type": "code",
        "colab": {
          "base_uri": "https://localhost:8080/",
          "height": 34
        },
        "outputId": "2cb0d72a-c2f1-4cde-f5ed-20aa12f48933"
      },
      "source": [
        "ls"
      ],
      "execution_count": 25,
      "outputs": [
        {
          "output_type": "stream",
          "text": [
            "ko.bin  ko_ft.embd  \u001b[0m\u001b[01;34mko_ft.spacy.embd\u001b[0m/  ko.tar.gz  ko.vec\n"
          ],
          "name": "stdout"
        }
      ]
    },
    {
      "cell_type": "code",
      "metadata": {
        "id": "HN9oQJ_zOAc6",
        "colab_type": "code",
        "colab": {}
      },
      "source": [
        "nlp_ko_ft = spacy.load('ko_ft.spacy.embd')"
      ],
      "execution_count": 72,
      "outputs": []
    },
    {
      "cell_type": "code",
      "metadata": {
        "id": "BjOVuaQHOGOm",
        "colab_type": "code",
        "colab": {}
      },
      "source": [
        "doc1 = nlp_ko_ft('안녕하세요') \n",
        "\n",
        "doc2 = nlp_ko_ft('안녕')\n",
        "\n",
        "doc3 = nlp_ko_ft('반갑다')\n",
        "\n",
        "doc4 = nlp_ko_ft('강아지')\n",
        "\n",
        "doc5 = nlp_ko_ft('겔럭시')\n",
        "\n",
        "doc6 = nlp_ko_ft('갤럭시')"
      ],
      "execution_count": 97,
      "outputs": []
    },
    {
      "cell_type": "code",
      "metadata": {
        "id": "BL9v2jNJOHk5",
        "colab_type": "code",
        "colab": {
          "base_uri": "https://localhost:8080/",
          "height": 34
        },
        "outputId": "698910fc-7151-4e77-dcf2-ce599b719f21"
      },
      "source": [
        "doc1.similarity(doc1)"
      ],
      "execution_count": 74,
      "outputs": [
        {
          "output_type": "execute_result",
          "data": {
            "text/plain": [
              "1.0"
            ]
          },
          "metadata": {
            "tags": []
          },
          "execution_count": 74
        }
      ]
    },
    {
      "cell_type": "code",
      "metadata": {
        "id": "jMZ4jLDUOeAe",
        "colab_type": "code",
        "colab": {
          "base_uri": "https://localhost:8080/",
          "height": 34
        },
        "outputId": "49e1b564-9f39-4f0b-faed-bf26ca0554f7"
      },
      "source": [
        "doc1.similarity(doc2)"
      ],
      "execution_count": 75,
      "outputs": [
        {
          "output_type": "execute_result",
          "data": {
            "text/plain": [
              "0.7138457031786868"
            ]
          },
          "metadata": {
            "tags": []
          },
          "execution_count": 75
        }
      ]
    },
    {
      "cell_type": "code",
      "metadata": {
        "id": "GlRYb29FOfsf",
        "colab_type": "code",
        "colab": {
          "base_uri": "https://localhost:8080/",
          "height": 34
        },
        "outputId": "10bb0dd1-1ae1-43c1-8ff0-a2af40667d64"
      },
      "source": [
        "doc1.similarity(doc3)"
      ],
      "execution_count": 76,
      "outputs": [
        {
          "output_type": "execute_result",
          "data": {
            "text/plain": [
              "0.4877349430003921"
            ]
          },
          "metadata": {
            "tags": []
          },
          "execution_count": 76
        }
      ]
    },
    {
      "cell_type": "code",
      "metadata": {
        "id": "HsOl8bgXOhf9",
        "colab_type": "code",
        "colab": {
          "base_uri": "https://localhost:8080/",
          "height": 34
        },
        "outputId": "c3e3545f-6035-4674-c987-3856df29354d"
      },
      "source": [
        "doc1.similarity(doc4)"
      ],
      "execution_count": 77,
      "outputs": [
        {
          "output_type": "execute_result",
          "data": {
            "text/plain": [
              "0.17381218978767257"
            ]
          },
          "metadata": {
            "tags": []
          },
          "execution_count": 77
        }
      ]
    },
    {
      "cell_type": "code",
      "metadata": {
        "id": "u4oRB_H8O4r5",
        "colab_type": "code",
        "colab": {
          "base_uri": "https://localhost:8080/",
          "height": 34
        },
        "outputId": "862f67af-d4b0-4146-ef87-9dcf4fbfdaa5"
      },
      "source": [
        "doc5.similarity(doc6)"
      ],
      "execution_count": 98,
      "outputs": [
        {
          "output_type": "execute_result",
          "data": {
            "text/plain": [
              "0.5286222579943097"
            ]
          },
          "metadata": {
            "tags": []
          },
          "execution_count": 98
        }
      ]
    },
    {
      "cell_type": "code",
      "metadata": {
        "id": "Eaw4M_fZO-3o",
        "colab_type": "code",
        "colab": {}
      },
      "source": [
        "# import the PCA module from sklearn\n",
        "from sklearn.decomposition import PCA\n",
        "\n",
        "import matplotlib.pyplot as plt\n",
        "\n",
        "def get_word_vectors(words, nlp):\n",
        "    # converts a list of words into their word vectors\n",
        "    return [nlp(word).vector for word in words]\n",
        "\n"
      ],
      "execution_count": 124,
      "outputs": []
    },
    {
      "cell_type": "code",
      "metadata": {
        "id": "0T2Zq-zrSiMy",
        "colab_type": "code",
        "colab": {}
      },
      "source": [
        "words = ['개', '고양이', '고냥이', '호랑이', '물고기', '어항', '서울', '부산', '소년', '소녀', '남자', '여자', '왕', '여왕']\n"
      ],
      "execution_count": 125,
      "outputs": []
    },
    {
      "cell_type": "code",
      "metadata": {
        "id": "6cEoOuyQSfRO",
        "colab_type": "code",
        "colab": {
          "base_uri": "https://localhost:8080/",
          "height": 680
        },
        "outputId": "156d4621-8126-4eb9-9fd7-8bc596c01ff8"
      },
      "source": [
        "pca = PCA(n_components=2)\n",
        "\n",
        "word_vecs_2d = pca.fit_transform(get_word_vectors(words, nlp_ko_ft))\n",
        "\n",
        "# create a nice big plot \n",
        "plt.figure(figsize=(10,10))\n",
        "\n",
        "# plot the scatter plot of where the words will be\n",
        "plt.scatter(word_vecs_2d[:,0], word_vecs_2d[:,1])\n",
        "\n",
        "# for each word and coordinate pair: draw the text on the plot\n",
        "for word, coord in zip(words, word_vecs_2d):\n",
        "    x, y = coord\n",
        "    plt.text(x, y, word, size= 15)\n",
        "\n",
        "# show the plot\n",
        "plt.show()"
      ],
      "execution_count": 126,
      "outputs": [
        {
          "output_type": "stream",
          "text": [
            "/usr/local/lib/python3.6/dist-packages/matplotlib/backends/backend_agg.py:214: RuntimeWarning: Glyph 8722 missing from current font.\n",
            "  font.set_text(s, 0.0, flags=flags)\n",
            "/usr/local/lib/python3.6/dist-packages/matplotlib/backends/backend_agg.py:183: RuntimeWarning: Glyph 8722 missing from current font.\n",
            "  font.set_text(s, 0, flags=flags)\n"
          ],
          "name": "stderr"
        },
        {
          "output_type": "display_data",
          "data": {
            "image/png": "[encoded data removed]",
            "text/plain": [
              "<Figure size 720x720 with 1 Axes>"
            ]
          },
          "metadata": {
            "tags": [],
            "needs_background": "light"
          }
        }
      ]
    },
    {
      "cell_type": "code",
      "metadata": {
        "id": "0TKKkiuBS6mE",
        "colab_type": "code",
        "colab": {
          "base_uri": "https://localhost:8080/",
          "height": 153
        },
        "outputId": "4d8ca441-08cc-419d-a595-c5748a2a168d"
      },
      "source": [
        "ls -al"
      ],
      "execution_count": 128,
      "outputs": [
        {
          "output_type": "stream",
          "text": [
            "total 3240904\n",
            "drwxr-xr-x 3 root root       4096 Jun 27 14:38 \u001b[0m\u001b[01;34m.\u001b[0m/\n",
            "drwxr-xr-x 6 root root       4096 Jun 27 12:42 \u001b[01;34m..\u001b[0m/\n",
            "-rw-rw-r-- 1 1000 1000 1648815483 Feb 27  2017 ko.bin\n",
            "-rw-r--r-- 1 root root   73354641 Jun 27 14:36 ko_ft.embd\n",
            "drwxr-xr-x 3 root root       4096 Jun 27 14:38 \u001b[01;34mko_ft.spacy.embd\u001b[0m/\n",
            "-rw-r--r-- 1 root root 1543812655 Jun 27 14:33 ko.tar.gz\n",
            "-rw-rw-r-- 1 1000 1000   52677684 Feb 27  2017 ko.vec\n"
          ],
          "name": "stdout"
        }
      ]
    },
    {
      "cell_type": "code",
      "metadata": {
        "id": "IvUWSYeJTXeM",
        "colab_type": "code",
        "colab": {
          "base_uri": "https://localhost:8080/",
          "height": 34
        },
        "outputId": "6b6dbe36-c118-4980-90e7-4c17ef6973ff"
      },
      "source": [
        "ls ../\n"
      ],
      "execution_count": 129,
      "outputs": [
        {
          "output_type": "stream",
          "text": [
            "\u001b[0m\u001b[01;34mko_ft\u001b[0m/  \u001b[01;34mko_wv\u001b[0m/  \u001b[01;34mko_wv_gensim\u001b[0m/  \u001b[01;34mko_wv_spacy\u001b[0m/\n"
          ],
          "name": "stdout"
        }
      ]
    },
    {
      "cell_type": "code",
      "metadata": {
        "id": "0aEaeAzQTZZD",
        "colab_type": "code",
        "colab": {}
      },
      "source": [
        "cp -r ko_ft/ko_ft.embd ko_ft_gensim/"
      ],
      "execution_count": 135,
      "outputs": []
    },
    {
      "cell_type": "code",
      "metadata": {
        "id": "8S1GGQeNTbk2",
        "colab_type": "code",
        "colab": {
          "base_uri": "https://localhost:8080/",
          "height": 34
        },
        "outputId": "cf746b84-4f9a-452f-f3ea-3d9e4fa87122"
      },
      "source": [
        "ls ko_ft_gensim/"
      ],
      "execution_count": 136,
      "outputs": [
        {
          "output_type": "stream",
          "text": [
            "ko_ft.embd\n"
          ],
          "name": "stdout"
        }
      ]
    },
    {
      "cell_type": "code",
      "metadata": {
        "id": "iBPazQgpTiR-",
        "colab_type": "code",
        "colab": {
          "base_uri": "https://localhost:8080/",
          "height": 204
        },
        "outputId": "f0e301a2-7fca-4bf4-9713-b2666ac00a9f"
      },
      "source": [
        "!git pull"
      ],
      "execution_count": 138,
      "outputs": [
        {
          "output_type": "stream",
          "text": [
            "remote: Enumerating objects: 19, done.\u001b[K\n",
            "remote: Counting objects:   5% (1/19)\u001b[K\rremote: Counting objects:  10% (2/19)\u001b[K\rremote: Counting objects:  15% (3/19)\u001b[K\rremote: Counting objects:  21% (4/19)\u001b[K\rremote: Counting objects:  26% (5/19)\u001b[K\rremote: Counting objects:  31% (6/19)\u001b[K\rremote: Counting objects:  36% (7/19)\u001b[K\rremote: Counting objects:  42% (8/19)\u001b[K\rremote: Counting objects:  47% (9/19)\u001b[K\rremote: Counting objects:  52% (10/19)\u001b[K\rremote: Counting objects:  57% (11/19)\u001b[K\rremote: Counting objects:  63% (12/19)\u001b[K\rremote: Counting objects:  68% (13/19)\u001b[K\rremote: Counting objects:  73% (14/19)\u001b[K\rremote: Counting objects:  78% (15/19)\u001b[K\rremote: Counting objects:  84% (16/19)\u001b[K\rremote: Counting objects:  89% (17/19)\u001b[K\rremote: Counting objects:  94% (18/19)\u001b[K\rremote: Counting objects: 100% (19/19)\u001b[K\rremote: Counting objects: 100% (19/19), done.\u001b[K\n",
            "remote: Compressing objects:   8% (1/12)\u001b[K\rremote: Compressing objects:  16% (2/12)\u001b[K\rremote: Compressing objects:  25% (3/12)\u001b[K\rremote: Compressing objects:  33% (4/12)\u001b[K\rremote: Compressing objects:  41% (5/12)\u001b[K\rremote: Compressing objects:  50% (6/12)\u001b[K\rremote: Compressing objects:  58% (7/12)\u001b[K\rremote: Compressing objects:  66% (8/12)\u001b[K\rremote: Compressing objects:  75% (9/12)\u001b[K\rremote: Compressing objects:  83% (10/12)\u001b[K\rremote: Compressing objects:  91% (11/12)\u001b[K\rremote: Compressing objects: 100% (12/12)\u001b[K\rremote: Compressing objects: 100% (12/12), done.\u001b[K\n",
            "remote: Total 15 (delta 5), reused 0 (delta 0), pack-reused 0\u001b[K\n",
            "Unpacking objects:   6% (1/15)   \rUnpacking objects:  13% (2/15)   \rUnpacking objects:  20% (3/15)   \rUnpacking objects:  26% (4/15)   \rUnpacking objects:  33% (5/15)   \rUnpacking objects:  40% (6/15)   \rUnpacking objects:  46% (7/15)   \rUnpacking objects:  53% (8/15)   \rUnpacking objects:  60% (9/15)   \rUnpacking objects:  66% (10/15)   \rUnpacking objects:  73% (11/15)   \rUnpacking objects:  80% (12/15)   \rUnpacking objects:  86% (13/15)   \rUnpacking objects:  93% (14/15)   \rUnpacking objects: 100% (15/15)   \rUnpacking objects: 100% (15/15), done.\n",
            "From https://github.com/babelPish/slaw\n",
            "   e405f6e..e793bd7  master     -> origin/master\n",
            "Updating e405f6e..e793bd7\n",
            "Fast-forward\n",
            " .../05_working_with_word_vectors.ipynb             | 834 \u001b[32m++++++++++++++++++++\u001b[m\u001b[31m-\u001b[m\n",
            " 1 file changed, 804 insertions(+), 30 deletions(-)\n"
          ],
          "name": "stdout"
        }
      ]
    },
    {
      "cell_type": "code",
      "metadata": {
        "id": "hEnRCQaXTxU0",
        "colab_type": "code",
        "colab": {}
      },
      "source": [
        ""
      ],
      "execution_count": null,
      "outputs": []
    }
  ]
}