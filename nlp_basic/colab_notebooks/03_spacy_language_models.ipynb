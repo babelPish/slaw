{
  "nbformat": 4,
  "nbformat_minor": 0,
  "metadata": {
    "colab": {
      "name": "03_spacy_language_models.ipynb",
      "provenance": [],
      "include_colab_link": true
    },
    "kernelspec": {
      "name": "python3",
      "display_name": "Python 3"
    }
  },
  "cells": [
    {
      "cell_type": "markdown",
      "metadata": {
        "id": "view-in-github",
        "colab_type": "text"
      },
      "source": [
        "<a href=\"https://colab.research.google.com/github/babelPish/slaw/blob/master/nlp_basic/colab_notebooks/03_spacy_language_models.ipynb\" target=\"_parent\"><img src=\"https://colab.research.google.com/assets/colab-badge.svg\" alt=\"Open In Colab\"/></a>"
      ]
    },
    {
      "cell_type": "markdown",
      "metadata": {
        "id": "c7fi1VXG9C6v",
        "colab_type": "text"
      },
      "source": [
        "#3. spaCy's Language Models\n",
        "* 바벨피쉬 : Slaw - NLP\n",
        "* 김무성"
      ]
    },
    {
      "cell_type": "code",
      "metadata": {
        "id": "WtLYFUIf9oPk",
        "colab_type": "code",
        "colab": {
          "base_uri": "https://localhost:8080/",
          "height": 35
        },
        "outputId": "80f42867-43b9-4cb6-9f44-4ec93df15268"
      },
      "source": [
        "!python -V"
      ],
      "execution_count": 6,
      "outputs": [
        {
          "output_type": "stream",
          "text": [
            "Python 3.6.8\n"
          ],
          "name": "stdout"
        }
      ]
    },
    {
      "cell_type": "markdown",
      "metadata": {
        "id": "7cYY4dC0-Auz",
        "colab_type": "text"
      },
      "source": [
        "#### 필요 패키지 설치"
      ]
    },
    {
      "cell_type": "code",
      "metadata": {
        "id": "VV29H2EM8Zfw",
        "colab_type": "code",
        "colab": {}
      },
      "source": [
        "#remove \" > /dev/null 2>&1\" to see what is going on under the hood\n",
        "!pip install -U spacy > /dev/null 2>&1"
      ],
      "execution_count": 0,
      "outputs": []
    },
    {
      "cell_type": "code",
      "metadata": {
        "id": "E9nH02_G-gmD",
        "colab_type": "code",
        "colab": {
          "base_uri": "https://localhost:8080/",
          "height": 35
        },
        "outputId": "26ecbe38-d25e-40a7-962d-6633cbe90a47"
      },
      "source": [
        "import spacy\n",
        "spacy.__version__"
      ],
      "execution_count": 9,
      "outputs": [
        {
          "output_type": "execute_result",
          "data": {
            "text/plain": [
              "'2.2.2'"
            ]
          },
          "metadata": {
            "tags": []
          },
          "execution_count": 9
        }
      ]
    }
  ]
}